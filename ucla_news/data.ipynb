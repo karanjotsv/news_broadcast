{
 "cells": [
  {
   "cell_type": "code",
   "execution_count": 1,
   "metadata": {},
   "outputs": [],
   "source": [
    "import os\n",
    "import cfg\n",
    "import csv\n",
    "import pandas as pd\n",
    "\n",
    "import pprint"
   ]
  },
  {
   "cell_type": "code",
   "execution_count": 2,
   "metadata": {},
   "outputs": [
    {
     "data": {
      "text/html": [
       "<div>\n",
       "<style scoped>\n",
       "    .dataframe tbody tr th:only-of-type {\n",
       "        vertical-align: middle;\n",
       "    }\n",
       "\n",
       "    .dataframe tbody tr th {\n",
       "        vertical-align: top;\n",
       "    }\n",
       "\n",
       "    .dataframe thead th {\n",
       "        text-align: right;\n",
       "    }\n",
       "</style>\n",
       "<table border=\"1\" class=\"dataframe\">\n",
       "  <thead>\n",
       "    <tr style=\"text-align: right;\">\n",
       "      <th></th>\n",
       "      <th>filename</th>\n",
       "      <th>uuid</th>\n",
       "      <th>subquery</th>\n",
       "      <th>time</th>\n",
       "      <th>text</th>\n",
       "      <th>permalink</th>\n",
       "    </tr>\n",
       "  </thead>\n",
       "  <tbody>\n",
       "    <tr>\n",
       "      <th>0</th>\n",
       "      <td>2022-12-31_2015_US_MSNBC_Morning_Joe.txt</td>\n",
       "      <td>ce432176-8947-11ed-94e9-089e01ba034d</td>\n",
       "      <td>environment</td>\n",
       "      <td>2022-12-31 20:47:17</td>\n",
       "      <td>IS REALLY HARD FOR\\nCOMPANIES ACROSS THE COUNT...</td>\n",
       "      <td>http://www.sscnet.ucla.edu/tna/edge/video,ce43...</td>\n",
       "    </tr>\n",
       "    <tr>\n",
       "      <th>1</th>\n",
       "      <td>2022-12-31_2000_US_FOX-News_The_Journal_Editor...</td>\n",
       "      <td>b5f7ce7a-8945-11ed-b9fc-089e01ba0338</td>\n",
       "      <td>fossil</td>\n",
       "      <td>2022-12-31 20:14:24</td>\n",
       "      <td>BEG VENEZUELA WE\\nDO NOT INCREASE PRODUCTION H...</td>\n",
       "      <td>http://www.sscnet.ucla.edu/tna/edge/video,b5f7...</td>\n",
       "    </tr>\n",
       "    <tr>\n",
       "      <th>2</th>\n",
       "      <td>2022-12-31_1700_US_CNN_CNN_Newsroom_With_Fredr...</td>\n",
       "      <td>91c395a2-892c-11ed-b597-089e01ba0338</td>\n",
       "      <td>environment</td>\n",
       "      <td>2022-12-31 17:20:55</td>\n",
       "      <td>RIGHT AMERICAN POLITICS.\\nWHEN IT COMES TO ABO...</td>\n",
       "      <td>http://www.sscnet.ucla.edu/tna/edge/video,91c3...</td>\n",
       "    </tr>\n",
       "  </tbody>\n",
       "</table>\n",
       "</div>"
      ],
      "text/plain": [
       "                                            filename  \\\n",
       "0           2022-12-31_2015_US_MSNBC_Morning_Joe.txt   \n",
       "1  2022-12-31_2000_US_FOX-News_The_Journal_Editor...   \n",
       "2  2022-12-31_1700_US_CNN_CNN_Newsroom_With_Fredr...   \n",
       "\n",
       "                                   uuid     subquery                 time  \\\n",
       "0  ce432176-8947-11ed-94e9-089e01ba034d  environment  2022-12-31 20:47:17   \n",
       "1  b5f7ce7a-8945-11ed-b9fc-089e01ba0338       fossil  2022-12-31 20:14:24   \n",
       "2  91c395a2-892c-11ed-b597-089e01ba0338  environment  2022-12-31 17:20:55   \n",
       "\n",
       "                                                text  \\\n",
       "0  IS REALLY HARD FOR\\nCOMPANIES ACROSS THE COUNT...   \n",
       "1  BEG VENEZUELA WE\\nDO NOT INCREASE PRODUCTION H...   \n",
       "2  RIGHT AMERICAN POLITICS.\\nWHEN IT COMES TO ABO...   \n",
       "\n",
       "                                           permalink  \n",
       "0  http://www.sscnet.ucla.edu/tna/edge/video,ce43...  \n",
       "1  http://www.sscnet.ucla.edu/tna/edge/video,b5f7...  \n",
       "2  http://www.sscnet.ucla.edu/tna/edge/video,91c3...  "
      ]
     },
     "execution_count": 2,
     "metadata": {},
     "output_type": "execute_result"
    }
   ],
   "source": [
    "meta = pd.read_csv(\"meta_climate.csv\")\n",
    "\n",
    "# remove duplicates\n",
    "meta = meta.drop_duplicates(subset=[\"filename\"]).reset_index(drop=True)\n",
    "\n",
    "meta.head(3)"
   ]
  },
  {
   "cell_type": "code",
   "execution_count": 3,
   "metadata": {},
   "outputs": [
    {
     "data": {
      "text/plain": [
       "(88232, 6)"
      ]
     },
     "execution_count": 3,
     "metadata": {},
     "output_type": "execute_result"
    }
   ],
   "source": [
    "meta.shape"
   ]
  },
  {
   "cell_type": "code",
   "execution_count": 4,
   "metadata": {},
   "outputs": [],
   "source": [
    "cues, data = [\"|CC1|\", \"|SEG_00|\", \"Type=Commercial\", \"Type=Story start\"], []\n",
    "\n",
    "for ind in range(10):\n",
    "    try:\n",
    "        ent = meta.iloc[ind].filename.split(\"-\")\n",
    "\n",
    "        # date entities\n",
    "        path = [ent[0], ent[1], \"-\".join(ent[2 : ]).split(\"_\")[0], \"_\".join(\"-\".join(ent[2 : ]).split(\"_\")[1 : ])]\n",
    "        # filepath\n",
    "        f_path = os.path.join(cfg.TV_PATH, path[0], \"-\".join(path[ : 2]), \"-\".join(path[ : 3]), meta.iloc[ind].filename)\n",
    "        # read text file\n",
    "        with open(f_path) as f: lines = f.read()\n",
    "\n",
    "        stories, meta_stories = [story.split(\"\\n\")[1 : ] for story in lines.split(cues[1]) if cues[3] in story], []\n",
    "\n",
    "        for story in stories:\n",
    "            trs = \" \".join([line.split(cues[0])[-1] for line in story]).replace(\">>\", \"\")\n",
    "\n",
    "            if any([key.upper() in trs for key in cfg.KEYS[\"climate_change\"]]):\n",
    "\n",
    "                meta_story = {\n",
    "                    \"file_path\": f_path, \n",
    "                    \"trs\": trs,\n",
    "                    \"start\": story[0].split(cues[0])[0].split(\"|\")[0],\n",
    "                    \"end\": story[-1].split(\"|\")[0]\n",
    "                    }\n",
    "                meta_stories.append(meta_story)\n",
    "        \n",
    "        data.extend(meta_stories)\n",
    "    \n",
    "    except: pass"
   ]
  },
  {
   "cell_type": "code",
   "execution_count": 8,
   "metadata": {},
   "outputs": [],
   "source": [
    "import json\n",
    "\n",
    "with open(\"climate.json\", 'w') as f:\n",
    "    json.dump(data, f, indent=4)"
   ]
  },
  {
   "cell_type": "code",
   "execution_count": null,
   "metadata": {},
   "outputs": [],
   "source": []
  }
 ],
 "metadata": {
  "kernelspec": {
   "display_name": "multimod",
   "language": "python",
   "name": "python3"
  },
  "language_info": {
   "codemirror_mode": {
    "name": "ipython",
    "version": 3
   },
   "file_extension": ".py",
   "mimetype": "text/x-python",
   "name": "python",
   "nbconvert_exporter": "python",
   "pygments_lexer": "ipython3",
   "version": "3.11.3"
  },
  "orig_nbformat": 4
 },
 "nbformat": 4,
 "nbformat_minor": 2
}
