{
 "cells": [
  {
   "cell_type": "code",
   "execution_count": 1,
   "metadata": {},
   "outputs": [],
   "source": [
    "# https://charlesreid1.github.io/circe/Digit%20Classification%20-%20PCA%20and%20SVC.html\n"
   ]
  },
  {
   "cell_type": "code",
   "execution_count": 2,
   "metadata": {},
   "outputs": [],
   "source": [
    "%matplotlib inline\n",
    "\n",
    "import numpy as np\n",
    "\n",
    "# plots\n",
    "import matplotlib.pyplot as plt\n",
    "from matplotlib.pyplot import *\n",
    "import seaborn as sns\n",
    "\n",
    "# utils\n",
    "import os, re\n",
    "from pprint import pprint"
   ]
  },
  {
   "cell_type": "code",
   "execution_count": 3,
   "metadata": {},
   "outputs": [],
   "source": [
    "from sklearn.preprocessing import StandardScaler\n",
    "from sklearn.decomposition import PCA\n",
    "\n",
    "from sklearn.svm import SVC\n",
    "from sklearn.pipeline import Pipeline\n",
    "\n",
    "from sklearn.model_selection import train_test_split, cross_val_score\n",
    "from sklearn.metrics import confusion_matrix, classification_report, accuracy_score\n"
   ]
  },
  {
   "cell_type": "code",
   "execution_count": 4,
   "metadata": {},
   "outputs": [
    {
     "name": "stdout",
     "output_type": "stream",
     "text": [
      "acoustic: (1441, 64) labels: (1441, 1)\n"
     ]
    }
   ],
   "source": [
    "# load data\n",
    "\n",
    "FEATURES_PATH = \"../feature\"\n",
    "\n",
    "aco, label = np.load(f\"{FEATURES_PATH}/acoustic_0.npy\"), np.load(F\"{FEATURES_PATH}/label_0.npy\").reshape(-1, 1)\n",
    "\n",
    "for i in range(1, 6):\n",
    "    # load chunk\n",
    "    aco_i, label_i = np.load(f\"{FEATURES_PATH}/acoustic_{i}.npy\"), np.load(F\"{FEATURES_PATH}/label_{i}.npy\")\n",
    "    # stack\n",
    "    aco, label = np.vstack((aco, aco_i)), np.vstack((label, label_i.reshape(-1, 1)))\n",
    "\n",
    "\n",
    "print(f\"acoustic: {aco.shape}\", f\"labels: {label.shape}\")\n"
   ]
  },
  {
   "cell_type": "code",
   "execution_count": 5,
   "metadata": {},
   "outputs": [
    {
     "name": "stdout",
     "output_type": "stream",
     "text": [
      "(1152, 64) (1152,)\n"
     ]
    }
   ],
   "source": [
    "x_train, x_test, y_train, y_test = train_test_split(aco, label.ravel(), random_state=101, test_size=0.2)\n",
    "\n",
    "print(x_train.shape, y_train.shape)\n"
   ]
  },
  {
   "cell_type": "code",
   "execution_count": 6,
   "metadata": {},
   "outputs": [],
   "source": [
    "# transform into reduced dimension space\n",
    "\n",
    "n = 10\n",
    "pca_50 = PCA(n_components=n, whiten=True)\n",
    "\n",
    "pca_50.fit(x_train)\n",
    "x_red = pca_50.transform(x_train)\n"
   ]
  },
  {
   "cell_type": "code",
   "execution_count": 41,
   "metadata": {},
   "outputs": [],
   "source": [
    "steps = [\n",
    "    ('PCA', PCA(n_components=30)),\n",
    "    ('scaler', StandardScaler()),\n",
    "    ('SVM', SVC(kernel='rbf'))\n",
    "    ]\n",
    "        \n",
    "# pipeline\n",
    "pipeline = Pipeline(steps)\n",
    "\n",
    "svc = pipeline.fit(x_train, y_train)\n"
   ]
  },
  {
   "cell_type": "code",
   "execution_count": 42,
   "metadata": {},
   "outputs": [
    {
     "name": "stdout",
     "output_type": "stream",
     "text": [
      "---- train accuracy 85.24305555555556 ----\n"
     ]
    }
   ],
   "source": [
    "train_acc = float(svc.score(x_train, y_train) * 100)\n",
    "\n",
    "print(\"---- train accuracy %s ----\" % train_acc)"
   ]
  },
  {
   "cell_type": "code",
   "execution_count": 43,
   "metadata": {},
   "outputs": [],
   "source": [
    "predictions = svc.predict(x_test)\n"
   ]
  },
  {
   "cell_type": "code",
   "execution_count": 52,
   "metadata": {},
   "outputs": [],
   "source": [
    "label_map = {\n",
    "    1: \"neutral\", \n",
    "    2: \"calm\", \n",
    "    3: \"happy\", \n",
    "    4: \"sad\", \n",
    "    5: \"angry\", \n",
    "    6: \"fearful\", \n",
    "    7: \"disgust\", \n",
    "    8: \"surprised\"\n",
    "    }\n"
   ]
  },
  {
   "cell_type": "code",
   "execution_count": 45,
   "metadata": {},
   "outputs": [
    {
     "name": "stdout",
     "output_type": "stream",
     "text": [
      "              precision    recall  f1-score   support\n",
      "\n",
      "           1       0.60      0.15      0.24        20\n",
      "           2       0.52      0.78      0.62        36\n",
      "           3       0.71      0.61      0.66        33\n",
      "           4       0.58      0.54      0.56        46\n",
      "           5       0.80      0.80      0.80        41\n",
      "           6       0.62      0.70      0.66        37\n",
      "           7       0.59      0.56      0.58        39\n",
      "           8       0.62      0.65      0.63        37\n",
      "\n",
      "    accuracy                           0.63       289\n",
      "   macro avg       0.63      0.60      0.59       289\n",
      "weighted avg       0.63      0.63      0.62       289\n",
      "\n",
      "---- accuracy score 62.629757785467135 ----\n"
     ]
    },
    {
     "data": {
      "image/png": "[encoded data removed]",
      "text/plain": [
       "<Figure size 640x480 with 2 Axes>"
      ]
     },
     "metadata": {},
     "output_type": "display_data"
    }
   ],
   "source": [
    "# performance validation\n",
    "\n",
    "import pandas as pd\n",
    "\n",
    "print(classification_report(y_test, predictions))\n",
    "\n",
    "acc = float(accuracy_score(y_test, predictions)) * 100\n",
    "print(\"---- accuracy score %s ----\" % acc)\n",
    "\n",
    "cm = confusion_matrix(y_test, predictions)\n",
    "df_cm = pd.DataFrame(cm)\n",
    "sns.heatmap(df_cm, annot=True, fmt='')\n",
    "plt.show()\n"
   ]
  },
  {
   "cell_type": "code",
   "execution_count": 13,
   "metadata": {},
   "outputs": [
    {
     "name": "stdout",
     "output_type": "stream",
     "text": [
      "50-component PCA accuracy: 35.59 %\n"
     ]
    }
   ],
   "source": [
    "'''\n",
    "total = pca_cm.sum(axis=None)\n",
    "correct = pca_cm.diagonal().sum()\n",
    "\n",
    "print(\"50-component PCA accuracy: %0.2f %%\"%(100.0 * correct / total))\n",
    "'''\n"
   ]
  },
  {
   "cell_type": "code",
   "execution_count": 54,
   "metadata": {},
   "outputs": [],
   "source": [
    "feat = np.load(\"news/features.npy\")\n",
    "\n",
    "clip_predictions = svc.predict(feat)\n",
    "\n",
    "label_predictions = [label_map[i] for i in clip_predictions]\n"
   ]
  },
  {
   "cell_type": "code",
   "execution_count": 56,
   "metadata": {},
   "outputs": [],
   "source": [
    "import json\n",
    "\n",
    "f = open(\"news/phrases.json\")\n",
    "\n",
    "phrases = json.load(f)"
   ]
  },
  {
   "cell_type": "code",
   "execution_count": 59,
   "metadata": {},
   "outputs": [],
   "source": [
    "label_phrases = []\n",
    "\n",
    "for lab, phrase in zip(label_predictions, phrases):\n",
    "\n",
    "    phrase['emotion'] = lab\n",
    "    label_phrases.append(phrase) \n"
   ]
  },
  {
   "cell_type": "code",
   "execution_count": 63,
   "metadata": {},
   "outputs": [],
   "source": [
    "with open(\"news/fox_phrases.json\", 'w') as f:\n",
    "    json.dump(label_phrases, f, indent=4)\n"
   ]
  },
  {
   "cell_type": "code",
   "execution_count": null,
   "metadata": {},
   "outputs": [],
   "source": []
  }
 ],
 "metadata": {
  "kernelspec": {
   "display_name": "multimod",
   "language": "python",
   "name": "python3"
  },
  "language_info": {
   "codemirror_mode": {
    "name": "ipython",
    "version": 3
   },
   "file_extension": ".py",
   "mimetype": "text/x-python",
   "name": "python",
   "nbconvert_exporter": "python",
   "pygments_lexer": "ipython3",
   "version": "3.11.3"
  },
  "orig_nbformat": 4
 },
 "nbformat": 4,
 "nbformat_minor": 2
}
