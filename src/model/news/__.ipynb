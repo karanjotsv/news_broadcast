{
 "cells": [
  {
   "cell_type": "code",
   "execution_count": 1,
   "metadata": {},
   "outputs": [],
   "source": [
    "# !pip install -U -q openai-whisper\n",
    "\n",
    "import warnings\n",
    "warnings.filterwarnings('ignore')"
   ]
  },
  {
   "cell_type": "code",
   "execution_count": 10,
   "metadata": {},
   "outputs": [],
   "source": [
    "import whisper\n",
    "import torch \n",
    "import librosa\n",
    "\n",
    "import numpy as np\n",
    "\n",
    "# device = \"cuda\" if torch.cuda.is_available() else \"cpu\"\n",
    "\n",
    "model = whisper.load_model(\"base\").to(\"cpu\")"
   ]
  },
  {
   "cell_type": "code",
   "execution_count": 31,
   "metadata": {},
   "outputs": [],
   "source": [
    "def get_phrases(segments):\n",
    "  phrases, ini = [], ''\n",
    "\n",
    "  for i, seg in enumerate(segments):\n",
    "\n",
    "    if not len(ini) and '.' in seg['text']:\n",
    "      phrases.append({\n",
    "          'text': seg['text'].strip(),\n",
    "          'start': round(seg['start'], 2),\n",
    "          'end': round(seg['end'], 2)\n",
    "      })\n",
    "      ini = ''\n",
    "      continue\n",
    "\n",
    "    elif not len(ini):\n",
    "      ini, start = seg['text'], round(seg['start'], 2)   \n",
    "      continue\n",
    "\n",
    "    ini += seg['text']\n",
    "\n",
    "    if '.' in seg['text']:\n",
    "      phrases.append({\n",
    "          'text': ini.strip(),\n",
    "          'start': start,\n",
    "          'end': round(seg['end'], 2)\n",
    "      })\n",
    "      ini = ''\n",
    "    \n",
    "  return phrases\n",
    "\n",
    "\n",
    "def transcribe(path):\n",
    "  text = model.transcribe(path)\n",
    "  # phrase-level segments\n",
    "  phrases = get_phrases(text['segments'])\n",
    "\n",
    "  return phrases\n",
    "\n",
    "\n",
    "def extract_mfcc(path, mfcc=True):\n",
    "    '''extract MFCC'''\n",
    "    X, sample_rate = librosa.load(path)\n",
    "    # remove silence \n",
    "    X, _ = librosa.effects.trim(X) \n",
    "    \n",
    "    if mfcc:\n",
    "        mfccs=np.mean(librosa.feature.mfcc(y=X, sr=sample_rate, n_mfcc=64).T, axis=0)\n",
    "        result=np.hstack((mfccs))\n",
    "\n",
    "        return result\n",
    "    else:\n",
    "        return None\n",
    "    "
   ]
  },
  {
   "cell_type": "code",
   "execution_count": 5,
   "metadata": {},
   "outputs": [],
   "source": [
    "f_name = \"pro_NBC.mp4\"\n",
    "\n",
    "phrases = transcribe(f_name)"
   ]
  },
  {
   "cell_type": "code",
   "execution_count": 6,
   "metadata": {},
   "outputs": [
    {
     "data": {
      "text/plain": [
       "[{'text': 'But we begin tonight with a tragedy that is unique to America.',\n",
       "  'start': 0.0,\n",
       "  'end': 4.52},\n",
       " {'text': 'Another school massacre, this time in Nashville, Tennessee, where a 28-year-old woman shot and killed three students and three staff members at a private Christian school.',\n",
       "  'start': 4.52,\n",
       "  'end': 15.32},\n",
       " {'text': 'The shooter was armed with two assault-style rifles and a handgun.',\n",
       "  'start': 15.32,\n",
       "  'end': 19.64},\n",
       " {'text': 'The Nashville Police Department said the shooter was a former student at the school who identifies as trans.',\n",
       "  'start': 19.64,\n",
       "  'end': 26.92},\n",
       " {'text': 'The children who were fatally shot are Evelyn Dijkhaus, Halley Scruggs, and William Kinney, all elementary school age.',\n",
       "  'start': 26.92,\n",
       "  'end': 35.32}]"
      ]
     },
     "execution_count": 6,
     "metadata": {},
     "output_type": "execute_result"
    }
   ],
   "source": [
    "phrases[ : 5]"
   ]
  },
  {
   "cell_type": "code",
   "execution_count": 32,
   "metadata": {},
   "outputs": [],
   "source": [
    "import subprocess\n",
    "\n",
    "def convert_wav(path):\n",
    "    command = f\"ffmpeg -loglevel quiet -y -i {path} -acodec pcm_s16le __.mp3\" \n",
    "\n",
    "    subprocess.call(command, shell=True)\n",
    "\n",
    "\n",
    "features = []\n",
    "\n",
    "for i, phrase in enumerate(phrases):\n",
    "    \n",
    "    cmd = [\"ffmpeg\", \"-loglevel\", \"quiet\", \"-y\", \"-i\", f_name, \"-ss\", str(phrase['start']), \"-to\", str(phrase['end']), \"-c\", \"copy\", \"__.mp4\"]\n",
    "    subprocess.run(cmd, stderr=subprocess.STDOUT)\n",
    "    \n",
    "    features.append(extract_mfcc(\"__.mp4\"))\n"
   ]
  },
  {
   "cell_type": "code",
   "execution_count": 34,
   "metadata": {},
   "outputs": [
    {
     "name": "stdout",
     "output_type": "stream",
     "text": [
      "119 119\n"
     ]
    }
   ],
   "source": [
    "print(len(features), len(phrases))"
   ]
  },
  {
   "cell_type": "code",
   "execution_count": 37,
   "metadata": {},
   "outputs": [],
   "source": [
    "import json \n",
    "\n",
    "np.save(\"features\", np.array(features))\n",
    "\n",
    "# _ = json.dumps(phrases, indent = 4)\n",
    "\n",
    "with open(\"phrases.json\", 'w') as f:\n",
    "    json.dump(phrases, f)\n"
   ]
  },
  {
   "cell_type": "code",
   "execution_count": 39,
   "metadata": {},
   "outputs": [
    {
     "data": {
      "text/plain": [
       "(119, 64)"
      ]
     },
     "execution_count": 39,
     "metadata": {},
     "output_type": "execute_result"
    }
   ],
   "source": [
    "np.array(features).shape"
   ]
  },
  {
   "cell_type": "code",
   "execution_count": null,
   "metadata": {},
   "outputs": [],
   "source": []
  }
 ],
 "metadata": {
  "kernelspec": {
   "display_name": "multimod",
   "language": "python",
   "name": "python3"
  },
  "language_info": {
   "codemirror_mode": {
    "name": "ipython",
    "version": 3
   },
   "file_extension": ".py",
   "mimetype": "text/x-python",
   "name": "python",
   "nbconvert_exporter": "python",
   "pygments_lexer": "ipython3",
   "version": "3.11.3"
  },
  "orig_nbformat": 4
 },
 "nbformat": 4,
 "nbformat_minor": 2
}
