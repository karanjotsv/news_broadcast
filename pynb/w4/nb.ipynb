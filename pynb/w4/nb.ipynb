{
 "cells": [
  {
   "attachments": {},
   "cell_type": "markdown",
   "metadata": {},
   "source": [
    "week4 objectives:\n",
    "1. topic extraction on an MSNBC gun-control story \n",
    "2. compare topics with the FNC story(last 3 weeks)\n",
    "4. script for topic extraction"
   ]
  },
  {
   "cell_type": "code",
   "execution_count": 1,
   "metadata": {},
   "outputs": [],
   "source": [
    "import os\n",
    "\n",
    "import warnings\n",
    "warnings.filterwarnings('ignore')\n",
    "\n",
    "os.environ['TF_CPP_MIN_LOG_LEVEL'] = '3' \n",
    "import tensorflow as tf\n"
   ]
  },
  {
   "cell_type": "code",
   "execution_count": 2,
   "metadata": {},
   "outputs": [],
   "source": [
    "import json\n",
    "\n",
    "with open(\"../w1/meta/transcript.json\") as f:\n",
    "    data = json.load(f)"
   ]
  },
  {
   "cell_type": "code",
   "execution_count": 3,
   "metadata": {},
   "outputs": [],
   "source": [
    "data = data[\"pro_nbc.mp4\"]"
   ]
  },
  {
   "cell_type": "code",
   "execution_count": 4,
   "metadata": {},
   "outputs": [],
   "source": [
    "def get_sentences(segments):\n",
    "    '''\n",
    "    merge segments to sentences\n",
    "    '''\n",
    "    sentences, temp = [], \"\"\n",
    "\n",
    "    for _, i  in enumerate(segments):\n",
    "        # with period\n",
    "        if not len(temp) and \".\" in i['text']:\n",
    "            \n",
    "            sentences.append({\n",
    "                'text': i['text'].strip(),\n",
    "                'start': round(i['start'], 3),\n",
    "                'end': round(i['end'], 3)\n",
    "            }) \n",
    "            \n",
    "            continue\n",
    "        # first condition fails\n",
    "        elif not len(temp):\n",
    "\n",
    "            temp, start = i['text'], round(i['start'], 3)\n",
    "\n",
    "            continue\n",
    "\n",
    "        temp += i['text']\n",
    "\n",
    "        if \".\" in i['text']:\n",
    "\n",
    "            sentences.append({\n",
    "                'text': temp.strip(),\n",
    "                'start': start,\n",
    "                'end': round(i['end'], 3)\n",
    "            })\n",
    "            temp = \"\"\n",
    "    \n",
    "    return sentences\n"
   ]
  },
  {
   "cell_type": "code",
   "execution_count": 5,
   "metadata": {},
   "outputs": [],
   "source": [
    "sentences = get_sentences(data)"
   ]
  },
  {
   "cell_type": "code",
   "execution_count": 6,
   "metadata": {},
   "outputs": [
    {
     "data": {
      "text/plain": [
       "[{'text': 'But we begin tonight with a tragedy that is unique to America.',\n",
       "  'start': 0.0,\n",
       "  'end': 4.3},\n",
       " {'text': 'Another school massacre, this time in Nashville, Tennessee, where a 28-year-old woman shot and killed three students and three staff members at a private Christian school.',\n",
       "  'start': 4.3,\n",
       "  'end': 15.0},\n",
       " {'text': 'The shooter was armed with two assault-style rifles and a handgun.',\n",
       "  'start': 15.0,\n",
       "  'end': 19.3},\n",
       " {'text': 'The Nashville Police Department said the shooter was a former student at the school who identifies as trans.',\n",
       "  'start': 19.3,\n",
       "  'end': 26.6},\n",
       " {'text': 'The children who were fatally shot are Evelyn Dykhouse, Hallie Scruggs, and William Kinney, all elementary school age.',\n",
       "  'start': 26.8,\n",
       "  'end': 35.2}]"
      ]
     },
     "execution_count": 6,
     "metadata": {},
     "output_type": "execute_result"
    }
   ],
   "source": [
    "sentences[ : 5]"
   ]
  },
  {
   "cell_type": "code",
   "execution_count": 7,
   "metadata": {},
   "outputs": [
    {
     "name": "stderr",
     "output_type": "stream",
     "text": [
      "[nltk_data] Downloading package stopwords to\n",
      "[nltk_data]     /home/karanjot/nltk_data...\n",
      "[nltk_data]   Package stopwords is already up-to-date!\n",
      "[nltk_data] Downloading package punkt to /home/karanjot/nltk_data...\n",
      "[nltk_data]   Package punkt is already up-to-date!\n",
      "[nltk_data] Downloading package averaged_perceptron_tagger to\n",
      "[nltk_data]     /home/karanjot/nltk_data...\n",
      "[nltk_data]   Package averaged_perceptron_tagger is already up-to-\n",
      "[nltk_data]       date!\n"
     ]
    }
   ],
   "source": [
    "import nltk\n",
    "\n",
    "nltk.download('stopwords')\n",
    "nltk.download('punkt')\n",
    "nltk.download('averaged_perceptron_tagger')\n",
    "\n",
    "from nltk.tag import pos_tag\n",
    "\n",
    "import yake\n"
   ]
  },
  {
   "cell_type": "code",
   "execution_count": 8,
   "metadata": {},
   "outputs": [],
   "source": [
    "def get_meta(sentence):\n",
    "    '''\n",
    "    fetch keywords and nouns\n",
    "    '''\n",
    "    extractor = yake.KeywordExtractor()\n",
    "    words = extractor.extract_keywords(sentence)\n",
    "\n",
    "    words = [i[0] for i in words if i[1] > 0.05 and len(i[0].split()) == 1]\n",
    "\n",
    "    tagged_senten = pos_tag(sentence.split())\n",
    "    \n",
    "    proper_nouns = [word for word, pos in tagged_senten if pos == 'NNP']\n",
    "\n",
    "    return [words, proper_nouns]\n",
    "    "
   ]
  },
  {
   "cell_type": "code",
   "execution_count": 9,
   "metadata": {},
   "outputs": [],
   "source": [
    "def make_chunks(sentences, dur=5.0):\n",
    "  i, chunks = 0, []\n",
    "\n",
    "  while i < len(sentences):\n",
    "    # check duration\n",
    "    phrase, start, end = sentences[i]['text'], sentences[i]['start'], sentences[i]['end']\n",
    "\n",
    "    while end - start < dur:\n",
    "      i += 1\n",
    "      try:\n",
    "        phrase, end = phrase + ' ' + sentences[i]['text'], sentences[i]['end']\n",
    "      except IndexError: break\n",
    "\n",
    "    words, nouns = get_meta(phrase.strip())\n",
    "      \n",
    "    chunks.append({\n",
    "        'text': phrase.strip(),\n",
    "        'start': round(start, 3),\n",
    "        'end': round(end, 3),\n",
    "        'words': words,\n",
    "        'nouns': nouns\n",
    "    })\n",
    "    i += 1\n",
    "\n",
    "  return chunks\n"
   ]
  },
  {
   "cell_type": "code",
   "execution_count": 10,
   "metadata": {},
   "outputs": [],
   "source": [
    "chunks = make_chunks(data, 5.0)"
   ]
  },
  {
   "cell_type": "code",
   "execution_count": 11,
   "metadata": {},
   "outputs": [
    {
     "data": {
      "text/plain": [
       "[{'text': 'But we begin tonight with a tragedy that is unique to America.  Another school massacre, this time in Nashville, Tennessee,',\n",
       "  'start': 0.0,\n",
       "  'end': 7.9,\n",
       "  'words': ['America',\n",
       "   'Tennessee',\n",
       "   'Nashville',\n",
       "   'begin',\n",
       "   'tonight',\n",
       "   'tragedy',\n",
       "   'unique',\n",
       "   'massacre',\n",
       "   'school',\n",
       "   'time'],\n",
       "  'nouns': ['America.', 'Nashville,', 'Tennessee,']},\n",
       " {'text': 'where a 28-year-old woman shot and killed three students  and three staff members at a private Christian school.',\n",
       "  'start': 7.9,\n",
       "  'end': 15.0,\n",
       "  'words': ['Christian',\n",
       "   'woman',\n",
       "   'school',\n",
       "   'shot',\n",
       "   'killed',\n",
       "   'students',\n",
       "   'staff',\n",
       "   'members',\n",
       "   'private'],\n",
       "  'nouns': []}]"
      ]
     },
     "execution_count": 11,
     "metadata": {},
     "output_type": "execute_result"
    }
   ],
   "source": [
    "chunks[ : 2]"
   ]
  },
  {
   "cell_type": "code",
   "execution_count": 20,
   "metadata": {},
   "outputs": [],
   "source": [
    "data = chunks"
   ]
  },
  {
   "cell_type": "code",
   "execution_count": 21,
   "metadata": {},
   "outputs": [],
   "source": [
    "from sentence_transformers import SentenceTransformer\n",
    "\n",
    "\n",
    "# paraphrase-multilingual-mpnet-base-v2\n",
    "\n",
    "sentenc_model = SentenceTransformer('distilbert-base-nli-mean-tokens')"
   ]
  },
  {
   "cell_type": "code",
   "execution_count": 22,
   "metadata": {},
   "outputs": [
    {
     "name": "stderr",
     "output_type": "stream",
     "text": [
      "Batches: 100%|██████████| 3/3 [00:00<00:00,  7.53it/s]\n"
     ]
    },
    {
     "data": {
      "text/plain": [
       "(92, 768)"
      ]
     },
     "execution_count": 22,
     "metadata": {},
     "output_type": "execute_result"
    }
   ],
   "source": [
    "# extract embeddings\n",
    "embeddings = sentenc_model.encode([i['text'] for i in data], show_progress_bar=True)\n",
    "\n",
    "embeddings.shape  # num of phrases = 244"
   ]
  },
  {
   "cell_type": "code",
   "execution_count": 23,
   "metadata": {},
   "outputs": [],
   "source": [
    "# stitched together\n",
    "import umap\n",
    "import hdbscan\n",
    "from bertopic import BERTopic\n",
    "\n",
    "from sklearn.feature_extraction.text import CountVectorizer\n",
    "\n",
    "# sub models\n",
    "vectorizer = CountVectorizer(stop_words='english')\n",
    "\n",
    "reduc_model = umap.UMAP(n_neighbors=5, n_components=25, metric='cosine')\n",
    "clustr_model = hdbscan.HDBSCAN(min_cluster_size=5)\n",
    "\n",
    "model = BERTopic(embedding_model=sentenc_model, \n",
    "                 umap_model=reduc_model, \n",
    "                 hdbscan_model=clustr_model, \n",
    "                 vectorizer_model=vectorizer).fit([i['text'] for i in data], embeddings)"
   ]
  },
  {
   "cell_type": "code",
   "execution_count": 24,
   "metadata": {},
   "outputs": [
    {
     "data": {
      "text/html": [
       "<div>\n",
       "<style scoped>\n",
       "    .dataframe tbody tr th:only-of-type {\n",
       "        vertical-align: middle;\n",
       "    }\n",
       "\n",
       "    .dataframe tbody tr th {\n",
       "        vertical-align: top;\n",
       "    }\n",
       "\n",
       "    .dataframe thead th {\n",
       "        text-align: right;\n",
       "    }\n",
       "</style>\n",
       "<table border=\"1\" class=\"dataframe\">\n",
       "  <thead>\n",
       "    <tr style=\"text-align: right;\">\n",
       "      <th></th>\n",
       "      <th>Topic</th>\n",
       "      <th>Count</th>\n",
       "      <th>Name</th>\n",
       "      <th>Representation</th>\n",
       "      <th>Representative_Docs</th>\n",
       "    </tr>\n",
       "  </thead>\n",
       "  <tbody>\n",
       "    <tr>\n",
       "      <th>0</th>\n",
       "      <td>-1</td>\n",
       "      <td>34</td>\n",
       "      <td>-1_guns_children_like_ar</td>\n",
       "      <td>[guns, children, like, ar, today, school, book...</td>\n",
       "      <td>[But the rest of them have guns. And this has ...</td>\n",
       "    </tr>\n",
       "    <tr>\n",
       "      <th>1</th>\n",
       "      <td>0</td>\n",
       "      <td>20</td>\n",
       "      <td>0_gun_laws_lobby_guns</td>\n",
       "      <td>[gun, laws, lobby, guns, talk, want, shannon, ...</td>\n",
       "      <td>[electing people who support the gun lobby and...</td>\n",
       "    </tr>\n",
       "    <tr>\n",
       "      <th>2</th>\n",
       "      <td>1</td>\n",
       "      <td>19</td>\n",
       "      <td>1_shootings_school_year_country</td>\n",
       "      <td>[shootings, school, year, country, mass, old, ...</td>\n",
       "      <td>[It's, you know, I have, and these are three n...</td>\n",
       "    </tr>\n",
       "    <tr>\n",
       "      <th>3</th>\n",
       "      <td>2</td>\n",
       "      <td>14</td>\n",
       "      <td>2_people_know_time_going</td>\n",
       "      <td>[people, know, time, going, random, read, pani...</td>\n",
       "      <td>[that white people once hated black people dur...</td>\n",
       "    </tr>\n",
       "    <tr>\n",
       "      <th>4</th>\n",
       "      <td>3</td>\n",
       "      <td>5</td>\n",
       "      <td>3_tennessee_land_book_state</td>\n",
       "      <td>[tennessee, land, book, state, dolly, ironical...</td>\n",
       "      <td>[It is a children's book, by the way. And it's...</td>\n",
       "    </tr>\n",
       "  </tbody>\n",
       "</table>\n",
       "</div>"
      ],
      "text/plain": [
       "   Topic  Count                             Name  \\\n",
       "0     -1     34         -1_guns_children_like_ar   \n",
       "1      0     20            0_gun_laws_lobby_guns   \n",
       "2      1     19  1_shootings_school_year_country   \n",
       "3      2     14         2_people_know_time_going   \n",
       "4      3      5      3_tennessee_land_book_state   \n",
       "\n",
       "                                      Representation  \\\n",
       "0  [guns, children, like, ar, today, school, book...   \n",
       "1  [gun, laws, lobby, guns, talk, want, shannon, ...   \n",
       "2  [shootings, school, year, country, mass, old, ...   \n",
       "3  [people, know, time, going, random, read, pani...   \n",
       "4  [tennessee, land, book, state, dolly, ironical...   \n",
       "\n",
       "                                 Representative_Docs  \n",
       "0  [But the rest of them have guns. And this has ...  \n",
       "1  [electing people who support the gun lobby and...  \n",
       "2  [It's, you know, I have, and these are three n...  \n",
       "3  [that white people once hated black people dur...  \n",
       "4  [It is a children's book, by the way. And it's...  "
      ]
     },
     "execution_count": 24,
     "metadata": {},
     "output_type": "execute_result"
    }
   ],
   "source": [
    "model.get_topic_info().head(15)"
   ]
  },
  {
   "cell_type": "code",
   "execution_count": 25,
   "metadata": {},
   "outputs": [
    {
     "data": {
      "text/plain": [
       "['guns children like',\n",
       " 'gun laws lobby',\n",
       " 'shootings school year',\n",
       " 'people know time',\n",
       " 'tennessee land book']"
      ]
     },
     "execution_count": 25,
     "metadata": {},
     "output_type": "execute_result"
    }
   ],
   "source": [
    "# nicer labels\n",
    "topic_labels = model.generate_topic_labels(nr_words=3, topic_prefix=False, word_length=15, separator=\" \")\n",
    "\n",
    "topic_labels"
   ]
  },
  {
   "cell_type": "code",
   "execution_count": 26,
   "metadata": {},
   "outputs": [
    {
     "data": {
      "application/vnd.plotly.v1+json": {
       "config": {
        "plotlyServerURL": "https://plot.ly"
       },
       "data": [
        {
         "hoverinfo": "text",
         "hovertext": [
          "If it's not, if it's a Muslim, they want to talk about radical Islam.  And the fact that it's a trans person, I think, is only going to reinforce this moral panic,",
          "Books don't kill children. Drag shows don't kill children. Guns do.",
          "who are doing the shooting anymore. The shooters lately now have included the elderly,  people of color, and as we saw today, a trans woman.",
          "who identifies as trans.  The children who were fatally shot are Evelyn Dykhouse,",
          "And just as you see when, you know, during, when there's, for example, a Muslim killer,",
          "Well, they I mean, they say it is not the guns that pose a danger to our kids.  They say it's the books. It's the wokeness,",
          "a law that allows people to carry hidden loaded handguns in public without a background check or training.",
          "where they used to have a law against teaching evolution in public high schools, in public schools.",
          "who would not celebrate drunk driving or the use of opioids, other things that kill people.",
          "A culture of guns for anyone, anywhere, anytime, no questions asked.",
          "And in the meantime, they create a fake moral panic over drag shows.  But it is not the guns that pose a danger to our kids.",
          "And it is no surprise that the shooter today had two AR-15-style rifles,",
          "and they've done the opposite. In fact, in 2021,  Governor Lee signed Permitless Carry,",
          "I just want to show a picture. You tweeted out a picture of, I guess, this was his Christmas card.",
          "They tend to have been young white men between 18 and 30.  There haven't been very many women. There clearly obviously haven't been very many trans women.",
          "There it is. There he is standing in front of the Christmas tree with his wife and children.  One of them has a book, which apparently also are things that Republicans think are dangerous.",
          "Hallie Scruggs, and William Kinney, all elementary school age.  The adults are Cynthia Peek, Mike Hill, and Catherine Kuntz, all in their 60s.",
          "Cue the thoughts and prayers tweets and how the killing must end by Republicans",
          "which is why in Tennessee where today's rampage occurred,  a school district once removed 327 books from library shelves that featured LGBTQ characters",
          "did. Other states are taking Ron DeSantis's lead in Wisconsin.",
          "Their symbol is the gun. It's very warlord-ish. What do you make of his statement today,",
          "Not real tension among the public. I mean, like, it's like an 80-20 issue.  Even gun owners overwhelmingly want stronger gun laws.",
          "has now been removed because one parent complained that the film would result in students learning",
          "also opposed Ruby Bridges Goes to School,  an autobiography of the first black child to integrate a New Orleans school at six years old in 1960.",
          "and themes. A school board there also voted unanimously to remove the Pulitzer Prize-winning graphic novel,",
          "Buffalo, and Uvalde, had this to say, once again, after Nashville.",
          "A drag queen isn't as dangerous to children. These books are dangerous to children.  But when it comes to guns, they're like, no, put more guns where children are.",
          "and a handgun, and an AR-style handgun as well.  So, you know, these weapons of war that we've allowed on our streets are now being used to kill our kids.",
          "it redounds on ordinary Muslim civilians, I think that we're going to see something similar here.",
          "They want to write policy that protects their profits.  They make billions and billions of dollars selling these guns, in particular semi-automatic rifles.",
          "And if that doesn't piss you off, Brett Cross,  whose son was killed by an AR-15 in Uvalde, would like to have a word.",
          "we don't elect them to give us their thoughts or their prayers.  We elect them to act. And that is what we should expect as constituents.",
          "The shooter was armed with two assault-style rifles and a handgun.  The Nashville Police Department said the shooter was a former student at the school",
          "But the rest of them have guns. And this has become like a common thing among Republicans,  is posing with guns, sort of fetishizing guns, wearing AR-15 pins in Congress and really making their love",
          null
         ],
         "marker": {
          "color": "#CFD8DC",
          "opacity": 0.5,
          "size": 5
         },
         "mode": "markers+text",
         "name": "other",
         "showlegend": false,
         "type": "scattergl",
         "x": [
          3.478175163269043,
          2.310870409011841,
          4.0938544273376465,
          4.392451286315918,
          3.744501829147339,
          2.2512125968933105,
          2.741197109222412,
          5.861011505126953,
          2.6608288288116455,
          2.598665475845337,
          2.6368730068206787,
          3.9979124069213867,
          3.274627923965454,
          4.68403959274292,
          6.3988118171691895,
          4.765998840332031,
          6.480693817138672,
          3.0857741832733154,
          5.936947822570801,
          4.374061584472656,
          3.83052134513855,
          3.264129638671875,
          5.485999584197998,
          6.057827949523926,
          5.65519905090332,
          4.423879623413086,
          2.7664482593536377,
          4.2018842697143555,
          3.6462230682373047,
          3.5017385482788086,
          4.443865776062012,
          2.0258357524871826,
          4.350920677185059,
          3.635794162750244,
          4.031139850616455
         ],
         "y": [
          3.7583513259887695,
          5.367971897125244,
          4.286747455596924,
          4.298513889312744,
          4.087400436401367,
          4.982290267944336,
          5.498786449432373,
          5.458542823791504,
          4.242018222808838,
          5.454517841339111,
          4.096554756164551,
          5.237001419067383,
          6.847757816314697,
          5.728049278259277,
          4.071530818939209,
          5.749447345733643,
          4.204075813293457,
          6.6981682777404785,
          5.549246788024902,
          6.71963357925415,
          5.740149021148682,
          5.004709720611572,
          5.296367168426514,
          5.630187034606934,
          5.687912464141846,
          6.74763298034668,
          4.339941024780273,
          4.743974208831787,
          4.181185722351074,
          4.98712682723999,
          4.68277645111084,
          5.7484354972839355,
          4.95885705947876,
          5.166656970977783,
          5.154486179351807
         ]
        },
        {
         "hoverinfo": "text",
         "hovertext": [
          "electing people who support the gun lobby and gun extremism. And then this culture, right?",
          "So I call on Congress again to pass my assault weapons ban.",
          "The answer is never. And that is why we need lawmakers to pass stronger gun laws.",
          "And if we look at the state of Tennessee where this happened,  this is a state that has had every single chance to strengthen their gun laws,",
          "and Michelle Goldberg, columnist for The New York Times.  Thank you both for being here. And I will start with you.",
          "He signed that into law and celebrated it at a gun manufacturing plant, right?",
          "Celebrating these guns as though they are toys. I mean, that's what that photo looks like.",
          "and very few gun laws, right? If gun laws, if guns made us safer,  we'd be the safest country in the world.",
          "And to stay with you for a second, Shannon, I mean, the congressman that represents this district,  his name is Andy Ogles. He's a Republican. He represents this district where Covenant School is located.",
          "They now are racing to enact these First Amendment-limiting laws to limit things like drag shows.",
          "And we have allowed gun lobbyists to the table to help write gun laws.  And of course they don't do that to protect public safety.",
          "You know, sometimes they want to talk about mental health. Sometimes they want to talk about doors and why doors were unlocked.  Do they want to talk about, you know, illegal immigration?",
          "in general, the gun lobby and the people aligned with the Republican Party want to talk about anything but guns.",
          "who do nothing about gun reform. Instead,  they honor a perverse interpretation of the Second Amendment over human lives.",
          "and adoration for guns kind of their primary political, you know, sort of this is their symbol.",
          "then you're a piece of. Joining me now is Shannon Watts,  founder of Moms Demand Action for Gun Sense in America,",
          "Somehow guns have become acceptable. And that is in part because we have something else  that no other peer nation has, and that is a gun lobby.",
          "The data shows they work. And so when we elect lawmakers to make laws,",
          "It's just, you know, as Shannon said, the gun lobby and the politicians they own that are refusing to let it happen.",
          "Kuntz, shown here, was the school's headmaster.  President Biden, who called on Congress to act on guns after Sandy Hook,",
          null
         ],
         "marker": {
          "opacity": 0.5,
          "size": 5
         },
         "mode": "markers+text",
         "name": "0_gun_laws_lobby",
         "text": [
          "",
          "",
          "",
          "",
          "",
          "",
          "",
          "",
          "",
          "",
          "",
          "",
          "",
          "",
          "",
          "",
          "",
          "",
          "",
          "",
          "0_gun_laws_lobby"
         ],
         "textfont": {
          "size": 12
         },
         "type": "scattergl",
         "x": [
          3.1727306842803955,
          3.0742406845092773,
          2.4168174266815186,
          4.159056663513184,
          3.895463228225708,
          3.7573442459106445,
          3.642026662826538,
          2.676966428756714,
          4.068527698516846,
          2.6761982440948486,
          2.525890827178955,
          3.1002211570739746,
          2.6749520301818848,
          2.312328577041626,
          3.4270200729370117,
          3.8400328159332275,
          3.108774423599243,
          3.012561559677124,
          2.172046422958374,
          3.814692735671997,
          3.1763949394226074
         ],
         "y": [
          6.05372428894043,
          6.595105171203613,
          6.217759132385254,
          6.4091925621032715,
          6.346835136413574,
          6.0986647605896,
          5.659028053283691,
          4.810141086578369,
          6.855656147003174,
          6.498887538909912,
          6.059054374694824,
          6.118180274963379,
          6.0656304359436035,
          6.04148006439209,
          5.705504417419434,
          6.4532904624938965,
          5.44610595703125,
          6.247702121734619,
          5.932820796966553,
          6.681247711181641,
          6.114800453186035
         ]
        },
        {
         "hoverinfo": "text",
         "hovertext": [
          "Have y'all had enough yet? In Nashville, three kids so far have been pronounced dead.",
          "This is a state where they have incredibly weak gun laws and gun homicides have spiked a hundred",
          "as their attempt to protect children,  which kind of falls apart when they do nothing about the thing that turns a child into a corpse.",
          "anytime. But once again, it's happened in a school.  Your thoughts? Well, look, this is sadly the logical outcome of 400 million guns in this country",
          "It's a sickness. You know, there are three issues here in this country, our lax gun laws,",
          "and ten percent in the last decade there. At what point do more guns make us more safe?",
          "These are shootings that can happen anywhere, a school, a hospital, a church, a cemetery.  And it's not just the typical young white men with unfettered access to high-powered weapons",
          "It is why our babies are patted down and enter through metal detectors.  It's why arming teachers is an actual debate in America.",
          "I mean, this is, you know, we have a lot of mass shootings in this country.  It's still shocking when it's elementary school children.",
          "stating his devastation that he and his family feel at the Covenant School shooting?  And of course, sending his thoughts and prayers.",
          "The U.S. has surpassed 100 mass shootings in 2023, and we're only in March.",
          "The only thing that is consistent is that it is the guns that kill our children,  that terrorize them, that force them to do shooter drills in their elementary school classrooms.",
          "where a 28-year-old woman shot and killed three students  and three staff members at a private Christian school.",
          "one to two mass shootings a week in this country,  or over 100. A lot of things about these shootings are the same.",
          "Three adults have been pronounced dead from a school.  I'm shooting. When is enough enough? If this doesn't make you sick to your stomach,",
          "Instead, we have a 26 times higher gun homicide rate than any pure nation.",
          "But we begin tonight with a tragedy that is unique to America.  Another school massacre, this time in Nashville, Tennessee,",
          "It's, you know, I have, and these are three nine-year-olds. I have an eight-year-old and a 10-year-old.  I can barely think about it. But, you know, I think that from whenever we have one of these shootings,",
          "You have rampant book banning. I think Tennessee might be the most aggressive book-banning state, even more so than Florida.",
          null
         ],
         "marker": {
          "opacity": 0.5,
          "size": 5
         },
         "mode": "markers+text",
         "name": "1_shootings_school_year",
         "text": [
          "",
          "",
          "",
          "",
          "",
          "",
          "",
          "",
          "",
          "",
          "",
          "",
          "",
          "",
          "",
          "",
          "",
          "",
          "",
          "1_shootings_school_year"
         ],
         "textfont": {
          "size": 12
         },
         "type": "scattergl",
         "x": [
          5.207799434661865,
          6.130314826965332,
          3.2501587867736816,
          5.764693737030029,
          5.318485736846924,
          6.05832576751709,
          6.123238563537598,
          5.311949729919434,
          5.574701309204102,
          4.648190975189209,
          6.011733055114746,
          5.102378845214844,
          5.077591896057129,
          5.961260795593262,
          5.069943904876709,
          6.033740520477295,
          5.735683917999268,
          5.604048728942871,
          6.106416702270508,
          5.478456020355225
         ],
         "y": [
          3.8168420791625977,
          4.1529927253723145,
          3.5107693672180176,
          4.363789081573486,
          3.572114944458008,
          3.4690139293670654,
          3.8349030017852783,
          4.712946891784668,
          4.301212787628174,
          4.158951282501221,
          3.576566457748413,
          4.398244857788086,
          4.136995792388916,
          3.832932710647583,
          4.125330924987793,
          3.985248565673828,
          4.728597164154053,
          3.7487361431121826,
          4.871705532073975,
          4.068309783935547
         ]
        },
        {
         "hoverinfo": "text",
         "hovertext": [
          "is going to make it seem as, you know, they're going to feel that they are under threat, under siege from this group of people that has been, you know,",
          "And so they're essentially saying it's too dangerous to allow children to be exposed to a drag show.",
          "And it is really incumbent on us to elect people who have a conscience,",
          "And I fear that the identity of the murderer here is only going to reinforce that.",
          "We don't know. But the terrifying thing is it could be anything these days.  How we think, read, talk, learn, sing. It's almost like conservatives are more concerned about",
          "And Michelle, you know, this is coming at a time when the First and Second Amendments are in a real tension, right?",
          "It is an irony that's hard to get away from during this time of moral panic over books, history and drag shows.",
          "The reason is not clear. Could it be Miley or maybe the existence of the word rainbow?",
          "that white people once hated black people during a time when literally some of them",
          "You know, it is starting to become almost random,  a random or sort of routine, I should say, that we have now at least what,",
          "It's sick. It's heartbreaking. A family's worst nightmare.  We have to do more to stop gun violence.",
          "I think trans people in this country are already, they are being demonized and terrorized.",
          "This is also rare, but we have started to see it broad now that Asian American older people,  African Americans, you know, it's becoming it's so scattered that it can happen anywhere,",
          "what kids read than what kills kids. This moral panic is being framed by the right",
          null
         ],
         "marker": {
          "opacity": 0.5,
          "size": 5
         },
         "mode": "markers+text",
         "name": "2_people_know_time",
         "text": [
          "",
          "",
          "",
          "",
          "",
          "",
          "",
          "",
          "",
          "",
          "",
          "",
          "",
          "",
          "2_people_know_time"
         ],
         "textfont": {
          "size": 12
         },
         "type": "scattergl",
         "x": [
          3.47172212600708,
          3.6244800090789795,
          3.3593995571136475,
          3.226057767868042,
          3.8175547122955322,
          3.901866912841797,
          3.8298397064208984,
          3.8030266761779785,
          4.131077289581299,
          3.638700008392334,
          3.96154522895813,
          4.412229061126709,
          4.040121555328369,
          3.349635362625122,
          3.7548038959503174
         ],
         "y": [
          2.8027257919311523,
          3.2721216678619385,
          2.8746721744537354,
          2.892610549926758,
          2.794687032699585,
          2.666900157928467,
          2.941704511642456,
          2.5546884536743164,
          3.148003339767456,
          2.39573335647583,
          3.3568918704986572,
          3.2795896530151367,
          2.4441452026367188,
          3.0734899044036865,
          2.892711639404297
         ]
        },
        {
         "hoverinfo": "text",
         "hovertext": [
          "It is a children's book, by the way. And it's not just Tennessee.  Of course, it is Florida, the land of Don't Say Gay,",
          "Mouse, which details the horrors of the Holocaust.  The Tennessee chapter of Moms for Liberty, a book banning dark money group,",
          "But you have this, in the state of Tennessee, which, you know, ironically is the Scopes Monkey Trial state, right,",
          "The song Rainbow Land, a duet by Miley Cyrus  and Dolly Parton, has been banned from a first-grade concert.",
          "where the Disney movie Ruby Bridges, once a staple for Pinellas County Black History Month lessons,",
          null
         ],
         "marker": {
          "opacity": 0.5,
          "size": 5
         },
         "mode": "markers+text",
         "name": "3_tennessee_land_book",
         "text": [
          "",
          "",
          "",
          "",
          "",
          "3_tennessee_land_book"
         ],
         "textfont": {
          "size": 12
         },
         "type": "scattergl",
         "x": [
          6.146659851074219,
          5.867520809173584,
          5.583028316497803,
          6.0827317237854,
          5.942378520965576,
          5.924464225769043
         ],
         "y": [
          6.000099182128906,
          5.929789066314697,
          6.2312541007995605,
          5.838269233703613,
          6.105602264404297,
          6.021002769470215
         ]
        }
       ],
       "layout": {
        "annotations": [
         {
          "showarrow": false,
          "text": "D1",
          "x": 1.7219603896141051,
          "y": 4.960188961029052,
          "yshift": 10
         },
         {
          "showarrow": false,
          "text": "D2",
          "x": 4.587379139661789,
          "xshift": 10,
          "y": 7.8840045690536495
         }
        ],
        "height": 750,
        "shapes": [
         {
          "line": {
           "color": "#CFD8DC",
           "width": 2
          },
          "type": "line",
          "x0": 4.587379139661789,
          "x1": 4.587379139661789,
          "y0": 2.0363733530044557,
          "y1": 7.8840045690536495
         },
         {
          "line": {
           "color": "#9E9E9E",
           "width": 2
          },
          "type": "line",
          "x0": 1.7219603896141051,
          "x1": 7.452797889709473,
          "y0": 4.960188961029052,
          "y1": 4.960188961029052
         }
        ],
        "template": {
         "data": {
          "bar": [
           {
            "error_x": {
             "color": "rgb(36,36,36)"
            },
            "error_y": {
             "color": "rgb(36,36,36)"
            },
            "marker": {
             "line": {
              "color": "white",
              "width": 0.5
             },
             "pattern": {
              "fillmode": "overlay",
              "size": 10,
              "solidity": 0.2
             }
            },
            "type": "bar"
           }
          ],
          "barpolar": [
           {
            "marker": {
             "line": {
              "color": "white",
              "width": 0.5
             },
             "pattern": {
              "fillmode": "overlay",
              "size": 10,
              "solidity": 0.2
             }
            },
            "type": "barpolar"
           }
          ],
          "carpet": [
           {
            "aaxis": {
             "endlinecolor": "rgb(36,36,36)",
             "gridcolor": "white",
             "linecolor": "white",
             "minorgridcolor": "white",
             "startlinecolor": "rgb(36,36,36)"
            },
            "baxis": {
             "endlinecolor": "rgb(36,36,36)",
             "gridcolor": "white",
             "linecolor": "white",
             "minorgridcolor": "white",
             "startlinecolor": "rgb(36,36,36)"
            },
            "type": "carpet"
           }
          ],
          "choropleth": [
           {
            "colorbar": {
             "outlinewidth": 1,
             "tickcolor": "rgb(36,36,36)",
             "ticks": "outside"
            },
            "type": "choropleth"
           }
          ],
          "contour": [
           {
            "colorbar": {
             "outlinewidth": 1,
             "tickcolor": "rgb(36,36,36)",
             "ticks": "outside"
            },
            "colorscale": [
             [
              0,
              "#440154"
             ],
             [
              0.1111111111111111,
              "#482878"
             ],
             [
              0.2222222222222222,
              "#3e4989"
             ],
             [
              0.3333333333333333,
              "#31688e"
             ],
             [
              0.4444444444444444,
              "#26828e"
             ],
             [
              0.5555555555555556,
              "#1f9e89"
             ],
             [
              0.6666666666666666,
              "#35b779"
             ],
             [
              0.7777777777777778,
              "#6ece58"
             ],
             [
              0.8888888888888888,
              "#b5de2b"
             ],
             [
              1,
              "#fde725"
             ]
            ],
            "type": "contour"
           }
          ],
          "contourcarpet": [
           {
            "colorbar": {
             "outlinewidth": 1,
             "tickcolor": "rgb(36,36,36)",
             "ticks": "outside"
            },
            "type": "contourcarpet"
           }
          ],
          "heatmap": [
           {
            "colorbar": {
             "outlinewidth": 1,
             "tickcolor": "rgb(36,36,36)",
             "ticks": "outside"
            },
            "colorscale": [
             [
              0,
              "#440154"
             ],
             [
              0.1111111111111111,
              "#482878"
             ],
             [
              0.2222222222222222,
              "#3e4989"
             ],
             [
              0.3333333333333333,
              "#31688e"
             ],
             [
              0.4444444444444444,
              "#26828e"
             ],
             [
              0.5555555555555556,
              "#1f9e89"
             ],
             [
              0.6666666666666666,
              "#35b779"
             ],
             [
              0.7777777777777778,
              "#6ece58"
             ],
             [
              0.8888888888888888,
              "#b5de2b"
             ],
             [
              1,
              "#fde725"
             ]
            ],
            "type": "heatmap"
           }
          ],
          "heatmapgl": [
           {
            "colorbar": {
             "outlinewidth": 1,
             "tickcolor": "rgb(36,36,36)",
             "ticks": "outside"
            },
            "colorscale": [
             [
              0,
              "#440154"
             ],
             [
              0.1111111111111111,
              "#482878"
             ],
             [
              0.2222222222222222,
              "#3e4989"
             ],
             [
              0.3333333333333333,
              "#31688e"
             ],
             [
              0.4444444444444444,
              "#26828e"
             ],
             [
              0.5555555555555556,
              "#1f9e89"
             ],
             [
              0.6666666666666666,
              "#35b779"
             ],
             [
              0.7777777777777778,
              "#6ece58"
             ],
             [
              0.8888888888888888,
              "#b5de2b"
             ],
             [
              1,
              "#fde725"
             ]
            ],
            "type": "heatmapgl"
           }
          ],
          "histogram": [
           {
            "marker": {
             "line": {
              "color": "white",
              "width": 0.6
             }
            },
            "type": "histogram"
           }
          ],
          "histogram2d": [
           {
            "colorbar": {
             "outlinewidth": 1,
             "tickcolor": "rgb(36,36,36)",
             "ticks": "outside"
            },
            "colorscale": [
             [
              0,
              "#440154"
             ],
             [
              0.1111111111111111,
              "#482878"
             ],
             [
              0.2222222222222222,
              "#3e4989"
             ],
             [
              0.3333333333333333,
              "#31688e"
             ],
             [
              0.4444444444444444,
              "#26828e"
             ],
             [
              0.5555555555555556,
              "#1f9e89"
             ],
             [
              0.6666666666666666,
              "#35b779"
             ],
             [
              0.7777777777777778,
              "#6ece58"
             ],
             [
              0.8888888888888888,
              "#b5de2b"
             ],
             [
              1,
              "#fde725"
             ]
            ],
            "type": "histogram2d"
           }
          ],
          "histogram2dcontour": [
           {
            "colorbar": {
             "outlinewidth": 1,
             "tickcolor": "rgb(36,36,36)",
             "ticks": "outside"
            },
            "colorscale": [
             [
              0,
              "#440154"
             ],
             [
              0.1111111111111111,
              "#482878"
             ],
             [
              0.2222222222222222,
              "#3e4989"
             ],
             [
              0.3333333333333333,
              "#31688e"
             ],
             [
              0.4444444444444444,
              "#26828e"
             ],
             [
              0.5555555555555556,
              "#1f9e89"
             ],
             [
              0.6666666666666666,
              "#35b779"
             ],
             [
              0.7777777777777778,
              "#6ece58"
             ],
             [
              0.8888888888888888,
              "#b5de2b"
             ],
             [
              1,
              "#fde725"
             ]
            ],
            "type": "histogram2dcontour"
           }
          ],
          "mesh3d": [
           {
            "colorbar": {
             "outlinewidth": 1,
             "tickcolor": "rgb(36,36,36)",
             "ticks": "outside"
            },
            "type": "mesh3d"
           }
          ],
          "parcoords": [
           {
            "line": {
             "colorbar": {
              "outlinewidth": 1,
              "tickcolor": "rgb(36,36,36)",
              "ticks": "outside"
             }
            },
            "type": "parcoords"
           }
          ],
          "pie": [
           {
            "automargin": true,
            "type": "pie"
           }
          ],
          "scatter": [
           {
            "fillpattern": {
             "fillmode": "overlay",
             "size": 10,
             "solidity": 0.2
            },
            "type": "scatter"
           }
          ],
          "scatter3d": [
           {
            "line": {
             "colorbar": {
              "outlinewidth": 1,
              "tickcolor": "rgb(36,36,36)",
              "ticks": "outside"
             }
            },
            "marker": {
             "colorbar": {
              "outlinewidth": 1,
              "tickcolor": "rgb(36,36,36)",
              "ticks": "outside"
             }
            },
            "type": "scatter3d"
           }
          ],
          "scattercarpet": [
           {
            "marker": {
             "colorbar": {
              "outlinewidth": 1,
              "tickcolor": "rgb(36,36,36)",
              "ticks": "outside"
             }
            },
            "type": "scattercarpet"
           }
          ],
          "scattergeo": [
           {
            "marker": {
             "colorbar": {
              "outlinewidth": 1,
              "tickcolor": "rgb(36,36,36)",
              "ticks": "outside"
             }
            },
            "type": "scattergeo"
           }
          ],
          "scattergl": [
           {
            "marker": {
             "colorbar": {
              "outlinewidth": 1,
              "tickcolor": "rgb(36,36,36)",
              "ticks": "outside"
             }
            },
            "type": "scattergl"
           }
          ],
          "scattermapbox": [
           {
            "marker": {
             "colorbar": {
              "outlinewidth": 1,
              "tickcolor": "rgb(36,36,36)",
              "ticks": "outside"
             }
            },
            "type": "scattermapbox"
           }
          ],
          "scatterpolar": [
           {
            "marker": {
             "colorbar": {
              "outlinewidth": 1,
              "tickcolor": "rgb(36,36,36)",
              "ticks": "outside"
             }
            },
            "type": "scatterpolar"
           }
          ],
          "scatterpolargl": [
           {
            "marker": {
             "colorbar": {
              "outlinewidth": 1,
              "tickcolor": "rgb(36,36,36)",
              "ticks": "outside"
             }
            },
            "type": "scatterpolargl"
           }
          ],
          "scatterternary": [
           {
            "marker": {
             "colorbar": {
              "outlinewidth": 1,
              "tickcolor": "rgb(36,36,36)",
              "ticks": "outside"
             }
            },
            "type": "scatterternary"
           }
          ],
          "surface": [
           {
            "colorbar": {
             "outlinewidth": 1,
             "tickcolor": "rgb(36,36,36)",
             "ticks": "outside"
            },
            "colorscale": [
             [
              0,
              "#440154"
             ],
             [
              0.1111111111111111,
              "#482878"
             ],
             [
              0.2222222222222222,
              "#3e4989"
             ],
             [
              0.3333333333333333,
              "#31688e"
             ],
             [
              0.4444444444444444,
              "#26828e"
             ],
             [
              0.5555555555555556,
              "#1f9e89"
             ],
             [
              0.6666666666666666,
              "#35b779"
             ],
             [
              0.7777777777777778,
              "#6ece58"
             ],
             [
              0.8888888888888888,
              "#b5de2b"
             ],
             [
              1,
              "#fde725"
             ]
            ],
            "type": "surface"
           }
          ],
          "table": [
           {
            "cells": {
             "fill": {
              "color": "rgb(237,237,237)"
             },
             "line": {
              "color": "white"
             }
            },
            "header": {
             "fill": {
              "color": "rgb(217,217,217)"
             },
             "line": {
              "color": "white"
             }
            },
            "type": "table"
           }
          ]
         },
         "layout": {
          "annotationdefaults": {
           "arrowhead": 0,
           "arrowwidth": 1
          },
          "autotypenumbers": "strict",
          "coloraxis": {
           "colorbar": {
            "outlinewidth": 1,
            "tickcolor": "rgb(36,36,36)",
            "ticks": "outside"
           }
          },
          "colorscale": {
           "diverging": [
            [
             0,
             "rgb(103,0,31)"
            ],
            [
             0.1,
             "rgb(178,24,43)"
            ],
            [
             0.2,
             "rgb(214,96,77)"
            ],
            [
             0.3,
             "rgb(244,165,130)"
            ],
            [
             0.4,
             "rgb(253,219,199)"
            ],
            [
             0.5,
             "rgb(247,247,247)"
            ],
            [
             0.6,
             "rgb(209,229,240)"
            ],
            [
             0.7,
             "rgb(146,197,222)"
            ],
            [
             0.8,
             "rgb(67,147,195)"
            ],
            [
             0.9,
             "rgb(33,102,172)"
            ],
            [
             1,
             "rgb(5,48,97)"
            ]
           ],
           "sequential": [
            [
             0,
             "#440154"
            ],
            [
             0.1111111111111111,
             "#482878"
            ],
            [
             0.2222222222222222,
             "#3e4989"
            ],
            [
             0.3333333333333333,
             "#31688e"
            ],
            [
             0.4444444444444444,
             "#26828e"
            ],
            [
             0.5555555555555556,
             "#1f9e89"
            ],
            [
             0.6666666666666666,
             "#35b779"
            ],
            [
             0.7777777777777778,
             "#6ece58"
            ],
            [
             0.8888888888888888,
             "#b5de2b"
            ],
            [
             1,
             "#fde725"
            ]
           ],
           "sequentialminus": [
            [
             0,
             "#440154"
            ],
            [
             0.1111111111111111,
             "#482878"
            ],
            [
             0.2222222222222222,
             "#3e4989"
            ],
            [
             0.3333333333333333,
             "#31688e"
            ],
            [
             0.4444444444444444,
             "#26828e"
            ],
            [
             0.5555555555555556,
             "#1f9e89"
            ],
            [
             0.6666666666666666,
             "#35b779"
            ],
            [
             0.7777777777777778,
             "#6ece58"
            ],
            [
             0.8888888888888888,
             "#b5de2b"
            ],
            [
             1,
             "#fde725"
            ]
           ]
          },
          "colorway": [
           "#1F77B4",
           "#FF7F0E",
           "#2CA02C",
           "#D62728",
           "#9467BD",
           "#8C564B",
           "#E377C2",
           "#7F7F7F",
           "#BCBD22",
           "#17BECF"
          ],
          "font": {
           "color": "rgb(36,36,36)"
          },
          "geo": {
           "bgcolor": "white",
           "lakecolor": "white",
           "landcolor": "white",
           "showlakes": true,
           "showland": true,
           "subunitcolor": "white"
          },
          "hoverlabel": {
           "align": "left"
          },
          "hovermode": "closest",
          "mapbox": {
           "style": "light"
          },
          "paper_bgcolor": "white",
          "plot_bgcolor": "white",
          "polar": {
           "angularaxis": {
            "gridcolor": "rgb(232,232,232)",
            "linecolor": "rgb(36,36,36)",
            "showgrid": false,
            "showline": true,
            "ticks": "outside"
           },
           "bgcolor": "white",
           "radialaxis": {
            "gridcolor": "rgb(232,232,232)",
            "linecolor": "rgb(36,36,36)",
            "showgrid": false,
            "showline": true,
            "ticks": "outside"
           }
          },
          "scene": {
           "xaxis": {
            "backgroundcolor": "white",
            "gridcolor": "rgb(232,232,232)",
            "gridwidth": 2,
            "linecolor": "rgb(36,36,36)",
            "showbackground": true,
            "showgrid": false,
            "showline": true,
            "ticks": "outside",
            "zeroline": false,
            "zerolinecolor": "rgb(36,36,36)"
           },
           "yaxis": {
            "backgroundcolor": "white",
            "gridcolor": "rgb(232,232,232)",
            "gridwidth": 2,
            "linecolor": "rgb(36,36,36)",
            "showbackground": true,
            "showgrid": false,
            "showline": true,
            "ticks": "outside",
            "zeroline": false,
            "zerolinecolor": "rgb(36,36,36)"
           },
           "zaxis": {
            "backgroundcolor": "white",
            "gridcolor": "rgb(232,232,232)",
            "gridwidth": 2,
            "linecolor": "rgb(36,36,36)",
            "showbackground": true,
            "showgrid": false,
            "showline": true,
            "ticks": "outside",
            "zeroline": false,
            "zerolinecolor": "rgb(36,36,36)"
           }
          },
          "shapedefaults": {
           "fillcolor": "black",
           "line": {
            "width": 0
           },
           "opacity": 0.3
          },
          "ternary": {
           "aaxis": {
            "gridcolor": "rgb(232,232,232)",
            "linecolor": "rgb(36,36,36)",
            "showgrid": false,
            "showline": true,
            "ticks": "outside"
           },
           "baxis": {
            "gridcolor": "rgb(232,232,232)",
            "linecolor": "rgb(36,36,36)",
            "showgrid": false,
            "showline": true,
            "ticks": "outside"
           },
           "bgcolor": "white",
           "caxis": {
            "gridcolor": "rgb(232,232,232)",
            "linecolor": "rgb(36,36,36)",
            "showgrid": false,
            "showline": true,
            "ticks": "outside"
           }
          },
          "title": {
           "x": 0.05
          },
          "xaxis": {
           "automargin": true,
           "gridcolor": "rgb(232,232,232)",
           "linecolor": "rgb(36,36,36)",
           "showgrid": false,
           "showline": true,
           "ticks": "outside",
           "title": {
            "standoff": 15
           },
           "zeroline": false,
           "zerolinecolor": "rgb(36,36,36)"
          },
          "yaxis": {
           "automargin": true,
           "gridcolor": "rgb(232,232,232)",
           "linecolor": "rgb(36,36,36)",
           "showgrid": false,
           "showline": true,
           "ticks": "outside",
           "title": {
            "standoff": 15
           },
           "zeroline": false,
           "zerolinecolor": "rgb(36,36,36)"
          }
         }
        },
        "title": {
         "font": {
          "color": "Black",
          "size": 22
         },
         "text": "<b>Documents and Topics</b>",
         "x": 0.5,
         "xanchor": "center",
         "yanchor": "top"
        },
        "width": 1200,
        "xaxis": {
         "visible": false
        },
        "yaxis": {
         "visible": false
        }
       }
      }
     },
     "metadata": {},
     "output_type": "display_data"
    }
   ],
   "source": [
    "model.visualize_documents([i['text'] for i in data], embeddings=embeddings, hide_annotations=False, custom_labels=True)"
   ]
  },
  {
   "cell_type": "code",
   "execution_count": 27,
   "metadata": {},
   "outputs": [],
   "source": [
    "# topics = {}\n",
    "\n",
    "topics[\"hdbscan_5_chunk\"] = topic_labels"
   ]
  },
  {
   "cell_type": "code",
   "execution_count": 28,
   "metadata": {},
   "outputs": [],
   "source": [
    "with open(\"topics_pro_nbc.json\", 'w') as f:\n",
    "    json.dump(topics, f, indent=4)"
   ]
  },
  {
   "attachments": {},
   "cell_type": "markdown",
   "metadata": {},
   "source": [
    "main: compare topics surfacing in stories on gun-control by FCN(de) and MSNBC(pro), compare topics extracted per variation: sentence and 5 seconds chunk\n",
    "\n",
    "sentence based topics are more detailed for both stories\n",
    "\n",
    "script: pynb/transcribe.py"
   ]
  }
 ],
 "metadata": {
  "kernelspec": {
   "display_name": "news",
   "language": "python",
   "name": "python3"
  },
  "language_info": {
   "codemirror_mode": {
    "name": "ipython",
    "version": 3
   },
   "file_extension": ".py",
   "mimetype": "text/x-python",
   "name": "python",
   "nbconvert_exporter": "python",
   "pygments_lexer": "ipython3",
   "version": "3.11.5"
  },
  "orig_nbformat": 4
 },
 "nbformat": 4,
 "nbformat_minor": 2
}
