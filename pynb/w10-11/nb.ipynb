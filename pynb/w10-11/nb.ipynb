{
 "cells": [
  {
   "attachments": {},
   "cell_type": "markdown",
   "metadata": {},
   "source": [
    "week10 objectives:\n",
    "\n",
    "1. extend emotion set to include arousal, valence and dominance\n",
    "2. extract glove embeddings for bignews"
   ]
  },
  {
   "cell_type": "code",
   "execution_count": 1,
   "metadata": {},
   "outputs": [],
   "source": [
    "import os\n",
    "from tqdm import tqdm\n",
    "\n",
    "import numpy as np\n",
    "\n",
    "\n",
    "BASE_PATH = '/'.join(os.getcwd().split('/')[ : -2])\n",
    "\n",
    "DATA_PATH = \"gallina/bignews\""
   ]
  },
  {
   "cell_type": "code",
   "execution_count": 2,
   "metadata": {},
   "outputs": [
    {
     "data": {
      "text/plain": [
       "'\\nimport csv\\n\\nf = open(\"data/train.csv\", newline=\"\")\\nreader = csv.reader(f, delimiter=\\',\\')\\n    \\nheader = next(reader)\\nprint(header[1 : ])\\n\\nkeys = {\"post\": 1, \"ori_topic\": 2, \"new_topic\": 4, \"label\": 5, \"topic\": 13, \"contains_topic\": 15}\\n\\nrows = []\\n\\nfor row in reader:\\n        i = {}  # instance\\n        for k in keys.keys():\\n            i[k] = row[keys[k]]  # reverse mapping\\n        rows.append(i)\\n\\nprint(f\"number of samples: {len(rows)}\")\\n'"
      ]
     },
     "execution_count": 2,
     "metadata": {},
     "output_type": "execute_result"
    }
   ],
   "source": [
    "# vast dataset\n",
    "'''\n",
    "import csv\n",
    "\n",
    "f = open(\"data/train.csv\", newline=\"\")\n",
    "reader = csv.reader(f, delimiter=',')\n",
    "    \n",
    "header = next(reader)\n",
    "print(header[1 : ])\n",
    "\n",
    "keys = {\"post\": 1, \"ori_topic\": 2, \"new_topic\": 4, \"label\": 5, \"topic\": 13, \"contains_topic\": 15}\n",
    "\n",
    "rows = []\n",
    "\n",
    "for row in reader:\n",
    "        i = {}  # instance\n",
    "        for k in keys.keys():\n",
    "            i[k] = row[keys[k]]  # reverse mapping\n",
    "        rows.append(i)\n",
    "\n",
    "print(f\"number of samples: {len(rows)}\")\n",
    "'''"
   ]
  },
  {
   "cell_type": "code",
   "execution_count": 3,
   "metadata": {},
   "outputs": [],
   "source": [
    "import json\n",
    "\n",
    "\n",
    "data, f_names = [], [\"train_center\", \"train_left\", \"train_right\"]\n",
    "\n",
    "for f_name in f_names:\n",
    "    with open(os.path.join(BASE_PATH, DATA_PATH, f\"{f_name}.json\")) as f:\n",
    "\n",
    "        X = json.load(f)\n",
    "        '''\n",
    "        for i, x in enumerate(X):\n",
    "            x['label'] = f_name.split('_')[-1]\n",
    "            X[i] = x\n",
    "        '''\n",
    "    data.append(X)\n"
   ]
  },
  {
   "cell_type": "code",
   "execution_count": 4,
   "metadata": {},
   "outputs": [
    {
     "name": "stdout",
     "output_type": "stream",
     "text": [
      "center: 772194, left: 779499, right: 779859\n"
     ]
    }
   ],
   "source": [
    "print(f\"center: {len(data[0])}, left: {len(data[1])}, right: {len(data[2])}\")"
   ]
  },
  {
   "cell_type": "code",
   "execution_count": 5,
   "metadata": {},
   "outputs": [
    {
     "data": {
      "text/plain": [
       "{'title': 'After past rejections, medical cannabis OK’d for opioid addicts',\n",
       " 'date': '2019-03-30',\n",
       " 'url': 'https://apnews.com/8134a7887fbf46d4bcb8983fe31cad3a',\n",
       " 'source': 'ap',\n",
       " 'html': ['/data/yujian/data/online_news/ap/html/202007-202008.json', 17699],\n",
       " 'text': ['The State Medical Cannabis Advisory Board twice in recent years voted to recommend opioid use disorder as a qualifying condition for the state’s medical marijuana program — only to have former Gov. Susana Martinez’s health secretary reject the proposal.',\n",
       "  'The board on Friday approved a third recommendation in favor of including opioid addiction for the program. And this time, there was a sense that under Gov. Michelle Lujan Grisham — a former state Department of Health secretary who helped create the medical marijuana program — the result would be different.',\n",
       "  'Within hours of the board’s decision, the new Health Department Secretary, Kathy Kunkel, said she’d accept its recommendation.',\n",
       "  '“Using medical cannabis is not intended as a substitute to opioids; it is medicine that can alleviate some of the painful symptoms that come with recovering from opioid dependence,” Kunkel said in a statement. “Adding this as a qualifying condition for the Medical Cannabis Program is the next step towards this administration’s efforts to continue reducing the number of opioid-related deaths in New Mexico.”',\n",
       "  'In her first State of the State address at the beginning of this year’s Legislature, Lujan Grisham specifically called for allowing marijuana to be used to help treat symptoms of opioid addiction through the Medical Cannabis Program.',\n",
       "  '“We will not stand in the way of our neighbors who are struggling with addiction and want to recover,” she said in the speech. “Instead, we will help them all along the way.”',\n",
       "  'In addition to the opioid recommendation, the board also unanimously recommended that substance abuse disorder — which would include other addictive drugs such as prescription medication, alcohol, tobacco, hallucinogens and stimulants — become a qualifying condition for medical marijuana patients.',\n",
       "  'The board had also made this recommendation last year but it was rejected by former Health Department Secretary Lynn Gallagher.',\n",
       "  'Board chairwoman Dr. Laura Brown said at the meeting that marijuana is not a “treatment” for opioid or other drug addiction.',\n",
       "  '“It relieves symptoms and suffering,” she said.',\n",
       "  'Brown said she recently had met with Kunkel, who is reviewing several recommendations the board — comprised of doctors — had made to Gallagher. Among those medical conditions Gallagher had rejected are autism and degenerative neurological disorders, including Alzheimer’s disease.',\n",
       "  'The board rejected a proposal to make medical marijuana available to anyone who is 65 or older. Brown pointed out most of the conditions of medical conditions frequently suffered by senior citizens already are on the program’s list of qualifying conditions.']}"
      ]
     },
     "execution_count": 5,
     "metadata": {},
     "output_type": "execute_result"
    }
   ],
   "source": [
    "data[0][0]"
   ]
  },
  {
   "attachments": {},
   "cell_type": "markdown",
   "metadata": {},
   "source": [
    "feature extraction"
   ]
  },
  {
   "cell_type": "code",
   "execution_count": 2,
   "metadata": {},
   "outputs": [
    {
     "name": "stderr",
     "output_type": "stream",
     "text": [
      "[nltk_data] Downloading package stopwords to\n",
      "[nltk_data]     /home/kxs1207/nltk_data...\n",
      "[nltk_data]   Package stopwords is already up-to-date!\n"
     ]
    }
   ],
   "source": [
    "import re\n",
    "\n",
    "import nltk\n",
    "nltk.download('stopwords')\n",
    "\n",
    "from nltk.corpus import stopwords"
   ]
  },
  {
   "cell_type": "code",
   "execution_count": 3,
   "metadata": {},
   "outputs": [
    {
     "name": "stdout",
     "output_type": "stream",
     "text": [
      "['mary', 'samantha', 'arrived', 'bus', 'station', 'early', 'waited', 'noon', 'bus']\n"
     ]
    }
   ],
   "source": [
    "text = \"Mary and Samantha arrived at the bus station early but waited until noon for the bus\"\n",
    "\n",
    "def word_extraction(sentence):    \n",
    "    ignore = stopwords.words('english')   \n",
    "    words = re.sub(\"[^\\w]\", \" \",  sentence).split()    \n",
    "    \n",
    "    cleaned_text = [w.lower() for w in words if w not in ignore]    \n",
    "    \n",
    "    return cleaned_text\n",
    "\n",
    "\n",
    "words = word_extraction(text)\n",
    "\n",
    "print(words)"
   ]
  },
  {
   "cell_type": "code",
   "execution_count": 6,
   "metadata": {},
   "outputs": [
    {
     "name": "stderr",
     "output_type": "stream",
     "text": [
      ".vector_cache/glove.840B.300d.zip: 2.18GB [06:50, 5.30MB/s]                               \n",
      "100%|█████████▉| 2196016/2196017 [03:58<00:00, 9211.52it/s]\n"
     ]
    }
   ],
   "source": [
    "import torchtext\n",
    "\n",
    "glove = torchtext.vocab.GloVe(name='840B', dim=300)  # size = 300\n"
   ]
  },
  {
   "cell_type": "code",
   "execution_count": 9,
   "metadata": {},
   "outputs": [
    {
     "name": "stderr",
     "output_type": "stream",
     "text": [
      "center: 100%|██████████| 100000/100000 [25:42<00:00, 64.82it/s]\n",
      "left: 100%|██████████| 100000/100000 [31:58<00:00, 52.11it/s] \n",
      "right: 100%|██████████| 100000/100000 [29:07<00:00, 57.22it/s] \n"
     ]
    }
   ],
   "source": [
    "import pickle\n",
    "\n",
    "size = 300\n",
    "sample_size = 100000\n",
    "\n",
    "\n",
    "# tokenize\n",
    "for X, f_name in zip(data, f_names):\n",
    "    x = []\n",
    "\n",
    "    for i in tqdm(X[ : sample_size], desc=f\"{f_name.split('_')[-1]}\"):\n",
    "        embedding = []\n",
    "        \n",
    "        for text in i['text']:\n",
    "            text_embedding = np.zeros(size).reshape((1, size))\n",
    "            count = 0\n",
    "\n",
    "            for word in word_extraction(text):\n",
    "                word_embedding = glove[word].numpy().reshape(1, -1)\n",
    "                \n",
    "                # check\n",
    "                if not np.all(word_embedding == 0):\n",
    "                    text_embedding += word_embedding\n",
    "                    count += 1      \n",
    "            \n",
    "            # check for zero\n",
    "            if np.all(text_embedding):\n",
    "                text_embedding /= count\n",
    "                \n",
    "                embedding.append(text_embedding.tolist()[0])\n",
    "\n",
    "        x.append(embedding)\n",
    "    \n",
    "    with open(f\"feature/{f_name.split('_')[-1]}.p\", 'wb') as f:\n",
    "        pickle.dump(x, f)\n"
   ]
  },
  {
   "attachments": {},
   "cell_type": "markdown",
   "metadata": {},
   "source": [
    "main: extract features with bag of words and bert separately, concatenate comment and target features to form a feature set"
   ]
  },
  {
   "attachments": {},
   "cell_type": "markdown",
   "metadata": {},
   "source": [
    "week11 objectives:\n",
    "\n",
    "1. train a baseline on glove_300\n",
    "2. compare performance with fast_text embedding"
   ]
  },
  {
   "cell_type": "code",
   "execution_count": 4,
   "metadata": {},
   "outputs": [
    {
     "name": "stderr",
     "output_type": "stream",
     "text": [
      "100%|██████████| 100000/100000 [00:36<00:00, 2766.54it/s]\n",
      "100%|██████████| 100000/100000 [00:39<00:00, 2510.92it/s]\n",
      "100%|██████████| 100000/100000 [00:48<00:00, 2060.42it/s]\n"
     ]
    }
   ],
   "source": [
    "import pickle\n",
    "\n",
    "\n",
    "size = 300\n",
    "\n",
    "data, f_names = [], [\"train_center\", \"train_left\", \"train_right\"]\n",
    "labels = []\n",
    "\n",
    "label = {\"right\": 0, \"center\": 1, \"left\": 2}\n",
    "\n",
    "\n",
    "# load data\n",
    "for f_name in f_names:\n",
    "    with open(f\"feature/{f_name.split('_')[-1]}.p\", 'rb') as f:\n",
    "        X = pickle.load(f)\n",
    "\n",
    "        for x in tqdm(X, total=len(X)):\n",
    "            embedding = np.zeros(size).reshape((1, size))\n",
    "\n",
    "            for text_embedding in x:\n",
    "                embedding += np.array(text_embedding).reshape(1, -1)\n",
    "            # mean\n",
    "            data.append(embedding[0].tolist())\n",
    "            # reverse\n",
    "            labels.append(label[f_name.split('_')[-1]])\n"
   ]
  },
  {
   "cell_type": "code",
   "execution_count": 5,
   "metadata": {},
   "outputs": [],
   "source": [
    "from sklearn.model_selection import train_test_split, GridSearchCV\n",
    "\n",
    "\n",
    "x_train, x_test, y_train, y_test = train_test_split(data, labels, test_size=0.33, random_state=42)"
   ]
  },
  {
   "cell_type": "code",
   "execution_count": 6,
   "metadata": {},
   "outputs": [],
   "source": [
    "from sklearn.decomposition import PCA\n",
    "\n",
    "from sklearn.pipeline import Pipeline\n",
    "from sklearn.linear_model import LogisticRegression\n"
   ]
  },
  {
   "cell_type": "code",
   "execution_count": 7,
   "metadata": {},
   "outputs": [],
   "source": [
    "import warnings\n",
    "warnings.filterwarnings('ignore')\n",
    "\n",
    "\n",
    "steps = [\n",
    "    # ('pca', PCA()),\n",
    "    ('clf', LogisticRegression())\n",
    "    ]\n",
    "        \n",
    "pipe = Pipeline(steps)\n"
   ]
  },
  {
   "cell_type": "code",
   "execution_count": 8,
   "metadata": {},
   "outputs": [
    {
     "name": "stdout",
     "output_type": "stream",
     "text": [
      "Fitting 5 folds for each of 9 candidates, totalling 45 fits\n",
      "best params: {'clf__max_iter': 500, 'clf__penalty': 'l2'}\n",
      "test accuracy: 0.5709898989898989\n"
     ]
    }
   ],
   "source": [
    "params = {\n",
    "    # 'pca__n_components' : [80, 100, 120, 140],\n",
    "    'clf__penalty' : ['l1', 'l2', 'elasticnet'],\n",
    "    'clf__max_iter' : [300, 400, 500]\n",
    "}\n",
    "\n",
    "gs = GridSearchCV(estimator=pipe, param_grid=params, scoring='accuracy', verbose=1)\n",
    "\n",
    "gs.fit(x_train, y_train)\n",
    "\n",
    "print(f\"best params: {gs.best_params_}\")\n",
    "\n",
    "\n",
    "from sklearn.metrics import accuracy_score\n",
    "\n",
    "y_pred = gs.predict(x_test)\n",
    "acc = accuracy_score(y_test, y_pred)\n",
    "\n",
    "print(f\"test accuracy: {acc}\")\n"
   ]
  },
  {
   "cell_type": "code",
   "execution_count": null,
   "metadata": {},
   "outputs": [],
   "source": [
    "from sklearn.ensemble import GradientBoostingRegressor\n",
    "\n",
    "\n",
    "steps = [\n",
    "    # ('pca', PCA()),\n",
    "    ('clf', GradientBoostingRegressor())\n",
    "    ]\n",
    "        \n",
    "pipe = Pipeline(steps)\n",
    "\n",
    "params = {\n",
    "    'clf__learning_rate': [0.01, 0.02, 0.03, 0.04],\n",
    "    'clf__subsample'    : [0.9, 0.5, 0.2, 0.1],\n",
    "    'clf__n_estimators' : [100, 500, 1000, 1500],\n",
    "    'clf__max_depth'    : [4, 6, 8, 10]\n",
    "}\n",
    "\n",
    "gs = GridSearchCV(estimator=pipe, param_grid=params, cv=2, scoring='accuracy', verbose=1)\n",
    "\n",
    "gs.fit(x_train, y_train)\n",
    "\n",
    "print(f\"best params: {gs.best_params_}\")\n",
    "\n",
    "\n",
    "from sklearn.metrics import accuracy_score\n",
    "\n",
    "y_pred = gs.predict(x_test)\n",
    "acc = accuracy_score(y_test, y_pred)\n",
    "\n",
    "print(f\"test accuracy: {acc}\")\n"
   ]
  },
  {
   "cell_type": "code",
   "execution_count": 11,
   "metadata": {},
   "outputs": [
    {
     "data": {
      "text/plain": [
       "[0, 1, 2]"
      ]
     },
     "execution_count": 11,
     "metadata": {},
     "output_type": "execute_result"
    }
   ],
   "source": [
    "label = {\"right\": 0, \"center\": 1, \"left\": 2}\n",
    "\n",
    "\n",
    "list(label.values())"
   ]
  },
  {
   "cell_type": "code",
   "execution_count": 13,
   "metadata": {},
   "outputs": [
    {
     "data": {
      "image/png": "[encoded data removed]",
      "text/plain": [
       "<Figure size 640x480 with 2 Axes>"
      ]
     },
     "metadata": {},
     "output_type": "display_data"
    }
   ],
   "source": [
    "import matplotlib.pyplot as plt\n",
    "import seaborn as sns\n",
    "\n",
    "from sklearn.metrics import confusion_matrix, classification_report\n",
    "\n",
    "\n",
    "ax= plt.subplot()\n",
    "\n",
    "predictions = gs.predict(x_test)\n",
    "cm = confusion_matrix(y_test, predictions)\n",
    "\n",
    "sns.heatmap(cm, annot=True, fmt='g', ax=ax);  #annot=True to annotate cells, ftm='g' to disable scientific notation\n",
    "\n",
    "# labels, title and ticks\n",
    "ax.set_xlabel(\"Predicted\"); ax.set_ylabel(\"True\"); \n",
    "\n",
    "ax.set_title(\"Confusion Matrix\"); \n",
    "ax.xaxis.set_ticklabels(list(label.keys()), rotation=45); ax.yaxis.set_ticklabels(list(label.keys()), rotation=45);"
   ]
  },
  {
   "cell_type": "code",
   "execution_count": 15,
   "metadata": {},
   "outputs": [
    {
     "name": "stdout",
     "output_type": "stream",
     "text": [
      "---- test accuracy 0.571 ----\n"
     ]
    }
   ],
   "source": [
    "print(\"---- test accuracy %s ----\" % round(accuracy_score(y_test, predictions), 4))"
   ]
  },
  {
   "cell_type": "code",
   "execution_count": 16,
   "metadata": {},
   "outputs": [
    {
     "name": "stdout",
     "output_type": "stream",
     "text": [
      "              precision    recall  f1-score   support\n",
      "\n",
      "       right       0.55      0.53      0.54     33003\n",
      "      center       0.56      0.61      0.59     32924\n",
      "        left       0.60      0.57      0.59     33073\n",
      "\n",
      "    accuracy                           0.57     99000\n",
      "   macro avg       0.57      0.57      0.57     99000\n",
      "weighted avg       0.57      0.57      0.57     99000\n",
      "\n"
     ]
    }
   ],
   "source": [
    "print(classification_report(y_test, predictions, target_names=list(label.keys())))"
   ]
  },
  {
   "cell_type": "code",
   "execution_count": 14,
   "metadata": {},
   "outputs": [],
   "source": [
    "import pickle\n",
    "\n",
    "with open(\"lr.p\", 'wb') as f:\n",
    "    pickle.dump(gs, f)"
   ]
  },
  {
   "cell_type": "code",
   "execution_count": null,
   "metadata": {},
   "outputs": [],
   "source": []
  }
 ],
 "metadata": {
  "kernelspec": {
   "display_name": "attack",
   "language": "python",
   "name": "python3"
  },
  "language_info": {
   "codemirror_mode": {
    "name": "ipython",
    "version": 3
   },
   "file_extension": ".py",
   "mimetype": "text/x-python",
   "name": "python",
   "nbconvert_exporter": "python",
   "pygments_lexer": "ipython3",
   "version": "3.11.3"
  },
  "orig_nbformat": 4
 },
 "nbformat": 4,
 "nbformat_minor": 2
}
