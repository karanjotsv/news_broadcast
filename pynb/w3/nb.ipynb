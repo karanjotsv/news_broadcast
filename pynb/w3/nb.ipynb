{
 "cells": [
  {
   "attachments": {},
   "cell_type": "markdown",
   "metadata": {},
   "source": [
    "week3 objectives:\n",
    "1. topic extraction for variations of transcript: phrase, sentence and chunk\n",
    "2. visualize topic clusters\n",
    "3. compare quality of topics for variations"
   ]
  },
  {
   "cell_type": "code",
   "execution_count": 1,
   "metadata": {},
   "outputs": [],
   "source": [
    "import os\n",
    "\n",
    "import warnings\n",
    "warnings.filterwarnings('ignore')\n",
    "\n",
    "os.environ['TF_CPP_MIN_LOG_LEVEL'] = '3' \n",
    "import tensorflow as tf"
   ]
  },
  {
   "cell_type": "code",
   "execution_count": 2,
   "metadata": {},
   "outputs": [
    {
     "name": "stdout",
     "output_type": "stream",
     "text": [
      "Note: you may need to restart the kernel to use updated packages.\n"
     ]
    }
   ],
   "source": [
    "# install\n",
    "%pip install -q bertopic\n",
    "\n",
    "# %pip install bertopic | grep -v 'already satisfied\\|wheel'\n",
    "\n",
    "from transformers.utils import logging\n",
    "# disable tqdm\n",
    "logging.disable_progress_bar()"
   ]
  },
  {
   "cell_type": "code",
   "execution_count": 104,
   "metadata": {},
   "outputs": [],
   "source": [
    "import json\n",
    "\n",
    "with open(\"../w2/chunk.json\") as f:\n",
    "    data = json.load(f)"
   ]
  },
  {
   "cell_type": "code",
   "execution_count": 105,
   "metadata": {},
   "outputs": [
    {
     "name": "stdout",
     "output_type": "stream",
     "text": [
      "5.0\n"
     ]
    }
   ],
   "source": [
    "print(data['data'][0]['duration'])\n",
    "\n",
    "data = data['data'][0]['chunks']"
   ]
  },
  {
   "cell_type": "code",
   "execution_count": 106,
   "metadata": {},
   "outputs": [],
   "source": [
    "from sentence_transformers import SentenceTransformer\n",
    "\n",
    "\n",
    "# paraphrase-multilingual-mpnet-base-v2\n",
    "\n",
    "sentenc_model = SentenceTransformer('distilbert-base-nli-mean-tokens')"
   ]
  },
  {
   "cell_type": "code",
   "execution_count": 107,
   "metadata": {},
   "outputs": [
    {
     "name": "stderr",
     "output_type": "stream",
     "text": [
      "Batches: 100%|██████████| 4/4 [00:00<00:00,  8.68it/s]\n"
     ]
    },
    {
     "data": {
      "text/plain": [
       "(124, 768)"
      ]
     },
     "execution_count": 107,
     "metadata": {},
     "output_type": "execute_result"
    }
   ],
   "source": [
    "# extract embeddings\n",
    "embeddings = sentenc_model.encode([i['text'] for i in data], show_progress_bar=True)\n",
    "\n",
    "embeddings.shape  # num of phrases = 244"
   ]
  },
  {
   "cell_type": "code",
   "execution_count": 108,
   "metadata": {},
   "outputs": [
    {
     "data": {
      "text/plain": [
       "\"\\ndim_embeddings = umap.UMAP(n_neighbors=5, n_components=20, metric='cosine').fit_transform(embeddings)\\n\\ndim_embeddings.shape\\n\""
      ]
     },
     "execution_count": 108,
     "metadata": {},
     "output_type": "execute_result"
    }
   ],
   "source": [
    "import umap\n",
    "\n",
    "# dimensionality reduction\n",
    "'''\n",
    "dim_embeddings = umap.UMAP(n_neighbors=5, n_components=20, metric='cosine').fit_transform(embeddings)\n",
    "\n",
    "dim_embeddings.shape\n",
    "'''"
   ]
  },
  {
   "cell_type": "code",
   "execution_count": 109,
   "metadata": {},
   "outputs": [
    {
     "data": {
      "text/plain": [
       "'\\nclusters = hdbscan.HDBSCAN(min_cluster_size=7).fit(dim_embeddings)\\n'"
      ]
     },
     "execution_count": 109,
     "metadata": {},
     "output_type": "execute_result"
    }
   ],
   "source": [
    "import hdbscan\n",
    "\n",
    "# clustering\n",
    "'''\n",
    "clusters = hdbscan.HDBSCAN(min_cluster_size=7).fit(dim_embeddings)\n",
    "'''"
   ]
  },
  {
   "cell_type": "code",
   "execution_count": 114,
   "metadata": {},
   "outputs": [],
   "source": [
    "# stitched together\n",
    "from bertopic import BERTopic\n",
    "\n",
    "from sklearn.feature_extraction.text import CountVectorizer\n",
    "\n",
    "# sub models\n",
    "vectorizer = CountVectorizer(stop_words='english')\n",
    "\n",
    "reduc_model = umap.UMAP(n_neighbors=5, n_components=25, metric='cosine')\n",
    "clustr_model = hdbscan.HDBSCAN(min_cluster_size=5)\n",
    "\n",
    "model = BERTopic(embedding_model=sentenc_model, \n",
    "                 umap_model=reduc_model, \n",
    "                 hdbscan_model=clustr_model, \n",
    "                 vectorizer_model=vectorizer).fit([i['text'] for i in data], embeddings)"
   ]
  },
  {
   "cell_type": "code",
   "execution_count": 115,
   "metadata": {},
   "outputs": [
    {
     "data": {
      "text/html": [
       "<div>\n",
       "<style scoped>\n",
       "    .dataframe tbody tr th:only-of-type {\n",
       "        vertical-align: middle;\n",
       "    }\n",
       "\n",
       "    .dataframe tbody tr th {\n",
       "        vertical-align: top;\n",
       "    }\n",
       "\n",
       "    .dataframe thead th {\n",
       "        text-align: right;\n",
       "    }\n",
       "</style>\n",
       "<table border=\"1\" class=\"dataframe\">\n",
       "  <thead>\n",
       "    <tr style=\"text-align: right;\">\n",
       "      <th></th>\n",
       "      <th>Topic</th>\n",
       "      <th>Count</th>\n",
       "      <th>Name</th>\n",
       "      <th>Representation</th>\n",
       "      <th>Representative_Docs</th>\n",
       "    </tr>\n",
       "  </thead>\n",
       "  <tbody>\n",
       "    <tr>\n",
       "      <th>0</th>\n",
       "      <td>-1</td>\n",
       "      <td>24</td>\n",
       "      <td>-1_people_trans_gun_don</td>\n",
       "      <td>[people, trans, gun, don, guns, control, owner...</td>\n",
       "      <td>[them as we are, say, Ukraine's trans army?  A...</td>\n",
       "    </tr>\n",
       "    <tr>\n",
       "      <th>1</th>\n",
       "      <td>0</td>\n",
       "      <td>28</td>\n",
       "      <td>0_npr_know_ussie_radio</td>\n",
       "      <td>[npr, know, ussie, radio, reporter, national, ...</td>\n",
       "      <td>[But it turns out NPR didn't tell the entire s...</td>\n",
       "    </tr>\n",
       "    <tr>\n",
       "      <th>2</th>\n",
       "      <td>1</td>\n",
       "      <td>25</td>\n",
       "      <td>1_like_want_dangerous_fear</td>\n",
       "      <td>[like, want, dangerous, fear, curious, people,...</td>\n",
       "      <td>[a good thing.  The pedophile curious, now the...</td>\n",
       "    </tr>\n",
       "    <tr>\n",
       "      <th>3</th>\n",
       "      <td>2</td>\n",
       "      <td>18</td>\n",
       "      <td>2_trans_thing_firearms_don</td>\n",
       "      <td>[trans, thing, firearms, don, 15, bang, need, ...</td>\n",
       "      <td>[Ban assault weapons and high capacity magazin...</td>\n",
       "    </tr>\n",
       "    <tr>\n",
       "      <th>4</th>\n",
       "      <td>3</td>\n",
       "      <td>15</td>\n",
       "      <td>3_targeting_changing_hampshire_shooting</td>\n",
       "      <td>[targeting, changing, hampshire, shooting, tra...</td>\n",
       "      <td>[some queer people to take up arms.  New Hamps...</td>\n",
       "    </tr>\n",
       "    <tr>\n",
       "      <th>5</th>\n",
       "      <td>4</td>\n",
       "      <td>9</td>\n",
       "      <td>4_day_got_frivolity_yard</td>\n",
       "      <td>[day, got, frivolity, yard, measurably, litera...</td>\n",
       "      <td>[I got it done once.  I'm going to do it again...</td>\n",
       "    </tr>\n",
       "    <tr>\n",
       "      <th>6</th>\n",
       "      <td>5</td>\n",
       "      <td>5</td>\n",
       "      <td>5_party_instance_eastern_living</td>\n",
       "      <td>[party, instance, eastern, living, head, neigh...</td>\n",
       "      <td>[Joe Biden, for instance, makes this point reg...</td>\n",
       "    </tr>\n",
       "  </tbody>\n",
       "</table>\n",
       "</div>"
      ],
      "text/plain": [
       "   Topic  Count                                     Name  \\\n",
       "0     -1     24                  -1_people_trans_gun_don   \n",
       "1      0     28                   0_npr_know_ussie_radio   \n",
       "2      1     25               1_like_want_dangerous_fear   \n",
       "3      2     18               2_trans_thing_firearms_don   \n",
       "4      3     15  3_targeting_changing_hampshire_shooting   \n",
       "5      4      9                 4_day_got_frivolity_yard   \n",
       "6      5      5          5_party_instance_eastern_living   \n",
       "\n",
       "                                      Representation  \\\n",
       "0  [people, trans, gun, don, guns, control, owner...   \n",
       "1  [npr, know, ussie, radio, reporter, national, ...   \n",
       "2  [like, want, dangerous, fear, curious, people,...   \n",
       "3  [trans, thing, firearms, don, 15, bang, need, ...   \n",
       "4  [targeting, changing, hampshire, shooting, tra...   \n",
       "5  [day, got, frivolity, yard, measurably, litera...   \n",
       "6  [party, instance, eastern, living, head, neigh...   \n",
       "\n",
       "                                 Representative_Docs  \n",
       "0  [them as we are, say, Ukraine's trans army?  A...  \n",
       "1  [But it turns out NPR didn't tell the entire s...  \n",
       "2  [a good thing.  The pedophile curious, now the...  \n",
       "3  [Ban assault weapons and high capacity magazin...  \n",
       "4  [some queer people to take up arms.  New Hamps...  \n",
       "5  [I got it done once.  I'm going to do it again...  \n",
       "6  [Joe Biden, for instance, makes this point reg...  "
      ]
     },
     "execution_count": 115,
     "metadata": {},
     "output_type": "execute_result"
    }
   ],
   "source": [
    "model.get_topic_info().head(15)"
   ]
  },
  {
   "cell_type": "code",
   "execution_count": 121,
   "metadata": {},
   "outputs": [
    {
     "data": {
      "text/plain": [
       "'0_npr_know_ussie_radio'"
      ]
     },
     "execution_count": 121,
     "metadata": {},
     "output_type": "execute_result"
    }
   ],
   "source": [
    "model.get_topic_info().Name[1]"
   ]
  },
  {
   "cell_type": "code",
   "execution_count": 122,
   "metadata": {},
   "outputs": [
    {
     "data": {
      "text/plain": [
       "[\"But it turns out NPR didn't tell the entire story.  What NPR left out was that Ussie had shot a sheriff's deputy prior to killing himself.\",\n",
       " \"pronouns than human life.  NPR would rather you didn't know any of this.  We only know that this actually happened because reporters like Jason Rantz and Andy Ngo, one\",\n",
       " 'Watch out.  Wait a second, we thought.  This is NPR, national public radio, suddenly telling you that actually guns are good.']"
      ]
     },
     "execution_count": 122,
     "metadata": {},
     "output_type": "execute_result"
    }
   ],
   "source": [
    "model.get_topic_info().Representative_Docs[1]"
   ]
  },
  {
   "cell_type": "code",
   "execution_count": 116,
   "metadata": {},
   "outputs": [
    {
     "data": {
      "text/plain": [
       "['people trans gun',\n",
       " 'npr know ussie',\n",
       " 'like want dangerous',\n",
       " 'trans thing firearms',\n",
       " 'targeting changing hampshire',\n",
       " 'day got frivolity',\n",
       " 'party instance eastern']"
      ]
     },
     "execution_count": 116,
     "metadata": {},
     "output_type": "execute_result"
    }
   ],
   "source": [
    "# nicer labels\n",
    "topic_labels = model.generate_topic_labels(nr_words=3, topic_prefix=False, word_length=15, separator=\" \")\n",
    "\n",
    "topic_labels"
   ]
  },
  {
   "cell_type": "code",
   "execution_count": 117,
   "metadata": {},
   "outputs": [
    {
     "data": {
      "application/vnd.plotly.v1+json": {
       "config": {
        "plotlyServerURL": "https://plot.ly"
       },
       "data": [
        {
         "hoverinfo": "text",
         "hovertext": [
          "spokeswoman as the cop was in the hospital undergoing emergency surgery.",
          "There's also a different crew packing up warm clothes and weapons.  Thank you all for coming to Rainbow Reload.",
          "the Tappet brothers.  And we remember very clearly their position on guns.  For example, quote, the US has more guns than any other country in the world.",
          "When the Democratic Party speaks, it is always with one voice, often in a North Korean accent.",
          "against the trans community.  And here's what he found having done actual research into it.",
          "If we don't control them, you can't have them.  Every Democrat thinks this is part of the catechism.",
          "Rainbow Reload!  They're packing heat.  There'll be appendix carrying in more ways than one.",
          "In fact, Ussie put that sheriff's deputy in the hospital where he remains tonight after  undergoing emergency surgery.",
          "So the people in that frame and a lot of people actually who listen to NPR care more about",
          "Just trans people.  Guns are bad, except in the hands of trans people.",
          "and petition signers and that their highest virtue is conformity.",
          "safety in numbers.  Don't go out alone.  Bring 80 million people with you.",
          "youth, LGBTQ seniors, and LGBTQ immigrants.",
          "So if trans people are in fear for their lives in every region of the country, including  New England, which apparently is crawling with Nazis now, why wouldn't we be arming",
          "a police officer by a trans identifying individual called Ussie, activists heckled the police",
          "and not subtle ones like the segment entitled, Many Gun Owners Support Gun Control.",
          "So why don't they speak out?  Oh, yeah, a lot of gun owners support gun control.  Of course they do.",
          "And so Ussie's life matters much more than anyone's, including the cop he shot and certainly",
          "Biden administration, encouraging people to go to the gun store immediately.  But not all people.",
          "It's amazing.  Just last year, these very same people were all eminent virologists, every one of them,",
          "by black men in the course of prostitution activities.  So we believe that that is factually true.",
          "them as we are, say, Ukraine's trans army?  And there are famously trans people in Ukraine's army.",
          "They are trans and I ask that they don't be dead named.  Thank you.",
          "Your anti-trans rhetoric makes the trans community carry guns.",
          null
         ],
         "marker": {
          "color": "#CFD8DC",
          "opacity": 0.5,
          "size": 5
         },
         "mode": "markers+text",
         "name": "other",
         "showlegend": false,
         "type": "scattergl",
         "x": [
          8.89075756072998,
          8.765569686889648,
          8.118863105773926,
          6.908655166625977,
          8.236458778381348,
          7.1158599853515625,
          9.382088661193848,
          8.775250434875488,
          7.483382701873779,
          7.545825958251953,
          5.532569885253906,
          9.313940048217773,
          8.921592712402344,
          7.574542999267578,
          8.184502601623535,
          7.31960916519165,
          7.251097202301025,
          8.035264015197754,
          8.482641220092773,
          8.730247497558594,
          7.946566581726074,
          8.08881664276123,
          5.505005836486816,
          7.578700065612793,
          7.903658390045166
         ],
         "y": [
          -2.592729091644287,
          -1.6059032678604126,
          0.0558624193072319,
          -1.0378316640853882,
          -1.3688263893127441,
          -0.7133707404136658,
          -0.4132691025733948,
          -2.6836211681365967,
          -2.5256590843200684,
          -1.0253946781158447,
          -0.2343498170375824,
          -0.3114203214645386,
          -0.46133559942245483,
          -1.7526956796646118,
          -0.3490867018699646,
          -0.37802281975746155,
          -0.35034412145614624,
          0.1603197157382965,
          -1.3892775774002075,
          0.08317587524652481,
          0.20142263174057007,
          -1.0186086893081665,
          -0.37375661730766296,
          -1.1333140134811401,
          -0.8840848803520203
         ]
        },
        {
         "hoverinfo": "text",
         "hovertext": [
          "We've been led to believe that your 29 year old man is actually a transgender person.",
          "Why?  Because they said the spokeswoman misgendered the shooter.  Watch this.",
          "None of that ever gets mentioned, of course, least of all on national public radio.  What does get mentioned?  Well, the neo-Nazis, of course, they're the real threat.",
          "pronouns than human life.  NPR would rather you didn't know any of this.  We only know that this actually happened because reporters like Jason Rantz and Andy Ngo, one",
          "Watch out.  Wait a second, we thought.  This is NPR, national public radio, suddenly telling you that actually guns are good.",
          "That wasn't of any interest whatsoever to NPR's social justice team.  They just didn't care.",
          "mask to cover both nose and mouth and listening, needless to say, to national public radio,",
          "out of her apartment and kills herself out of desperation.  And anyone hearing or reading that dispatch from NPR reporter, Lily Anna Fowler, would",
          "But it turns out NPR didn't tell the entire story.  What NPR left out was that Ussie had shot a sheriff's deputy prior to killing himself.",
          "In case you want to look it up, it's E-U-C-Y.  Here's how that NPR reporter described the suicide of Ussie.",
          "You have to be dangerous back.  Now is that a quote from an FBI indictment of the Proud Boys?",
          "And the lip smacking NPR reporters just say it without any sense of self-awareness at all.",
          "now active in New England that's targeted trans people.  The neo-Nazi group active in New England, the least right wing region in America.",
          "Quote, spoke to Rachel, a friend of Ussie, the Ballard resident who died by suicide yesterday  while being evicted by King County Sheriff's deputies.",
          "The officer is in the hospital fighting for his life.  But the debate is whether we're dead naming someone who shot him.",
          "So there are times when guns are good, says NPR.  And we thought, wait a second, we've been listening to NPR since, well, click and clack",
          "But if you listen to NPR, you wouldn't know that.  And that kind of talk might scare the heck out of you.",
          "The gun curious.  Well, you know, when NPR describes something as the fill in the blank curious, then it's",
          "The social justice reporter from NPR station KNKX in Seattle, a reporter called Lily Anna",
          "What is going on here?  Well, you know what's going on here.  Is that NPR has decided that guns are bad, except when the enforcers of its ideology",
          "Fowler, just reported on a fascinating story.  It's the suicide of a self-described trans person called Ussie.",
          "No, it's from an NPR segment.  At this point, it's hard to tell the difference.",
          "The Biden administration hired a kid to oversee nuclear waste disposal whose only qualification",
          "Rachel says her friend had tried to get help in paying rent, but exhausted all options.",
          "like NPR, don't take any money from taxpayers for paying attention and knew the details.  And by the way, Andy Ngo has run the numbers about these claims of violence and genocide",
          "And yet here's that same national public radio, state radio, state media, controlled by the",
          "What they wanted you to know was that Ussie was part of the trans community and Ussie  died.",
          "What's interesting is this is not just one NPR segment.",
          null
         ],
         "marker": {
          "opacity": 0.5,
          "size": 5
         },
         "mode": "markers+text",
         "name": "0_npr_know_ussie",
         "text": [
          "",
          "",
          "",
          "",
          "",
          "",
          "",
          "",
          "",
          "",
          "",
          "",
          "",
          "",
          "",
          "",
          "",
          "",
          "",
          "",
          "",
          "",
          "",
          "",
          "",
          "",
          "",
          "",
          "0_npr_know_ussie"
         ],
         "textfont": {
          "size": 12
         },
         "type": "scattergl",
         "x": [
          8.618932723999023,
          8.075688362121582,
          7.047120094299316,
          7.198929786682129,
          7.6182169914245605,
          6.3763017654418945,
          7.038525104522705,
          8.22287368774414,
          8.006168365478516,
          8.146307945251465,
          8.021504402160645,
          6.622714519500732,
          7.215770244598389,
          8.35145092010498,
          8.467117309570312,
          7.724793434143066,
          7.154227256774902,
          7.461330890655518,
          7.5937089920043945,
          7.483190536499023,
          8.332310676574707,
          7.159852504730225,
          7.067692756652832,
          8.199135780334473,
          6.882033824920654,
          6.988846778869629,
          8.505712509155273,
          6.858910083770752,
          7.587120056152344
         ],
         "y": [
          -1.020803689956665,
          -3.398996591567993,
          -1.6881295442581177,
          -2.5240983963012695,
          -2.8347671031951904,
          -1.78634774684906,
          -2.8559529781341553,
          -3.0091114044189453,
          -3.315190553665161,
          -3.4536635875701904,
          -2.266450881958008,
          -2.148286819458008,
          -1.4565259218215942,
          -3.2838566303253174,
          -2.952864408493042,
          -2.802795886993408,
          -2.380638360977173,
          -2.8772666454315186,
          -3.1710915565490723,
          -2.2633326053619385,
          -3.4307289123535156,
          -2.869318723678589,
          -1.6820012331008911,
          -3.0342159271240234,
          -1.8783518075942993,
          -2.879380464553833,
          -3.4612653255462646,
          -3.0410356521606445,
          -2.634516954421997
         ]
        },
        {
         "hoverinfo": "text",
         "hovertext": [
          "This is a party based on the idea of the group, the bureaucracy, the blob.",
          "It's a place for experts and the gun curious to practice and improve their shooting.  But this goes beyond hobby.",
          "to there are people that just looking at me will want to hurt me.",
          "in order to get people in a state of agitation, armed people in a state of agitation.  It doesn't matter if they're trans or not, whatever that is.",
          "Not at all.  Selma, Alabama is a desperate place.  Poverty and violence define it.",
          "Not one bit.  About as much as they care about the daily suffering in Selma, Alabama.",
          "a good thing.  The pedophile curious, now the gun curious.  The world is dangerous.",
          "to get guns.  How do you think that ends?  But by the way, if we're following the logic here, and why not?",
          "It's the party of weak, fearful people who are huddled together for collective power.",
          "If it continues, you may start to believe that you're a free citizen and we can't allow  that, and we won't.",
          "Well, that sounds awful.  So here's a person who's fallen on hard times like so many Americans, is getting bounced",
          "That's in short supply in this country.  You have to kind of wonder, like, what's the limit to this?",
          "that sees firearms as key to their own self-defense.  And as you might imagine, this story does include the sound of gunfire.",
          "feel pretty bad for the person who killed him or herself.  Politics aside, completely.",
          "They're valuable tools of self-defense, really against you.",
          "The most vulnerable among us continue to suffer, including LGBTQ individuals of color, LGBTQ",
          "So none of that is factually true, as we just told you.  In fact, some of the people he's describing are not the most oppressed in our society,",
          "There's that individual fear, fear of what may happen simply existing in public.  But for some, there's also a more organized and ominous threat, including a neo-Nazi group",
          "are supposed to.  They'll tell you this at length.  Having a gun like that is just too much autonomy for you.",
          "Again, worse for guns as you could possibly be.  But this seems like an incitement.",
          "There's a practical goal here, to prepare and protect themselves.  If the world is dangerous, then you have to be dangerous back.",
          "What you're watching here is political hysteria, fear, ginned up on purpose with maximum dishonesty",
          "political violence.  They want to be able to commit it and they want you defenseless so you can't fight back.",
          "It's time to ban these weapons.  The right to bear arms is not an absolute right that dominates all others.",
          "And that makes sense because like all totalitarians, they want a monopoly on force.",
          null
         ],
         "marker": {
          "opacity": 0.5,
          "size": 5
         },
         "mode": "markers+text",
         "name": "1_like_want_dangerous",
         "text": [
          "",
          "",
          "",
          "",
          "",
          "",
          "",
          "",
          "",
          "",
          "",
          "",
          "",
          "",
          "",
          "",
          "",
          "",
          "",
          "",
          "",
          "",
          "",
          "",
          "",
          "1_like_want_dangerous"
         ],
         "textfont": {
          "size": 12
         },
         "type": "scattergl",
         "x": [
          7.960212230682373,
          7.018878936767578,
          7.143382549285889,
          6.677845001220703,
          8.002549171447754,
          8.171526908874512,
          7.294281005859375,
          6.554978847503662,
          8.073240280151367,
          6.537924766540527,
          7.782650947570801,
          8.222845077514648,
          6.9224348068237305,
          7.659353733062744,
          6.60646390914917,
          8.344398498535156,
          8.316843032836914,
          7.246033668518066,
          6.841803550720215,
          7.351371765136719,
          6.687448501586914,
          7.4863152503967285,
          6.563827037811279,
          6.394542694091797,
          6.401425361633301,
          7.290503025054932
         ],
         "y": [
          1.2295869588851929,
          0.7880821824073792,
          1.5984669923782349,
          1.3935908079147339,
          1.6514570713043213,
          1.6098086833953857,
          1.0251694917678833,
          0.6971089243888855,
          1.5552815198898315,
          1.3086252212524414,
          1.669118881225586,
          1.691555380821228,
          0.6410966515541077,
          1.6479135751724243,
          1.8633612394332886,
          1.1895796060562134,
          1.5789132118225098,
          1.5173383951187134,
          0.6307274103164673,
          1.500563144683838,
          1.757261037826538,
          1.5271352529525757,
          1.3935028314590454,
          1.124232292175293,
          1.6288964748382568,
          1.3687348365783691
         ]
        },
        {
         "hoverinfo": "text",
         "hovertext": [
          "Good evening and welcome to Tucker Carlson tonight.  If there's one thing your average liberal understands perfectly well, it's that there's",
          "Do you really think Joe Biden and his faithful vice president care about trans rights?",
          "It's safer that way.  There is a reason, a fundamental reason, that Democrats are natural joiners and organizers",
          "have guns.  You can't have guns, but faithful servants of the Democratic Party can.",
          "gone from old cis male, white, upper middle class, really no real fears about anything",
          "Ban assault weapons and high capacity magazines.  You don't need an RAR-15 or whatever they call it.",
          "They know that as long as they're all wearing the same uniform, they'll probably be okay.  This is why you'll see one person in Brookline or Bethesda raise a Ukrainian flag in the",
          "Right?  So debate ends at that point.  When one side has all the firearms, you don't have to argue.",
          "You don't need an RAR-15.  I'm serious.  Think about it.",
          "The trans community, of course, is a vehicle for something else.  And it's always the same thing, which is political power and political power made possible by",
          "was his sexual fetishes.  So no, there's not genocide going on.  There's some weird affirmative action program going on.",
          "They're very, very proud of that.  So why stop with AR-15s?  I mean, why not F-35s or tanks?",
          "There is no genocide of trans people in the US or anywhere in the West.  In fact, there has been an explosion of trans identifying people, which research suggests",
          "having firearms.  We support it, including trans people.  It's fine.  But what you're watching here is not the exercise of the Second Amendment.",
          "with passionate views on the details of pandemic management.  This is, in other words, not a movement of rugged individuals.",
          "You say, well, you can't change your sex.  Shut up, bigot.  Bang, bang.",
          "more than yours.  So what underlies all of this?  It's not about trans rights, of course.",
          "One thing the party often speaks about is gun control.  No American has the right to own an effective firearm, a firearm that does what firearms",
          null
         ],
         "marker": {
          "opacity": 0.5,
          "size": 5
         },
         "mode": "markers+text",
         "name": "2_trans_thing_firearms",
         "text": [
          "",
          "",
          "",
          "",
          "",
          "",
          "",
          "",
          "",
          "",
          "",
          "",
          "",
          "",
          "",
          "",
          "",
          "",
          "2_trans_thing_firearms"
         ],
         "textfont": {
          "size": 12
         },
         "type": "scattergl",
         "x": [
          5.977533340454102,
          5.672691345214844,
          5.68954610824585,
          6.649872303009033,
          6.108734130859375,
          6.151291847229004,
          6.221883296966553,
          6.349789142608643,
          6.035671710968018,
          5.504366874694824,
          5.791419506072998,
          6.196779727935791,
          6.542393207550049,
          6.2796454429626465,
          5.712483882904053,
          5.895524501800537,
          5.685410499572754,
          6.6163105964660645,
          6.060074329376221
         ],
         "y": [
          -0.40051838755607605,
          -0.3916019797325134,
          -0.6359540820121765,
          -0.477579265832901,
          -0.6347435116767883,
          -1.0164070129394531,
          -0.5030315518379211,
          0.006237337831407785,
          -1.2540154457092285,
          -1.1651443243026733,
          -1.3219760656356812,
          -1.0140172243118286,
          -1.121666431427002,
          -0.744805634021759,
          -0.884853184223175,
          -1.5571881532669067,
          -1.4131436347961426,
          -0.3290780782699585,
          -0.825527012348175
         ]
        },
        {
         "hoverinfo": "text",
         "hovertext": [
          "They're the ones targeting Rainbow Reload militia.  Watch this.  One of the members, Sharon, recently transitioned.",
          "A lot of people in this country want it, not just NPR listeners.  When police were holding a press conference about the shooting, again, the shooting of",
          "some queer people to take up arms.  New Hampshire's public radio, Todd Bookman, joined the monthly gathering of a gun group",
          "Mass shootings targeting LGBTQ spaces and a rise in anti-trans rhetoric have inspired",
          "the voice of menopausal liberalism.  And as we're listening, we hear this.  We're going to play it for you and see if you can understand our total shock.",
          "It's the same template always.  Scare the crap out of your voters, tell them that their lives are at risk, encourage them",
          "is a social contagion spread by social media fads and youth peer pressure.  The few dozen trans people tragically killed in America each year are usually murdered",
          "changing the world and changing your life.  I'm Tucker Carlson tonight.",
          "This is the same NPR that, in between updates on the latest trans dinosaur emojis, we've  been following those very carefully, routinely run segments calling for more gun control",
          "Subscribe to the Fox News YouTube channel to catch our nightly opens, stories that are",
          "So you can imagine our surprise.  The other day we're driving through Cambridge in the old hybrid Subaru, adjusting our surgical",
          "Wow.  Here's more.  Groups like Rainbow Reload exist around the country, often called pink pistol clubs.",
          "But they show up once a year to relive the civil rights movement and then they leave.  That's how much they care.  And that's precisely how much they care about the trans community.",
          "On a recent Sunday morning, the parking lot of Patuckaway State Park in southeastern New  Hampshire is filling up with hikers.",
          "Here is Richard Levine in July of 2020 describing the threat.",
          null
         ],
         "marker": {
          "opacity": 0.5,
          "size": 5
         },
         "mode": "markers+text",
         "name": "3_targeting_changing_hampshire",
         "text": [
          "",
          "",
          "",
          "",
          "",
          "",
          "",
          "",
          "",
          "",
          "",
          "",
          "",
          "",
          "",
          "3_targeting_changing_hampshire"
         ],
         "textfont": {
          "size": 12
         },
         "type": "scattergl",
         "x": [
          9.398574829101562,
          8.097160339355469,
          9.1270170211792,
          8.480329513549805,
          8.805822372436523,
          8.004658699035645,
          8.524707794189453,
          9.491363525390625,
          8.941890716552734,
          9.246322631835938,
          9.038982391357422,
          9.095677375793457,
          9.326476097106934,
          9.37403392791748,
          9.3499755859375,
          8.953533172607422
         ],
         "y": [
          -1.4660714864730835,
          -0.6115026473999023,
          -1.1943926811218262,
          -0.49173644185066223,
          -1.2778511047363281,
          -0.2872547507286072,
          -0.5301530957221985,
          -1.3799357414245605,
          -1.8555504083633423,
          -1.6533292531967163,
          -2.1333158016204834,
          -0.6401479840278625,
          -1.1123746633529663,
          -1.0974891185760498,
          -1.5278136730194092,
          -1.1505945920944214
         ]
        },
        {
         "hoverinfo": "text",
         "hovertext": [
          "Is there any truth to that?  I have no idea.  I actually knew the person.",
          "every single day because reading the news, having a few experiences, realizing that I've",
          "I got it done once.  I'm going to do it again.  Eliminate assault weapon.  It's time to ban these.",
          "And I went from concealed carry every once in a while when I was sort of feeling it to",
          "And that very much has pushed me into where I am now.",
          "yard and the very next day, everybody on the street will have one too.",
          "but literally and measurably the most entitled and privileged.",
          "That's a question for our highest ranking trans admiral, Richard Levine.",
          "Yeah.  Okay.  So, obviously, this country has reached peak frivolity.",
          null
         ],
         "marker": {
          "opacity": 0.5,
          "size": 5
         },
         "mode": "markers+text",
         "name": "4_day_got_frivolity",
         "text": [
          "",
          "",
          "",
          "",
          "",
          "",
          "",
          "",
          "",
          "4_day_got_frivolity"
         ],
         "textfont": {
          "size": 12
         },
         "type": "scattergl",
         "x": [
          9.303793907165527,
          9.527127265930176,
          6.391542911529541,
          9.563054084777832,
          9.51918888092041,
          9.538126945495605,
          9.265341758728027,
          9.015275001525879,
          9.365099906921387,
          9.054283142089844
         ],
         "y": [
          1.0687129497528076,
          0.22743064165115356,
          0.5824319124221802,
          0.42880985140800476,
          0.7302176356315613,
          0.17657124996185303,
          1.0072215795516968,
          0.5398522615432739,
          0.7744606137275696,
          0.6150787472724915
         ]
        },
        {
         "hoverinfo": "text",
         "hovertext": [
          "Joe Biden, for instance, makes this point regularly.  Watch.  We're living in a country awash in weapons of war.",
          "And if they encourage you to go get a gun and arm yourself because Nazis are taking  over Vermont, you might do it.",
          "So that's the head of the Democratic Party speaking very clearly that the party's positioned  on guns.",
          "Every state is blue.  But there's a neo-Nazi group that's terrifying everybody.  Look, just to be clear, we're not against people, American citizens, carrying firearms,",
          "Suddenly it's an entire neighborhood of foreign policy experts all specializing in Eastern  European border disputes.",
          null
         ],
         "marker": {
          "opacity": 0.5,
          "size": 5
         },
         "mode": "markers+text",
         "name": "5_party_instance_eastern",
         "text": [
          "",
          "",
          "",
          "",
          "",
          "5_party_instance_eastern"
         ],
         "textfont": {
          "size": 12
         },
         "type": "scattergl",
         "x": [
          7.956450462341309,
          8.29919719696045,
          7.065131187438965,
          7.555924892425537,
          7.8367719650268555,
          7.742694854736328
         ],
         "y": [
          -1.7022297382354736,
          -1.7902823686599731,
          -0.6614825129508972,
          -1.6008622646331787,
          -1.4913150072097778,
          -1.4492343664169312
         ]
        }
       ],
       "layout": {
        "annotations": [
         {
          "showarrow": false,
          "text": "D1",
          "x": 4.678711843490601,
          "y": -0.9187948495149612,
          "yshift": 10
         },
         {
          "showarrow": false,
          "text": "D2",
          "x": 7.838112020492554,
          "xshift": 10,
          "y": 2.142865425348282
         }
        ],
        "height": 750,
        "shapes": [
         {
          "line": {
           "color": "#CFD8DC",
           "width": 2
          },
          "type": "line",
          "x0": 7.838112020492554,
          "x1": 7.838112020492554,
          "y0": -3.9804551243782043,
          "y1": 2.142865425348282
         },
         {
          "line": {
           "color": "#9E9E9E",
           "width": 2
          },
          "type": "line",
          "x0": 4.678711843490601,
          "x1": 10.997512197494506,
          "y0": -0.9187948495149612,
          "y1": -0.9187948495149612
         }
        ],
        "template": {
         "data": {
          "bar": [
           {
            "error_x": {
             "color": "rgb(36,36,36)"
            },
            "error_y": {
             "color": "rgb(36,36,36)"
            },
            "marker": {
             "line": {
              "color": "white",
              "width": 0.5
             },
             "pattern": {
              "fillmode": "overlay",
              "size": 10,
              "solidity": 0.2
             }
            },
            "type": "bar"
           }
          ],
          "barpolar": [
           {
            "marker": {
             "line": {
              "color": "white",
              "width": 0.5
             },
             "pattern": {
              "fillmode": "overlay",
              "size": 10,
              "solidity": 0.2
             }
            },
            "type": "barpolar"
           }
          ],
          "carpet": [
           {
            "aaxis": {
             "endlinecolor": "rgb(36,36,36)",
             "gridcolor": "white",
             "linecolor": "white",
             "minorgridcolor": "white",
             "startlinecolor": "rgb(36,36,36)"
            },
            "baxis": {
             "endlinecolor": "rgb(36,36,36)",
             "gridcolor": "white",
             "linecolor": "white",
             "minorgridcolor": "white",
             "startlinecolor": "rgb(36,36,36)"
            },
            "type": "carpet"
           }
          ],
          "choropleth": [
           {
            "colorbar": {
             "outlinewidth": 1,
             "tickcolor": "rgb(36,36,36)",
             "ticks": "outside"
            },
            "type": "choropleth"
           }
          ],
          "contour": [
           {
            "colorbar": {
             "outlinewidth": 1,
             "tickcolor": "rgb(36,36,36)",
             "ticks": "outside"
            },
            "colorscale": [
             [
              0,
              "#440154"
             ],
             [
              0.1111111111111111,
              "#482878"
             ],
             [
              0.2222222222222222,
              "#3e4989"
             ],
             [
              0.3333333333333333,
              "#31688e"
             ],
             [
              0.4444444444444444,
              "#26828e"
             ],
             [
              0.5555555555555556,
              "#1f9e89"
             ],
             [
              0.6666666666666666,
              "#35b779"
             ],
             [
              0.7777777777777778,
              "#6ece58"
             ],
             [
              0.8888888888888888,
              "#b5de2b"
             ],
             [
              1,
              "#fde725"
             ]
            ],
            "type": "contour"
           }
          ],
          "contourcarpet": [
           {
            "colorbar": {
             "outlinewidth": 1,
             "tickcolor": "rgb(36,36,36)",
             "ticks": "outside"
            },
            "type": "contourcarpet"
           }
          ],
          "heatmap": [
           {
            "colorbar": {
             "outlinewidth": 1,
             "tickcolor": "rgb(36,36,36)",
             "ticks": "outside"
            },
            "colorscale": [
             [
              0,
              "#440154"
             ],
             [
              0.1111111111111111,
              "#482878"
             ],
             [
              0.2222222222222222,
              "#3e4989"
             ],
             [
              0.3333333333333333,
              "#31688e"
             ],
             [
              0.4444444444444444,
              "#26828e"
             ],
             [
              0.5555555555555556,
              "#1f9e89"
             ],
             [
              0.6666666666666666,
              "#35b779"
             ],
             [
              0.7777777777777778,
              "#6ece58"
             ],
             [
              0.8888888888888888,
              "#b5de2b"
             ],
             [
              1,
              "#fde725"
             ]
            ],
            "type": "heatmap"
           }
          ],
          "heatmapgl": [
           {
            "colorbar": {
             "outlinewidth": 1,
             "tickcolor": "rgb(36,36,36)",
             "ticks": "outside"
            },
            "colorscale": [
             [
              0,
              "#440154"
             ],
             [
              0.1111111111111111,
              "#482878"
             ],
             [
              0.2222222222222222,
              "#3e4989"
             ],
             [
              0.3333333333333333,
              "#31688e"
             ],
             [
              0.4444444444444444,
              "#26828e"
             ],
             [
              0.5555555555555556,
              "#1f9e89"
             ],
             [
              0.6666666666666666,
              "#35b779"
             ],
             [
              0.7777777777777778,
              "#6ece58"
             ],
             [
              0.8888888888888888,
              "#b5de2b"
             ],
             [
              1,
              "#fde725"
             ]
            ],
            "type": "heatmapgl"
           }
          ],
          "histogram": [
           {
            "marker": {
             "line": {
              "color": "white",
              "width": 0.6
             }
            },
            "type": "histogram"
           }
          ],
          "histogram2d": [
           {
            "colorbar": {
             "outlinewidth": 1,
             "tickcolor": "rgb(36,36,36)",
             "ticks": "outside"
            },
            "colorscale": [
             [
              0,
              "#440154"
             ],
             [
              0.1111111111111111,
              "#482878"
             ],
             [
              0.2222222222222222,
              "#3e4989"
             ],
             [
              0.3333333333333333,
              "#31688e"
             ],
             [
              0.4444444444444444,
              "#26828e"
             ],
             [
              0.5555555555555556,
              "#1f9e89"
             ],
             [
              0.6666666666666666,
              "#35b779"
             ],
             [
              0.7777777777777778,
              "#6ece58"
             ],
             [
              0.8888888888888888,
              "#b5de2b"
             ],
             [
              1,
              "#fde725"
             ]
            ],
            "type": "histogram2d"
           }
          ],
          "histogram2dcontour": [
           {
            "colorbar": {
             "outlinewidth": 1,
             "tickcolor": "rgb(36,36,36)",
             "ticks": "outside"
            },
            "colorscale": [
             [
              0,
              "#440154"
             ],
             [
              0.1111111111111111,
              "#482878"
             ],
             [
              0.2222222222222222,
              "#3e4989"
             ],
             [
              0.3333333333333333,
              "#31688e"
             ],
             [
              0.4444444444444444,
              "#26828e"
             ],
             [
              0.5555555555555556,
              "#1f9e89"
             ],
             [
              0.6666666666666666,
              "#35b779"
             ],
             [
              0.7777777777777778,
              "#6ece58"
             ],
             [
              0.8888888888888888,
              "#b5de2b"
             ],
             [
              1,
              "#fde725"
             ]
            ],
            "type": "histogram2dcontour"
           }
          ],
          "mesh3d": [
           {
            "colorbar": {
             "outlinewidth": 1,
             "tickcolor": "rgb(36,36,36)",
             "ticks": "outside"
            },
            "type": "mesh3d"
           }
          ],
          "parcoords": [
           {
            "line": {
             "colorbar": {
              "outlinewidth": 1,
              "tickcolor": "rgb(36,36,36)",
              "ticks": "outside"
             }
            },
            "type": "parcoords"
           }
          ],
          "pie": [
           {
            "automargin": true,
            "type": "pie"
           }
          ],
          "scatter": [
           {
            "fillpattern": {
             "fillmode": "overlay",
             "size": 10,
             "solidity": 0.2
            },
            "type": "scatter"
           }
          ],
          "scatter3d": [
           {
            "line": {
             "colorbar": {
              "outlinewidth": 1,
              "tickcolor": "rgb(36,36,36)",
              "ticks": "outside"
             }
            },
            "marker": {
             "colorbar": {
              "outlinewidth": 1,
              "tickcolor": "rgb(36,36,36)",
              "ticks": "outside"
             }
            },
            "type": "scatter3d"
           }
          ],
          "scattercarpet": [
           {
            "marker": {
             "colorbar": {
              "outlinewidth": 1,
              "tickcolor": "rgb(36,36,36)",
              "ticks": "outside"
             }
            },
            "type": "scattercarpet"
           }
          ],
          "scattergeo": [
           {
            "marker": {
             "colorbar": {
              "outlinewidth": 1,
              "tickcolor": "rgb(36,36,36)",
              "ticks": "outside"
             }
            },
            "type": "scattergeo"
           }
          ],
          "scattergl": [
           {
            "marker": {
             "colorbar": {
              "outlinewidth": 1,
              "tickcolor": "rgb(36,36,36)",
              "ticks": "outside"
             }
            },
            "type": "scattergl"
           }
          ],
          "scattermapbox": [
           {
            "marker": {
             "colorbar": {
              "outlinewidth": 1,
              "tickcolor": "rgb(36,36,36)",
              "ticks": "outside"
             }
            },
            "type": "scattermapbox"
           }
          ],
          "scatterpolar": [
           {
            "marker": {
             "colorbar": {
              "outlinewidth": 1,
              "tickcolor": "rgb(36,36,36)",
              "ticks": "outside"
             }
            },
            "type": "scatterpolar"
           }
          ],
          "scatterpolargl": [
           {
            "marker": {
             "colorbar": {
              "outlinewidth": 1,
              "tickcolor": "rgb(36,36,36)",
              "ticks": "outside"
             }
            },
            "type": "scatterpolargl"
           }
          ],
          "scatterternary": [
           {
            "marker": {
             "colorbar": {
              "outlinewidth": 1,
              "tickcolor": "rgb(36,36,36)",
              "ticks": "outside"
             }
            },
            "type": "scatterternary"
           }
          ],
          "surface": [
           {
            "colorbar": {
             "outlinewidth": 1,
             "tickcolor": "rgb(36,36,36)",
             "ticks": "outside"
            },
            "colorscale": [
             [
              0,
              "#440154"
             ],
             [
              0.1111111111111111,
              "#482878"
             ],
             [
              0.2222222222222222,
              "#3e4989"
             ],
             [
              0.3333333333333333,
              "#31688e"
             ],
             [
              0.4444444444444444,
              "#26828e"
             ],
             [
              0.5555555555555556,
              "#1f9e89"
             ],
             [
              0.6666666666666666,
              "#35b779"
             ],
             [
              0.7777777777777778,
              "#6ece58"
             ],
             [
              0.8888888888888888,
              "#b5de2b"
             ],
             [
              1,
              "#fde725"
             ]
            ],
            "type": "surface"
           }
          ],
          "table": [
           {
            "cells": {
             "fill": {
              "color": "rgb(237,237,237)"
             },
             "line": {
              "color": "white"
             }
            },
            "header": {
             "fill": {
              "color": "rgb(217,217,217)"
             },
             "line": {
              "color": "white"
             }
            },
            "type": "table"
           }
          ]
         },
         "layout": {
          "annotationdefaults": {
           "arrowhead": 0,
           "arrowwidth": 1
          },
          "autotypenumbers": "strict",
          "coloraxis": {
           "colorbar": {
            "outlinewidth": 1,
            "tickcolor": "rgb(36,36,36)",
            "ticks": "outside"
           }
          },
          "colorscale": {
           "diverging": [
            [
             0,
             "rgb(103,0,31)"
            ],
            [
             0.1,
             "rgb(178,24,43)"
            ],
            [
             0.2,
             "rgb(214,96,77)"
            ],
            [
             0.3,
             "rgb(244,165,130)"
            ],
            [
             0.4,
             "rgb(253,219,199)"
            ],
            [
             0.5,
             "rgb(247,247,247)"
            ],
            [
             0.6,
             "rgb(209,229,240)"
            ],
            [
             0.7,
             "rgb(146,197,222)"
            ],
            [
             0.8,
             "rgb(67,147,195)"
            ],
            [
             0.9,
             "rgb(33,102,172)"
            ],
            [
             1,
             "rgb(5,48,97)"
            ]
           ],
           "sequential": [
            [
             0,
             "#440154"
            ],
            [
             0.1111111111111111,
             "#482878"
            ],
            [
             0.2222222222222222,
             "#3e4989"
            ],
            [
             0.3333333333333333,
             "#31688e"
            ],
            [
             0.4444444444444444,
             "#26828e"
            ],
            [
             0.5555555555555556,
             "#1f9e89"
            ],
            [
             0.6666666666666666,
             "#35b779"
            ],
            [
             0.7777777777777778,
             "#6ece58"
            ],
            [
             0.8888888888888888,
             "#b5de2b"
            ],
            [
             1,
             "#fde725"
            ]
           ],
           "sequentialminus": [
            [
             0,
             "#440154"
            ],
            [
             0.1111111111111111,
             "#482878"
            ],
            [
             0.2222222222222222,
             "#3e4989"
            ],
            [
             0.3333333333333333,
             "#31688e"
            ],
            [
             0.4444444444444444,
             "#26828e"
            ],
            [
             0.5555555555555556,
             "#1f9e89"
            ],
            [
             0.6666666666666666,
             "#35b779"
            ],
            [
             0.7777777777777778,
             "#6ece58"
            ],
            [
             0.8888888888888888,
             "#b5de2b"
            ],
            [
             1,
             "#fde725"
            ]
           ]
          },
          "colorway": [
           "#1F77B4",
           "#FF7F0E",
           "#2CA02C",
           "#D62728",
           "#9467BD",
           "#8C564B",
           "#E377C2",
           "#7F7F7F",
           "#BCBD22",
           "#17BECF"
          ],
          "font": {
           "color": "rgb(36,36,36)"
          },
          "geo": {
           "bgcolor": "white",
           "lakecolor": "white",
           "landcolor": "white",
           "showlakes": true,
           "showland": true,
           "subunitcolor": "white"
          },
          "hoverlabel": {
           "align": "left"
          },
          "hovermode": "closest",
          "mapbox": {
           "style": "light"
          },
          "paper_bgcolor": "white",
          "plot_bgcolor": "white",
          "polar": {
           "angularaxis": {
            "gridcolor": "rgb(232,232,232)",
            "linecolor": "rgb(36,36,36)",
            "showgrid": false,
            "showline": true,
            "ticks": "outside"
           },
           "bgcolor": "white",
           "radialaxis": {
            "gridcolor": "rgb(232,232,232)",
            "linecolor": "rgb(36,36,36)",
            "showgrid": false,
            "showline": true,
            "ticks": "outside"
           }
          },
          "scene": {
           "xaxis": {
            "backgroundcolor": "white",
            "gridcolor": "rgb(232,232,232)",
            "gridwidth": 2,
            "linecolor": "rgb(36,36,36)",
            "showbackground": true,
            "showgrid": false,
            "showline": true,
            "ticks": "outside",
            "zeroline": false,
            "zerolinecolor": "rgb(36,36,36)"
           },
           "yaxis": {
            "backgroundcolor": "white",
            "gridcolor": "rgb(232,232,232)",
            "gridwidth": 2,
            "linecolor": "rgb(36,36,36)",
            "showbackground": true,
            "showgrid": false,
            "showline": true,
            "ticks": "outside",
            "zeroline": false,
            "zerolinecolor": "rgb(36,36,36)"
           },
           "zaxis": {
            "backgroundcolor": "white",
            "gridcolor": "rgb(232,232,232)",
            "gridwidth": 2,
            "linecolor": "rgb(36,36,36)",
            "showbackground": true,
            "showgrid": false,
            "showline": true,
            "ticks": "outside",
            "zeroline": false,
            "zerolinecolor": "rgb(36,36,36)"
           }
          },
          "shapedefaults": {
           "fillcolor": "black",
           "line": {
            "width": 0
           },
           "opacity": 0.3
          },
          "ternary": {
           "aaxis": {
            "gridcolor": "rgb(232,232,232)",
            "linecolor": "rgb(36,36,36)",
            "showgrid": false,
            "showline": true,
            "ticks": "outside"
           },
           "baxis": {
            "gridcolor": "rgb(232,232,232)",
            "linecolor": "rgb(36,36,36)",
            "showgrid": false,
            "showline": true,
            "ticks": "outside"
           },
           "bgcolor": "white",
           "caxis": {
            "gridcolor": "rgb(232,232,232)",
            "linecolor": "rgb(36,36,36)",
            "showgrid": false,
            "showline": true,
            "ticks": "outside"
           }
          },
          "title": {
           "x": 0.05
          },
          "xaxis": {
           "automargin": true,
           "gridcolor": "rgb(232,232,232)",
           "linecolor": "rgb(36,36,36)",
           "showgrid": false,
           "showline": true,
           "ticks": "outside",
           "title": {
            "standoff": 15
           },
           "zeroline": false,
           "zerolinecolor": "rgb(36,36,36)"
          },
          "yaxis": {
           "automargin": true,
           "gridcolor": "rgb(232,232,232)",
           "linecolor": "rgb(36,36,36)",
           "showgrid": false,
           "showline": true,
           "ticks": "outside",
           "title": {
            "standoff": 15
           },
           "zeroline": false,
           "zerolinecolor": "rgb(36,36,36)"
          }
         }
        },
        "title": {
         "font": {
          "color": "Black",
          "size": 22
         },
         "text": "<b>Documents and Topics</b>",
         "x": 0.5,
         "xanchor": "center",
         "yanchor": "top"
        },
        "width": 1200,
        "xaxis": {
         "visible": false
        },
        "yaxis": {
         "visible": false
        }
       }
      }
     },
     "metadata": {},
     "output_type": "display_data"
    }
   ],
   "source": [
    "model.visualize_documents([i['text'] for i in data], embeddings=embeddings, hide_annotations=False, custom_labels=True)"
   ]
  },
  {
   "cell_type": "code",
   "execution_count": 81,
   "metadata": {},
   "outputs": [],
   "source": [
    "# topics = {}\n",
    "\n",
    "topics['hdbscan_5_chunk'] = topic_labels"
   ]
  },
  {
   "cell_type": "code",
   "execution_count": 84,
   "metadata": {},
   "outputs": [],
   "source": [
    "with open(\"topics_de_fnc.json\", 'w') as f:\n",
    "    json.dump(topics, f, indent=4)"
   ]
  },
  {
   "attachments": {},
   "cell_type": "markdown",
   "metadata": {},
   "source": [
    "main: compare topics for variations- phrase, sentence, 5 seconds chunk, 10 seconds chunk, 15 seconds chunk, 20 seconds chunk\n",
    "\n",
    "observations:\n",
    "1. with increase in length of samples i.e. increased context per sample, number of clusters reduce\n",
    "2. clusters become more sparse with increased context\n",
    "3. no such trend among the count of background samples(cluster: -1)\n",
    "4. quality of topics is comparable for sentence and 5 seconds chunk"
   ]
  },
  {
   "cell_type": "code",
   "execution_count": null,
   "metadata": {},
   "outputs": [],
   "source": []
  }
 ],
 "metadata": {
  "kernelspec": {
   "display_name": "news",
   "language": "python",
   "name": "python3"
  },
  "language_info": {
   "codemirror_mode": {
    "name": "ipython",
    "version": 3
   },
   "file_extension": ".py",
   "mimetype": "text/x-python",
   "name": "python",
   "nbconvert_exporter": "python",
   "pygments_lexer": "ipython3",
   "version": "3.11.5"
  },
  "orig_nbformat": 4
 },
 "nbformat": 4,
 "nbformat_minor": 2
}
