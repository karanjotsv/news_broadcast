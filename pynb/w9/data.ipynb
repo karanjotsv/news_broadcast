{
 "cells": [
  {
   "cell_type": "code",
   "execution_count": 1,
   "metadata": {},
   "outputs": [],
   "source": [
    "!module load FFmpeg"
   ]
  },
  {
   "cell_type": "code",
   "execution_count": 3,
   "metadata": {},
   "outputs": [],
   "source": [
    "import os\n",
    "import csv\n",
    "\n",
    "BASE_PATH = '/'.join(os.getcwd().split('/')[ : -2])\n",
    "\n",
    "DATA_PATH = \"gallina/mosei/\"\n",
    "FEATURE_PATH = \"feature/\"\n"
   ]
  },
  {
   "cell_type": "code",
   "execution_count": 4,
   "metadata": {},
   "outputs": [],
   "source": [
    "with open(os.path.join(BASE_PATH, DATA_PATH, \"label.csv\"), mode ='r')as f:\n",
    "\n",
    "    reader = csv.reader(f)\n",
    "    header = next(reader)\n",
    " \n",
    "    rows = [line for line in reader]"
   ]
  },
  {
   "cell_type": "code",
   "execution_count": 5,
   "metadata": {},
   "outputs": [
    {
     "data": {
      "text/plain": [
       "['-3g5yACwYnA',\n",
       " '10',\n",
       " \"Key is part of the people that we use to solve those issues, whether it's stretch or outdoor resistance or abrasions or different technical aspects that we really need to solve to get into new markets, they've been able to bring solutions.\",\n",
       " '1.0',\n",
       " 'Positive',\n",
       " 'train',\n",
       " '',\n",
       " '',\n",
       " '']"
      ]
     },
     "execution_count": 5,
     "metadata": {},
     "output_type": "execute_result"
    }
   ],
   "source": [
    "rows[0]"
   ]
  },
  {
   "cell_type": "code",
   "execution_count": 6,
   "metadata": {},
   "outputs": [],
   "source": [
    "def get_label(rows, f, i):\n",
    "    '''sentiment label for given id'''\n",
    "\n",
    "    sub_list = [x for x, row in enumerate(rows) if f in row]\n",
    "    id = [x for x, row in enumerate(rows[sub_list[0] : sub_list[-1] + 1]) if i in row]\n",
    "\n",
    "    return(rows[sub_list[id[0]]][4])\n"
   ]
  },
  {
   "cell_type": "code",
   "execution_count": 7,
   "metadata": {},
   "outputs": [
    {
     "name": "stdout",
     "output_type": "stream",
     "text": [
      "Positive\n"
     ]
    }
   ],
   "source": [
    "print(get_label(rows, '-3g5yACwYnA', '10'))"
   ]
  },
  {
   "cell_type": "code",
   "execution_count": null,
   "metadata": {},
   "outputs": [],
   "source": [
    "command = f\"ffmpeg -i {os.path.join(BASE_PATH, DATA_PATH, 'raw/_1nvuNk7EFY/17.mp4')} -ab 160k -ac 2 -ar 44100 -vn __.wav\""
   ]
  }
 ],
 "metadata": {
  "kernelspec": {
   "display_name": "multimod",
   "language": "python",
   "name": "python3"
  },
  "language_info": {
   "codemirror_mode": {
    "name": "ipython",
    "version": 3
   },
   "file_extension": ".py",
   "mimetype": "text/x-python",
   "name": "python",
   "nbconvert_exporter": "python",
   "pygments_lexer": "ipython3",
   "version": "3.11.3"
  },
  "orig_nbformat": 4
 },
 "nbformat": 4,
 "nbformat_minor": 2
}
