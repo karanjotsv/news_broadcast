{
 "cells": [
  {
   "attachments": {},
   "cell_type": "markdown",
   "metadata": {},
   "source": [
    "evaluation objectives:\n",
    "\n",
    "1. fetch broadcasts with 'abortion' of FNC and MSNBC from UCLA NewsScape\n",
    "2. extract 1000 stories for each channel\n",
    "3. run pipeline to fetch topics, emotion, sentiment and stance "
   ]
  },
  {
   "cell_type": "code",
   "execution_count": 15,
   "metadata": {},
   "outputs": [],
   "source": [
    "!module load FFmpeg"
   ]
  },
  {
   "cell_type": "code",
   "execution_count": 1,
   "metadata": {},
   "outputs": [],
   "source": [
    "import os\n",
    "import pandas as pd\n"
   ]
  },
  {
   "cell_type": "code",
   "execution_count": 2,
   "metadata": {},
   "outputs": [
    {
     "data": {
      "text/html": [
       "<div>\n",
       "<style scoped>\n",
       "    .dataframe tbody tr th:only-of-type {\n",
       "        vertical-align: middle;\n",
       "    }\n",
       "\n",
       "    .dataframe tbody tr th {\n",
       "        vertical-align: top;\n",
       "    }\n",
       "\n",
       "    .dataframe thead th {\n",
       "        text-align: right;\n",
       "    }\n",
       "</style>\n",
       "<table border=\"1\" class=\"dataframe\">\n",
       "  <thead>\n",
       "    <tr style=\"text-align: right;\">\n",
       "      <th></th>\n",
       "      <th>filename</th>\n",
       "      <th>uuid</th>\n",
       "      <th>subquery</th>\n",
       "      <th>time</th>\n",
       "      <th>text</th>\n",
       "      <th>permalink</th>\n",
       "    </tr>\n",
       "  </thead>\n",
       "  <tbody>\n",
       "    <tr>\n",
       "      <th>0</th>\n",
       "      <td>2022-12-31_2015_US_MSNBC_Morning_Joe.txt</td>\n",
       "      <td>ce432176-8947-11ed-94e9-089e01ba034d</td>\n",
       "      <td>abortion</td>\n",
       "      <td>2022-12-31 20:27:29</td>\n",
       "      <td>WHO HAS LEARNED\\nFROM THEM WHO KNEW EXACTLY WH...</td>\n",
       "      <td>http://www.sscnet.ucla.edu/tna/edge/video,ce43...</td>\n",
       "    </tr>\n",
       "    <tr>\n",
       "      <th>1</th>\n",
       "      <td>2022-12-31_1500_US_MSNBC_AM_Joy.txt</td>\n",
       "      <td>cd22a37e-891b-11ed-bcf7-089e01ba034d</td>\n",
       "      <td>abortion</td>\n",
       "      <td>2022-12-31 16:39:32</td>\n",
       "      <td>AS SECOND CLASS\\nCITIZENS.\\n&gt;&gt; FOR OTHERS, IT ...</td>\n",
       "      <td>http://www.sscnet.ucla.edu/tna/edge/video,cd22...</td>\n",
       "    </tr>\n",
       "    <tr>\n",
       "      <th>2</th>\n",
       "      <td>2022-12-31_1300_US_FOX-News_FOX_and_Friends_Sa...</td>\n",
       "      <td>09e08f4e-890b-11ed-ad10-089e01ba0338</td>\n",
       "      <td>abortion</td>\n",
       "      <td>2022-12-31 13:42:39</td>\n",
       "      <td>HAS COMMITMENTS TO\\nPRIORITIES AND THIS IS\\nCO...</td>\n",
       "      <td>http://www.sscnet.ucla.edu/tna/edge/video,09e0...</td>\n",
       "    </tr>\n",
       "  </tbody>\n",
       "</table>\n",
       "</div>"
      ],
      "text/plain": [
       "                                            filename  \\\n",
       "0           2022-12-31_2015_US_MSNBC_Morning_Joe.txt   \n",
       "1                2022-12-31_1500_US_MSNBC_AM_Joy.txt   \n",
       "2  2022-12-31_1300_US_FOX-News_FOX_and_Friends_Sa...   \n",
       "\n",
       "                                   uuid  subquery                 time  \\\n",
       "0  ce432176-8947-11ed-94e9-089e01ba034d  abortion  2022-12-31 20:27:29   \n",
       "1  cd22a37e-891b-11ed-bcf7-089e01ba034d  abortion  2022-12-31 16:39:32   \n",
       "2  09e08f4e-890b-11ed-ad10-089e01ba0338  abortion  2022-12-31 13:42:39   \n",
       "\n",
       "                                                text  \\\n",
       "0  WHO HAS LEARNED\\nFROM THEM WHO KNEW EXACTLY WH...   \n",
       "1  AS SECOND CLASS\\nCITIZENS.\\n>> FOR OTHERS, IT ...   \n",
       "2  HAS COMMITMENTS TO\\nPRIORITIES AND THIS IS\\nCO...   \n",
       "\n",
       "                                           permalink  \n",
       "0  http://www.sscnet.ucla.edu/tna/edge/video,ce43...  \n",
       "1  http://www.sscnet.ucla.edu/tna/edge/video,cd22...  \n",
       "2  http://www.sscnet.ucla.edu/tna/edge/video,09e0...  "
      ]
     },
     "execution_count": 2,
     "metadata": {},
     "output_type": "execute_result"
    }
   ],
   "source": [
    "TV_PATH=\"/mnt/rds/redhen/gallina/tv\"\n",
    "\n",
    "KEYS = {\n",
    "    \"climate_change\": [\n",
    "        \"climate\", \n",
    "        \"environment\", \n",
    "        \"warming\", \n",
    "        \"greenhouse\", \n",
    "        \"emissions\", \n",
    "        \"fossil\", \n",
    "        \"renewable\", \n",
    "        \"sustainable\", \n",
    "        \"methane\"\n",
    "        ],\n",
    "    \"abortion\": [\n",
    "        \"abortion\"\n",
    "    ]}\n",
    "\n",
    "\n",
    "meta = pd.read_csv(\"meta_abortion.csv\", on_bad_lines='skip')\n",
    "\n",
    "# remove duplicates\n",
    "meta = meta.drop_duplicates(subset=[\"filename\"]).reset_index(drop=True)\n",
    "\n",
    "meta.head(3)"
   ]
  },
  {
   "cell_type": "code",
   "execution_count": 3,
   "metadata": {},
   "outputs": [],
   "source": [
    "# fetch 1000 stories for FNC and MSNBC each\n",
    "n = 1000\n",
    "\n",
    "inds = {\"FOX-News\": [], \"MSNBC\": []}\n",
    "\n",
    "for ind, row in meta.iterrows():\n",
    "    # check outlet\n",
    "    if list(inds.keys())[0] in row['filename']:\n",
    "        \n",
    "        inds[list(inds.keys())[0]].append(ind)\n",
    "        continue\n",
    "\n",
    "    elif list(inds.keys())[1] in row['filename']:\n",
    "\n",
    "        inds[list(inds.keys())[1]].append(ind)\n"
   ]
  },
  {
   "cell_type": "code",
   "execution_count": 8,
   "metadata": {},
   "outputs": [],
   "source": [
    "sample = inds[\"FOX-News\"][ : 150] + inds[\"MSNBC\"][ : 150]\n"
   ]
  },
  {
   "cell_type": "code",
   "execution_count": 9,
   "metadata": {},
   "outputs": [
    {
     "name": "stderr",
     "output_type": "stream",
     "text": [
      "100%|██████████| 300/300 [00:00<00:00, 780.27it/s]\n"
     ]
    }
   ],
   "source": [
    "from tqdm import tqdm\n",
    "\n",
    "\n",
    "def convert_format(x):\n",
    "    '''convert timestamp format'''\n",
    "    i = x.split('.')[0][-6 : ]\n",
    "\n",
    "    return f\"{i[ : 2]}:{i[2 : 4]}:{i[4 : ]}\"\n",
    "\n",
    "\n",
    "cues, data = [\"|CC1|\", \"|SEG_00|\", \"Type=Commercial\", \"Type=Story start\"], []\n",
    "\n",
    "# fetch stories with timestamps\n",
    "for ind in tqdm(sample, total=len(sample)):\n",
    "    try:\n",
    "        ent = meta.iloc[ind].filename.split(\"-\")\n",
    "\n",
    "        # date entities\n",
    "        path = [ent[0], ent[1], \"-\".join(ent[2 : ]).split(\"_\")[0], \"_\".join(\"-\".join(ent[2 : ]).split(\"_\")[1 : ])]\n",
    "        # filepath\n",
    "        f_path = os.path.join(TV_PATH, path[0], \"-\".join(path[ : 2]), \"-\".join(path[ : 3]), meta.iloc[ind].filename)\n",
    "        # read text file\n",
    "        with open(f_path) as f: lines = f.read()\n",
    "\n",
    "        stories, meta_stories = [story.split(\"\\n\")[1 : ] for story in lines.split(cues[1]) if cues[3] in story], []\n",
    "\n",
    "        for story in stories:\n",
    "            trs = \" \".join([line.split(cues[0])[-1] for line in story]).replace(\">>\", \"\")\n",
    "\n",
    "            if any([key.upper() in trs for key in KEYS[\"abortion\"]]):\n",
    "\n",
    "                start = story[0].split(cues[0])[0].split(\"|\")[0]\n",
    "                end = story[-1].split(\"|\")[0].split('.')[0][-6 : ]\n",
    "\n",
    "                meta_story = {\n",
    "                    \"file_path\": f_path, \n",
    "                    \"trs\": trs,\n",
    "                    \"start\": convert_format(start),\n",
    "                    \"end\": convert_format(end)\n",
    "                    }\n",
    "                meta_stories.append(meta_story)\n",
    "        \n",
    "        data.extend(meta_stories)\n",
    "    \n",
    "    except: pass"
   ]
  },
  {
   "cell_type": "code",
   "execution_count": 10,
   "metadata": {},
   "outputs": [
    {
     "data": {
      "text/plain": [
       "{'file_path': '/mnt/rds/redhen/gallina/tv/2022/2022-12/2022-12-30/2022-12-30_1700_US_FOX-News_Outnumbered.txt',\n",
       " 'trs': ' Kennedy: HELLO, WELCOME BACK KAMALA HARRIS OUR VICE PRESIDENT RUNNING AT HER SECOND YEAR AS BP AND SHE IS FRUSTRATED WITH HER MEDIA COVERAGE, HOW DARE YOU! SHE IS NOT HOLDING BACK ABOUT IT. SHE SAT DOWN WITH \"WASHINGTON POST\" COLUMNIST JONATHAN CAPE HARD HER BIGGEST FAN BOY APPARENTLY TO REFLECT ON THE PAST YEAR. THE ENTITLING PIECE CALLED KAMALA HARRIS HAD A MOST EXCELLENT YEAR, THANKS BILL AND TED. THE LACK OF COVERAGE OR LEADERSHIP IS GETTING AND SHE COMPARES THAT TO COVERAGE OF THE SUPREME COURT\\'S LANDMARK ABORTION RIGHTS SAYING \"THERE ARE THINGS I HAVE DONE AS VICE PRESIDENT THAT FULLY DEMONSTRATE THE STRENGTH OF MY LEADERSHIP AS VICE PRESIDENT DOES NOT RECEIVE THE KIND OF COVERAGE THAT I THINK DOGS DID RECEIVE.\" TODD, I\\'M A LITTLE CONFUSED PERIODS SHE IS MAD A LANDMARK ONCE IN A GENERATION SUPREME COURT CASE GOT MORE COVERAGE THAN JUST THE FACT SHE WAS SUCH AN UNLIKABLE BOSS, A MASSIVE NUMBER OF HER STAFF RAN FOR THE EXITS.  Todd: I KNOW THAT WASN\\'T A WORD SALAD ANSWER BUT QUITE POSSIBLY THAT IS HER WORST ANSWER OF 2022. LIKE, WHY ARE YOU BRINGING IN DOBBS? THAT IS NOTHING TO DO WITH THE PRICE OF BEANS HERE. HAVING BEEN IN CALIFORNIA FOR MY THREE YEARS WHILE SHE WAS AG AND CENTER, HAVING COVERED HER AND BEEN PART OF THE MEDIA I CAN SAY THERE WAS A 100% HANDS OFF APPROACH TO KAMALA HARRIS. SHE WAS ABOVE REPROACH. ANYTHING SHE DID NO ONE COVERED CRITICALLY SO NOW SHE IS GETTING SOME SEMBLANCE, SOME MINUTE SEMBLANCE OF COVERAGE, SHE CAN\\'T HANDLE IT. IT IS CRITICAL. SHE HAS BEEN TASKED WITH ALL OF THESE THINGS, SHE IS DONE EVERY SINGLE ONE OF THEM HORRIBLY, AND SHE CANNOT DEAL WITH THE FACT SO WHAT DOES SHE DO? SHE TAKES IT OUT ON US AND THE MEDIA FOR NOT GIVING HER GLOWING COVERAGE. SHE TAKES IT OUT TO YOUR POINT ON HER STAFF WHO ARE FLEEING IN RECORD NUMBERS. SHE IS NOT FIT FOR THIS JOB, SHE IS NOT DOING IT WELL, AND YOU DON\\'T HAVE TO GO TOO MUCH FURTHER THAN THE PRESIDENT HIMSELF WHO SAID SHE IS A WORK IN PROGRESS WHEN IT COMES TO THIS JOB. IF JOE BIDEN, WORK IN PROGRESS HIMSELF AFTER BEING IN POLITICS FOR MY 50 YEARS SAYS THAT ABOUT YOU? THAT\\'S NOT A GOOD SIGN.  Kennedy: NO. IT\\'S ALSO A SIGN SHE IS NOT READY TO BE PRESIDENT, WHICH, YOU KNOW, THEORETICALLY VICE PRESIDENT SHOULD BE ABLE TO STEP INTO THE TOP JOB SHOULD SOMETHING, GOD FORBID, HAPPEN. SHE DOESN\\'T HAVE ANYTHING TO REALLY APPOINT TO. SHE WON\\'T GO TO THE BORDER, SHE WON\\'T TALK TO PEOPLE WHO ARE TRYING TO GET INTO THIS COUNTRY, SHE DOESN\\'T HAVE INTEL BECAUSE SHE DOESN\\'T READ HER BRIEFINGS FROM HER STAFF. SHE APPARENTLY IS SUCH A BAD BOSS THAT NO ONE WANTS TO BE TANGLED UP IN HER WEB OF INCOMPETENCE.  Cheryl: SHE BRINGS A LOT OF ATTENTION TO VENN DIAGRAMS. SHE LOVES THEM.  Kennedy: I LOVE A VENN DIAGRAM.  Cheryl: IT WASN\\'T A MERIT-BASED DECISION TO ELEVATE HER TO VP. IT WAS BASED OFF OF A SERIES OF BOX CHECKING EXERCISES JOE BIDEN SAID HE WANTED AND THEY SAID THEY WANTED SO THAT\\'S WHY SHE GOT THE JOB AND YET SHE STILL SEES HERSELF AS A VICTIM WHICH IS REALLY JUST AN EMBODIMENT OF TODAY\\'S POLITICAL LEFT. RIGHT? AND YOU GO BACK TO THE PRESIDENTIAL DEBATE WITH MIKE PENCE SHE WAS LIKE CRYING DURING IT SAYING HE WAS MEAN TO ME AND YOU SAY YOU WANT TO QUALITY AND I AM WOMAN HEAR ME WAR IN THE NEW CRY WHEN THEY TREAT YOU WITH AN EQUAL AND THEN SAYING THAT HE WAS MANSPLAINING BECAUSE HE TRIED TO TREAT HER AS AN EQUAL AND HAVE A DEBATE SO I THINK SHE IS AN EMBODIMENT OF TODAY\\'S POLITICAL LEFT PEER AG HAS NO COMPLIMENTS AND ALSO SHE CHOSE TO BE NEAR JOE BIDEN EVEN THOUGH  SHE CALLED HIM RACIST AD A SEXUAL ABUSER. HUGE FAN OTHER THAN THAT, KENNEDY.  Kennedy: OBVIOUS THAT SHE HASN\\'T GOTTEN GREAT COVERAGE THIS YEAR BECAUSE SHE HASN\\'T DONE GREAT THINGS AND SHE\\'S REALLY BLOWN SOME BIG OPPORTUNITIES TO SAY REALLY HORRIFIC THINGS. SO, HOW DOES THE WHITE HOUSE IN HER OFFICE REACH OUT TO THESE KIND REPORTERS AND WOULDN\\'T IT BE MORE IMPRESSIVE IF SHE WERE IN A CHALLENGING ENVIRONMENT AND ENDED WHILE?  Cheryl: ABSOLUTELY BUT THE ONLY THING SHE HAS DONE BETTER AT THIS YEAR IS GIVING MORE GAPS THAN PRESIDENT BIDEN DID HIMSELF WITH THE WAY SHE RESPONDS TO SOME OF THESE INTERVIEWS. YOU CAN ONLY GET THE SOFT HEADING INTERVIEWS YOU KNOW IF SHE DOESN\\'T WANT TO COMPLETELY EMBARRASS HERSELF BUT IF ANYBODY ACTUALLY READ THIS \"WASHINGTON POST\" ARTICLE, WHAT A BOOT LICKING SYCOPHANTS THE AUTHOR WAS SAYING YOU KNOW WHAT QUESTION ARE SHE\\'S BEEN SO SUCCESSFUL SHE HAS THREE POLES HOLDING UP THE TENT, THE FIRST BALL IS HOW SHE WARNED THE WORLD OF THE DANGER OF RUSSIA. I LITERALLY SPIT OUT MY COFFEE LAUGHING WHEN I READ THIS BECAUSE I WAS LIKE WAIT, LET\\'S REWIND TO TEN YEARS AGO WHEN WE HEARD MITT ROMNEY SAID THE END OBAMA LAUGHING AT THE TIME SAYING YOU ARE OUT OF TOUCH WITH THE AMERICAN PEOPLE.  Kennedy: THE 80s WITH THEIR FOREIGN POLICY.  Dr. Nicole: PLUS OF THAT ACTUAL MEETING SHE WAS DISCUSSING RUSSIAN INVASION SHE TALKED ABOUT HOW EUROPE HADN\\'T SEEN ANY DISCOURSE. SINCE WORLD WAR II FORGETTING EVERYTHING THAT HAPPENED. IT WAS SUCH A SLAP IN THE FACE.  Cheryl: PLEASE DON\\'T TELL THAT TO ANY FORMER SOVIET SATELLITE WHERE THEY WERE ESSENTIALLY SENT BACK TO SERFDOM. AND IMPOVERISHED UNDER COMM COMMUNIST --  Dr. Nicole: IT\\'S HORRIBLE WHAT HAPPENED SINCE WORLD WAR II IN EUROPE.  Kennedy: OR LESS JUST GLOSS OVER THAT, DOES SHE NOT KNOW? THAT\\'S WHAT I WANT TO KNOW. ARE THERE GAPS IN THE HISTORICAL KNOWLEDGE?  Cheryl: I DON\\'T THINK SHE KNOWS.  Kennedy: I AGREE. I DON\\'T THINK THAT\\'S FORGIVABLE.  Dr. Nicole: IF YOU ARE THE VICE PRESIDENT OF THE UNITED STATES IN YOUR HEART BEAT LIKE A HEARTBEAT AWAY FROM THE PRESIDENCY KNOW THE HISTORY OF THE UNITED STATES AND THE WORLD.  Dr. Nicole: DUM XP FOR ALL SHE DID WAS READ THE MEMO. SHE HAD NOTHING TO DO WITH IT IT WAS OVER AN EMAIL.  Cheryl: TO YOUR POINT THAT AUTHOR TALKED ABOUT THE SCAREDY CONFERENCE IN FEBRUARY, THE ASIAN PACIFIC CORPORATION AND HER WORK AND MARRIAGE EQUALITY BURIED I WILL GO BACK TO HER OWN OFFICE AND THE WHITE HOUSE. REMEMBER THEY THREW HER OUT THERE IMMEDIATELY IN 2021? THEN THEY PULLED HER BACK, SO SHE HAS NO ONE TO BLAME BUT THE WHITE HOUSE OF THE BITE THE BUY DEMONSTRATION WHO SAW HER OUT THERE WITH THAT AWKWARD UNCOMFORTABLE LAUGH COME AROUND TO?  WHICH TIME? WHEN I ARRIVE IN HELL THAT LAUGH WILL BE PLAYING ON A LOOP.  THEY ARE PLAYING IN GUANTANAMO.  IT\\'S WORSE THAN WIRE BOARDING THOUGH MY STOMACH WATERBOARDING.  IT REALLY IS.  THE BIDEN DEMONSTRATION MOSTLY USE THE CIA TO SPY ON PEOPLE. NOT FORGOT WHAT I WAS GOING TO SAY. I HAD A GOOD POINT. WHAT WAS I GOING TO SAY?  THAT HAPPENS TO THE VICE PRESIDENT EVERY DAY.  Todd: YOU COULD BE VP.  NO, NO, STOP! TODD REIGNITED IT I\\'VE GOT IT. I WAS GOING TO SAY THIS IS ALSO, GOT THEM TO REMEMBER I REMEMBER THIS IS REALLY EMBARRASSED. THE REALITY IS THIS WOMAN HAS HAD SO MUCH MEDIA TRAINING AND SHE IS STILL THIS BAD. THAT\\'S WHAT I WANTED TO SAY.  SOLID, GIRL.  BRINGING IT FULL-CIRCLE.  Cheryl: WE HAVE A FOX NEWS ALERT, WE ARE AWAITING THE NEWS CONFERENCE IN IDAHO, HAVE YOU HEARD THERE IS A SUSPECT IN CUSTODY CHARGED WITH LAST MONTH\\'S MURDER OF FOUR COLLEGE STUDENTS? HE IS IN PENNSYLVANIA PEER AND WE ARE LEARNING MORE DETAILS, WE\\'LL BRING ALL OF THAT TO YOU LIVE, AT THE PRESS CONFERENCE COMING UP NEXT, A FED UP BAKERY OWNER HAD ENOUGH AFTER HIS SAN FRANCISCO SHOP WAS BROKEN INTO FOR THE SIXTH TIME. CROOKS MAKING OFF WITH AN INDUSTRIAL SAFE THAT WAS BOLTED TO THE FLOOR! HIS FIERY MESSAGE TO DEMOCRAT LEADERS IS NEXT.  Cheryl: FOX NEWS ALERT AS WE AWAIT AN POLICE UPDATE FROM MOSCOW, IDAHO, SUSPECT ARRESTED OVERNIGHT IN CONNECTION WITH THE BRUTAL UNIVERSITY OF IDAHO MURDERS LAST MONTH. HE HAS NOW BEEN IDENTIFIED AND WAS REPORTEDLY TAKEN INTO CUSTODY IN EASTERN PENNSYLVANIA EARLY THIS MORNING. HE AWAITS EXTRADITION TO IDAHO. NOW, BACK TO OUR SENIOR NATIONAL CORRESPONDENT WILLIAM LA JEUNESSE. WILLIAM.  CHERYL, WHAT WE DON\\'T KNOW YET IS WHAT CONNECTED THE SUSPECT OF THE CRIME. WAS AT THE PICTURE OF THAT WHITE ALANTRA? MAYBE HIS DNA WAS IN AN EXISTING LAW-ENFORCEMENT DATABASE AND BLOOD AT THE SCENE CONNECTED HIM TO THE CRIME OR DID HE HAVE A PRIOR RELATIONSHIP TO ONE OF THE VICTIMS? AS MENTIONED LAST NIGHT IN PENNSYLVANIA SOME 25,000 MILES AWAY FROM IDAHO, PENNSYLVANIA STATE POLICE ARRESTED THE SUSPECT 28-YEAR-OLD BRIAN CHRISTOPHER KOHBERGER AGAIN 3:00 A.M. LAST NIGHT. THE JUDGE TO GRANTED NO BAIL AND OF COURSE DEBITED AT THE 21-YEAR-OLD MADISON LOGAN, KAYLEE GONZALEZ, 20-YEAR-OLD LASAGNA NOODLE, AND 20-YEAR-OLD ETHAN CHAPIN. THEY APPEAR TO HAVE BEEN STABBED MULTIPLE TIMES WITH A LARGA LARE KNIFE AND NO SIGNS OF SEXUAL ASSAULT. TWO OF THE FEMALE ROOMMATES WERE IN AT THE TIME AND THAT\\'S ONE OF THE GREAT WILL HOPEFULLY LEARN A LOT MORE THAN BUT UNTIL NOW, MOSCOW POLICE HAVE REALLY BEEN TIGHT-LIPPED. LET\\'S HOPE WE GET MORE DETAILS.  Cheryl: AS THEY HAVE BEEN FOR WEEKS AND HOPEFULLY THIS BREAK IN THE CASE IS SOMETHING THAT THE FAMILIES CAN HOLD ONTO THEM ABLY START TO GET SOME ANSWERS FOR THEM. WILLIAM LA JEUNESSE LIFE OR ASK HIM THANK YOU SO MUCH FOR THE UPDATE WE APPRECIATE IT. SPEECH OF THE OWNER OF A POPULAR FRENCH BAKERY IN SAN FRANCISCO IS CALLING OUT HIS DEMOCRATIC MAYOR AND GOVERNOR GAVIN NEWSOM AS WELL AS SPEAKER NANCY PELOSI AFTER EIGHT SHOP WAS BROKEN INTO FOR THE SIXTH TIME. THE LATEST BREAK AND KIRKS TOOK iPADS, THE CASH REGISTER, EVEN A BOLTED DOWN SAFE. NEIGHBORS AND SHOCK WORKERS SAID THEY HAVE HAD IT WITH LAWLESSNESS.  ALL OF THE LEADERS NEED TO BE PITCHING AND PAID YOU CAN\\'T HAVE BUSINESSES GETTING BROKEN INTO, WHERE ARE THE POLICE?  IT\\'S JUST SAD. YOU KNOW, EVERYONE PUTTING THEIR EFFORT IN THIS PLACE AND WE TRY TO MAKE IT NICE. AND IT HAPPENS OVER AND OVER AGAIN. SPEECH TO THE BAKERY\\'S OWNER HAD THIS MESSAGE FOR DEMOCRAT LEADERS ON INSTAGRAM. IF YOU CANNOT PROTECT SAN FRANCISCO\\'S SMALL LOCAL FAMILY-OWNED BUSINESSES, HOW CAN OUR CITY THRIVE? IT HAPPENS OVER AND OVER NOTHING CHANGES. PLEASE, SAN FRANCISCO, CALIFORNIA LEADERS DO MORE TO CARE FOR OUR CITY AND SMALL BUSINESS, WE DESERVE BETTER. YOU KNOW, TODD, HOW DID WE ARRIVE AT THIS POINT WHERE THIS IS NORMAL IN PLACES LIKE SAM FOR THIS GO?  Todd: BECAUSE THE LEADERS IN THE FAR LEFT BLUE CITIES JUST DON\\'T CARE ABOUT THEIR CONSTITUENTS. THAT\\'S NOT HOW HORRIBLY. THEY CARE ABOUT THEMSELVES. WE HAVE SO MANY EXAMPLES OF RULES FOR THE, NOT FOR ME AND THEY HAVE THE BEST SECURITY AND YET HE IS HE WAS HAPPENING TO AMERICAN CONSTITUENTS. USED HERE TO PLAY AND THE VOICE OF THESE PEOPLE. THING OF THE EFFORT THEY TOOK IN BUILDING THEIR BUSINESS, THEY ARE NOT ACCOUNTANTS THEY CAN\\'T JUST GET UP AND MOVE AND GO TO ANOTHER LOCATION AND START A NEW LIFE. THEY PUT SO MUCH TIME AND EFFORT YOU CAN\\'T REPLICATE THAT IN THE NEW CITY LIKE THAT. TO THAT POINT, THIS IS A SMALL BUSINESS, RIGHT? YOU\\'RE THE LAUNDRY LIST OF POLITICIANS THEY WERE CALLING OUT. I WOULD ADD ONE MORE NAME TO THE LIST. THE SMALL BUSINESS LIAISON ALSO FROM THAT AREA, HER NAME? KAMALA HARRIS. WHERE SHE ON THIS?  GOOD POINT.  Lisa: KENNEDY, IN AN MR. GRAHAM POST SHE ASKED HOW CAN A BUSINESS SURVIVE IN THIS ENVIRONMENT?  Kennedy: SAN FRANCISCO WAS ONE OF THE BEST CITIES IN THE COUNTRY FOR YEARS AND YEARS AND YEARS, PHENOMENAL PLACE CULTURALLY WITH A BEAUTIFUL SETTING AND THEY HAVE DRIVEN IT INTO THE GROUND. I BLAME GAVIN NEWSOM WHEN HE WAS THE MAYOR SAN FRANCISCO, KAMALA HARRIS WHEN SHE WAS THE D.A., NOTHING HAS GOTTEN BETTER. THEIR SENSE OF JUSTICE IS COMPLETELY UPSIDE DOWN. NOT CRIMINAL JUSTICE REFORM. THEY WERE CALLED BAIRD D8 CHESA BOUDIN AND STILL, THE CITY WILL TAKE SOME TIME BUT THIS DELL MIGHT HAVE TO CHANGE HOW THEY PROSECUTE TIME IN THE CITY. THEY DON\\'T HAVE TO OVER INCARCERATE AND OVER CRIMINALIZE EVERY BEHAVIOR, BUT PEOPLE LIKE THIS TO THEIR POINT. THEY ARE DOING THE RIGHT THING. YOU WANT SMALL BUSINESSES TO DO REALLY, REALLY WELL AND SUCCEED IN YOUR CITY. THOSE ARE THE THINGS, THOSE OF THE MAGNETS THAT DRAW PEOPLE. NOW WHEN PEOPLE TAKE OF SAN FRANCISCO THEY THINK ABOUT CRIME INFESTED HUMAN WASTE ON THE SIDEWALKS, HOMELESSNESS, AND THEY HEAR STORIES LIKE THIS AND THEY\\'RE LIKE WELL I\\'LL GO ANYWHERE ELSE.  Lisa: CHERYL, TO KENNEDY\\'S POINT ISN\\'T IT GOOD AVALON ORDER TO IMPLEMENT THAT AT ALL?  Cheryl: THIS IS SAN FRANCISCO WHERE THEY SCREAM TO DEFEND THE POLICE LOUDER THAN ANYONE AND I FELT THE NEW MAYOR BECAUSE MEMBER AFTER A YEAR SHE CAME OUT AND SAID ENOUGH IS ENOUGH. WE WILL CLEAN UP THE HOMELESSNESS, WE WILL CLEAN UP DRUG ABUSE ON THE STREETS, WE WILL GET PEOPLE BACK TO THE CITY AND RESTORE THE CITY. SO FAR IT\\'S AN EMPTY PROMISE FROM HER. SHE IS THE ONE PERSON TO ME, GAVIN NEWSOM WAS TOO BUSY THINKING ABOUT RUNNING FOR PRESIDENT IN 2024, NANCY PELOSI DOESN\\'T CARE ANYTHING ABOUT THE CITY OBVIOUSLY, SHE IS TOO BUSY WORRYING ABOUT HER WASHINGTON CAREER. LONDON BREED HAS TO DO SOMETHING AND UNTIL SHE DOES THINGS WILL NOT GET BETTER.  Lisa: DR. SAPHIER NO PRESSURE TO TAKE US ON.  Dr. Nicole: SHE TOOK OVER FOR CHESA BOUDIN OVER THE SUMMER, HER OFFICE CONTINUES TO TOUT SHE IS REALLY CRACKING DOWN SPECIFICALLY ON DRUG CRIMES, YET THERE HAS BEEN A 20% INCREASE IN ARRESTS BUT THE PROSECUTION RATES HAVE BEEN THE SAME. IS SEWER MAINS ALL OBJECTS BUT YOU HAVE THESE PROGRESSIVE LEGISLATORS LIKE AOC SAYING WE CAN\\'T PUNCH THEM I PUNISH PEOPLE WHO STEAL BECAUSE THEY NEED THESE THINGS, DIAPERS AND FORMULA THEIR CEILINGS BUT NO ONE NEEDS THE iPAD DESPITE WHAT MY CHILDREN SAY, IT\\'S A WANT, NOT A NEED. THEY ARE BREAKING INTO SAFES. YOU HAVE TO PUNISH THESE CRIMINALS BECAUSE IF YOU DON\\'T PUNISH THEM THEY WILL CONTINUE TO DO IT OVER AND OVER LIKE WE ARE SEEING.  Lisa: WE WILL LEAVE IT THERE, FOX NEWS ALERT AS WE AWAIT A PRESS CONFERENCE IN MOSCOW, IDAHO. A SUSPECT IS KNOWN CUSTODY IN CONNECTION WITH THE MURDERS, OF FOUR COLLEGE STUDENTS LAST MONTH, THAT SUSPECT IS THOUSANDS OF MILES AWAY IN PENNSYLVANIA. STAY WITH FOX NEWS FOR MORE ON THIS DEVELOPING STORY, MORE ON \"OUTNUMBERED\" IN JUST A MOMENT 20221230174811.836|20221230175014.959',\n",
       " 'start': '17:27:39',\n",
       " 'end': '17:48:11'}"
      ]
     },
     "execution_count": 10,
     "metadata": {},
     "output_type": "execute_result"
    }
   ],
   "source": [
    "data[2]"
   ]
  },
  {
   "cell_type": "code",
   "execution_count": 2,
   "metadata": {},
   "outputs": [],
   "source": [
    "import json\n",
    "\n",
    "with open(\"abortion.json\", 'w') as f:\n",
    "    json.dump(data, f, indent=4)"
   ]
  },
  {
   "cell_type": "code",
   "execution_count": 3,
   "metadata": {},
   "outputs": [],
   "source": [
    "with open(\"result.json\") as f:\n",
    "    result = json.load(f)"
   ]
  }
 ],
 "metadata": {
  "kernelspec": {
   "display_name": "multimod",
   "language": "python",
   "name": "python3"
  },
  "language_info": {
   "codemirror_mode": {
    "name": "ipython",
    "version": 3
   },
   "file_extension": ".py",
   "mimetype": "text/x-python",
   "name": "python",
   "nbconvert_exporter": "python",
   "pygments_lexer": "ipython3",
   "version": "3.11.3"
  },
  "orig_nbformat": 4
 },
 "nbformat": 4,
 "nbformat_minor": 2
}
