{
 "cells": [
  {
   "attachments": {},
   "cell_type": "markdown",
   "metadata": {},
   "source": [
    "week8 objectives:\n",
    "\n",
    "1. extract visual and acoustic features from ryerson dataset samples\n",
    "2. fetch action units from facial expressions\n",
    "3. extract mel-frequency cepstral coefficients from audio\n",
    "4. extract low-level acoustic features"
   ]
  },
  {
   "cell_type": "code",
   "execution_count": 1,
   "metadata": {},
   "outputs": [],
   "source": [
    "!module load FFmpeg"
   ]
  },
  {
   "cell_type": "code",
   "execution_count": 2,
   "metadata": {},
   "outputs": [],
   "source": [
    "import os\n",
    "from tqdm import tqdm\n",
    "\n",
    "BASE_PATH = '/'.join(os.getcwd().split('/')[ : -2])\n",
    "\n",
    "DATA_PATH = \"gallina/ryerson/audio\"\n",
    "FEATURES_PATH = \"feature/\"\n",
    "\n",
    "import cv2\n",
    "import librosa\n",
    "\n",
    "import numpy as np\n"
   ]
  },
  {
   "cell_type": "code",
   "execution_count": 3,
   "metadata": {},
   "outputs": [
    {
     "name": "stderr",
     "output_type": "stream",
     "text": [
      "computing the average duration of the audios: 100%|██████████| 60/60 [00:01<00:00, 36.70it/s]"
     ]
    },
    {
     "name": "stdout",
     "output_type": "stream",
     "text": [
      "3.749855902777779\n"
     ]
    },
    {
     "name": "stderr",
     "output_type": "stream",
     "text": [
      "\n"
     ]
    }
   ],
   "source": [
    "def get_audio_duration(PATH):\n",
    "    '''average duration of audios'''\n",
    "    f_names = os.listdir(PATH)\n",
    "\n",
    "    print(sum(librosa.core.get_duration(path=os.path.join(PATH, f))\n",
    "              for f in tqdm(f_names, desc=\"computing the average duration of the audios\")) / len(f_names))\n",
    "\n",
    "get_audio_duration(os.path.join(BASE_PATH, DATA_PATH, \"Actor_01\"))"
   ]
  },
  {
   "cell_type": "code",
   "execution_count": 3,
   "metadata": {},
   "outputs": [],
   "source": [
    "def get_duration(path):\n",
    "    cap = cv2.VideoCapture(path)\n",
    "\n",
    "    # number of frames\n",
    "    fps = cap.get(cv2.CAP_PROP_FPS)\n",
    "    frames = cap.get(cv2.CAP_PROP_FRAME_COUNT)\n",
    "\n",
    "    a = frames / fps\n",
    "\n",
    "    # print(f\"duration: {a} sec\", f\"frames: {frames}\")\n",
    "    return a, frames\n"
   ]
  },
  {
   "cell_type": "code",
   "execution_count": 3,
   "metadata": {},
   "outputs": [],
   "source": [
    "durations, frames = [], []\n",
    "\n",
    "for dir in os.listdir(DATA_PATH):\n",
    "    # iterate over files\n",
    "    for f in os.listdir(os.path.join(DATA_PATH, dir)):\n",
    "\n",
    "        a, b = get_duration(os.path.join(DATA_PATH, dir, f))\n",
    "\n",
    "        durations.append(a)\n",
    "        frames.append(b)\n"
   ]
  },
  {
   "cell_type": "code",
   "execution_count": 2,
   "metadata": {},
   "outputs": [],
   "source": [
    "import seaborn as sns\n",
    "import matplotlib.pyplot as plt \n",
    "\n",
    "%matplotlib inline\n",
    "\n",
    "import warnings\n",
    "warnings.filterwarnings('ignore')"
   ]
  },
  {
   "cell_type": "code",
   "execution_count": 10,
   "metadata": {},
   "outputs": [
    {
     "data": {
      "text/plain": [
       "<Axes: >"
      ]
     },
     "execution_count": 10,
     "metadata": {},
     "output_type": "execute_result"
    },
    {
     "data": {
      "image/png": "[encoded data removed]",
      "text/plain": [
       "<Figure size 640x480 with 1 Axes>"
      ]
     },
     "metadata": {},
     "output_type": "display_data"
    }
   ],
   "source": [
    "sns.set_style('whitegrid')\n",
    "sns.distplot(durations, kde = False, color ='red', bins = 30)"
   ]
  },
  {
   "cell_type": "code",
   "execution_count": null,
   "metadata": {},
   "outputs": [],
   "source": [
    "from feat import Detector\n",
    "\n",
    "detector = Detector()\n",
    "\n",
    "not_cols = ['frame', 'FaceRectX', 'FaceRectY', 'FaceRectWidth', 'FaceRectHeight', 'FaceScore', 'input', 'frame', 'approx_time']\n",
    "\n",
    "cols = ['Pitch', 'Roll', 'Yaw', 'AU01', 'AU02', 'AU04', 'AU05', 'AU06', 'AU07', 'AU09', 'AU10', 'AU11', \n",
    "        'AU12', 'AU14', 'AU15','AU17', 'AU20', 'AU23', 'AU24', 'AU25', 'AU26', 'AU28', 'AU43']\n"
   ]
  },
  {
   "cell_type": "code",
   "execution_count": 4,
   "metadata": {},
   "outputs": [],
   "source": [
    "def extract_visual(path, skip=2):\n",
    "    '''extract facial features'''\n",
    "    video_prediction = detector.detect_video(path, skip_frames=skip)\n",
    "\n",
    "    # df = video_prediction.drop(cols, axis=1)\n",
    "    df = video_prediction[cols]\n",
    "    \n",
    "    return list(df.sum(axis=0).values)"
   ]
  },
  {
   "cell_type": "code",
   "execution_count": 5,
   "metadata": {},
   "outputs": [
    {
     "name": "stderr",
     "output_type": "stream",
     "text": [
      "100%|██████████| 14/14 [00:20<00:00,  1.49s/it]\n",
      "100%|██████████| 13/13 [00:18<00:00,  1.40s/it]\n",
      "100%|██████████| 13/13 [00:18<00:00,  1.42s/it]\n",
      "100%|██████████| 13/13 [00:18<00:00,  1.45s/it]\n",
      "100%|██████████| 12/12 [00:17<00:00,  1.46s/it]\n",
      "100%|██████████| 14/14 [00:20<00:00,  1.46s/it]\n",
      "100%|██████████| 14/14 [00:20<00:00,  1.44s/it]\n",
      " 93%|█████████▎| 13/14 [00:19<00:01,  1.50s/it]\n",
      "100%|██████████| 13/13 [00:19<00:00,  1.49s/it]\n",
      "100%|██████████| 14/14 [00:20<00:00,  1.44s/it]\n",
      "100%|██████████| 15/15 [00:22<00:00,  1.48s/it]\n",
      "100%|██████████| 16/16 [00:23<00:00,  1.50s/it]\n",
      "100%|██████████| 15/15 [00:22<00:00,  1.52s/it]\n",
      "100%|██████████| 13/13 [00:18<00:00,  1.43s/it]\n",
      "100%|██████████| 13/13 [00:19<00:00,  1.49s/it]\n",
      "100%|██████████| 14/14 [00:20<00:00,  1.45s/it]\n",
      "100%|██████████| 14/14 [00:20<00:00,  1.47s/it]\n",
      "100%|██████████| 14/14 [00:20<00:00,  1.47s/it]\n",
      "100%|██████████| 14/14 [00:20<00:00,  1.50s/it]\n",
      "100%|██████████| 15/15 [00:22<00:00,  1.50s/it]\n",
      "100%|██████████| 15/15 [00:22<00:00,  1.53s/it]\n",
      "100%|██████████| 15/15 [00:23<00:00,  1.54s/it]\n",
      "100%|██████████| 14/14 [00:21<00:00,  1.51s/it]\n",
      " 93%|█████████▎| 13/14 [00:20<00:01,  1.54s/it]\n",
      "100%|██████████| 13/13 [00:19<00:00,  1.48s/it]\n",
      "100%|██████████| 15/15 [00:22<00:00,  1.52s/it]\n",
      "100%|██████████| 14/14 [00:21<00:00,  1.52s/it]\n",
      "100%|██████████| 14/14 [00:20<00:00,  1.49s/it]\n",
      "100%|██████████| 15/15 [00:22<00:00,  1.51s/it]\n",
      "100%|██████████| 15/15 [00:22<00:00,  1.53s/it]\n",
      " 93%|█████████▎| 13/14 [00:19<00:01,  1.50s/it]\n",
      "100%|██████████| 14/14 [00:21<00:00,  1.54s/it]\n",
      "100%|██████████| 16/16 [00:24<00:00,  1.56s/it]\n",
      "100%|██████████| 17/17 [00:27<00:00,  1.59s/it]\n",
      "100%|██████████| 16/16 [00:24<00:00,  1.54s/it]\n",
      "100%|██████████| 17/17 [00:27<00:00,  1.59s/it]\n",
      "100%|██████████| 14/14 [00:21<00:00,  1.52s/it]\n",
      "100%|██████████| 14/14 [00:20<00:00,  1.48s/it]\n",
      "100%|██████████| 13/13 [00:19<00:00,  1.48s/it]\n",
      "100%|██████████| 14/14 [00:21<00:00,  1.52s/it]\n",
      "100%|██████████| 19/19 [00:30<00:00,  1.60s/it]\n",
      "100%|██████████| 16/16 [00:24<00:00,  1.53s/it]\n",
      "100%|██████████| 15/15 [00:22<00:00,  1.52s/it]\n",
      "100%|██████████| 15/15 [00:23<00:00,  1.53s/it]\n",
      "100%|██████████| 15/15 [00:22<00:00,  1.52s/it]\n",
      "100%|██████████| 15/15 [00:23<00:00,  1.56s/it]\n",
      "100%|██████████| 15/15 [00:23<00:00,  1.56s/it]\n",
      "100%|██████████| 15/15 [00:22<00:00,  1.52s/it]\n",
      " 94%|█████████▍| 16/17 [00:25<00:01,  1.57s/it]\n",
      "100%|██████████| 16/16 [00:24<00:00,  1.55s/it]\n",
      "100%|██████████| 14/14 [00:18<00:00,  1.35s/it]\n",
      "100%|██████████| 14/14 [00:19<00:00,  1.36s/it]\n",
      "100%|██████████| 15/15 [00:20<00:00,  1.35s/it]\n",
      "100%|██████████| 14/14 [00:18<00:00,  1.34s/it]\n",
      "100%|██████████| 15/15 [00:20<00:00,  1.37s/it]\n",
      "100%|██████████| 15/15 [00:20<00:00,  1.35s/it]\n",
      "100%|██████████| 15/15 [00:20<00:00,  1.37s/it]\n",
      "100%|██████████| 15/15 [00:20<00:00,  1.37s/it]\n",
      "100%|██████████| 16/16 [00:21<00:00,  1.37s/it]\n",
      "100%|██████████| 16/16 [00:21<00:00,  1.36s/it]\n",
      "100%|██████████| 16/16 [00:22<00:00,  1.38s/it]\n",
      "100%|██████████| 16/16 [00:22<00:00,  1.38s/it]\n",
      "100%|██████████| 14/14 [00:19<00:00,  1.36s/it]\n",
      "100%|██████████| 14/14 [00:18<00:00,  1.36s/it]\n",
      "100%|██████████| 15/15 [00:20<00:00,  1.39s/it]\n",
      "100%|██████████| 14/14 [00:18<00:00,  1.34s/it]\n",
      "100%|██████████| 14/14 [00:19<00:00,  1.39s/it]\n",
      "100%|██████████| 14/14 [00:19<00:00,  1.37s/it]\n",
      "100%|██████████| 14/14 [00:19<00:00,  1.40s/it]\n",
      "100%|██████████| 15/15 [00:20<00:00,  1.37s/it]\n",
      "100%|██████████| 15/15 [00:21<00:00,  1.42s/it]\n",
      "100%|██████████| 15/15 [00:21<00:00,  1.40s/it]\n",
      "100%|██████████| 14/14 [00:19<00:00,  1.36s/it]\n",
      "100%|██████████| 15/15 [00:21<00:00,  1.44s/it]\n",
      "100%|██████████| 14/14 [00:19<00:00,  1.41s/it]\n",
      "100%|██████████| 15/15 [00:20<00:00,  1.36s/it]\n",
      "100%|██████████| 14/14 [00:19<00:00,  1.37s/it]\n",
      "100%|██████████| 14/14 [00:22<00:00,  1.59s/it]\n",
      "100%|██████████| 14/14 [00:22<00:00,  1.58s/it]\n",
      "100%|██████████| 14/14 [00:22<00:00,  1.61s/it]\n",
      "100%|██████████| 15/15 [00:21<00:00,  1.40s/it]\n",
      "100%|██████████| 15/15 [00:21<00:00,  1.41s/it]\n",
      "100%|██████████| 15/15 [00:22<00:00,  1.49s/it]\n",
      "100%|██████████| 15/15 [00:24<00:00,  1.66s/it]\n",
      "100%|██████████| 15/15 [00:21<00:00,  1.47s/it]\n",
      "100%|██████████| 15/15 [00:20<00:00,  1.39s/it]\n",
      "100%|██████████| 14/14 [00:18<00:00,  1.36s/it]\n",
      "100%|██████████| 14/14 [00:19<00:00,  1.37s/it]\n",
      "100%|██████████| 14/14 [00:18<00:00,  1.36s/it]\n",
      "100%|██████████| 14/14 [00:18<00:00,  1.35s/it]\n",
      "100%|██████████| 15/15 [00:20<00:00,  1.35s/it]\n",
      "100%|██████████| 14/14 [00:19<00:00,  1.37s/it]\n",
      "100%|██████████| 14/14 [00:19<00:00,  1.37s/it]\n",
      "100%|██████████| 14/14 [00:18<00:00,  1.34s/it]\n",
      "100%|██████████| 14/14 [00:18<00:00,  1.33s/it]\n",
      "100%|██████████| 14/14 [00:18<00:00,  1.35s/it]\n",
      "100%|██████████| 15/15 [00:20<00:00,  1.38s/it]\n",
      "100%|██████████| 15/15 [00:29<00:00,  1.95s/it]\n",
      "100%|██████████| 16/16 [00:26<00:00,  1.64s/it]\n",
      "100%|██████████| 16/16 [00:24<00:00,  1.51s/it]\n"
     ]
    }
   ],
   "source": [
    "# feature extraction - AUs\n",
    "\n",
    "feats, label = [], []\n",
    "\n",
    "for dir in os.listdir(DATA_PATH):\n",
    "    # iterate over files\n",
    "    for f in os.listdir(os.path.join(DATA_PATH, dir))[ : 50]:\n",
    "\n",
    "        feats.append(extract_visual(os.path.join(DATA_PATH, dir, f), skip=8))\n",
    "        # fetch label\n",
    "        label.append(int(f.split('-')[2]))\n"
   ]
  },
  {
   "cell_type": "code",
   "execution_count": 12,
   "metadata": {},
   "outputs": [],
   "source": [
    "np.save(os.path.join(DATA_PATH, \"feat\"), np.array(feats))\n",
    "\n",
    "np.save(os.path.join(DATA_PATH, \"label\"), np.array(label))\n"
   ]
  },
  {
   "cell_type": "code",
   "execution_count": 16,
   "metadata": {},
   "outputs": [],
   "source": [
    "import opensmile\n",
    "\n",
    "smile = opensmile.Smile(\n",
    "    feature_set=opensmile.FeatureSet.ComParE_2016,  # emobase\n",
    "    feature_level=opensmile.FeatureLevel.Functionals,\n",
    ")\n"
   ]
  },
  {
   "cell_type": "code",
   "execution_count": 17,
   "metadata": {},
   "outputs": [
    {
     "data": {
      "text/plain": [
       "(1, 6373)"
      ]
     },
     "execution_count": 17,
     "metadata": {},
     "output_type": "execute_result"
    }
   ],
   "source": [
    "feat_i = smile.process_file(os.path.join(BASE_PATH, DATA_PATH, \"Actor_01/03-01-01-01-01-01-01.wav\"))\n",
    "\n",
    "feat_i.shape"
   ]
  },
  {
   "cell_type": "code",
   "execution_count": 5,
   "metadata": {},
   "outputs": [],
   "source": [
    "# feat_i = feat_i.loc[:, ~feat_i.columns.isin(['file', 'start', 'end'])]\n",
    "\n",
    "feat_i = feat_i.values.tolist()[0]"
   ]
  },
  {
   "cell_type": "code",
   "execution_count": 24,
   "metadata": {},
   "outputs": [],
   "source": [
    "import librosa\n",
    "\n",
    "def extract_mfcc(path, mfcc=True):\n",
    "    '''extract MFCC'''\n",
    "    x, sample_rate = librosa.load(path)\n",
    "    \n",
    "    if mfcc:\n",
    "        mfccs=np.mean(librosa.feature.mfcc(y=x, sr=sample_rate, n_mfcc=120).T, axis=0)\n",
    "        result=np.hstack((mfccs))\n",
    "\n",
    "        return result\n",
    "    else:\n",
    "        return None\n",
    "\n",
    "\n",
    "def extract_librosa_features(path):\n",
    "    '''extract stack of features'''\n",
    "    x, sample_rate = librosa.load(path)\n",
    "\n",
    "    hop_length = 512  # set hop length; at 22050 Hz, 512 samples ~= 23ms\n",
    "\n",
    "    # remove vocals\n",
    "    d = librosa.stft(x, hop_length=hop_length)\n",
    "    s_full, phase = librosa.magphase(d)\n",
    "\n",
    "    s_filter = librosa.decompose.nn_filter(s_full, aggregate=np.median, metric='cosine',\n",
    "                                           width=int(librosa.time_to_frames(0.2, sr=sample_rate)))\n",
    "\n",
    "    s_filter = np.minimum(s_full, s_filter)\n",
    "\n",
    "    power, margin_v = 2, 4\n",
    "\n",
    "    mask_v = librosa.util.softmask(s_full - s_filter, margin_v * s_filter, power=power)\n",
    "    s_foreground = mask_v * s_full\n",
    "\n",
    "    # recreate vocal_removal y\n",
    "    new_d = s_foreground * phase\n",
    "    x = librosa.istft(new_d)\n",
    "\n",
    "    mfcc = librosa.feature.mfcc(y=x, sr=sample_rate, n_mfcc=13)  # MFCC features from raw\n",
    "    mfcc_delta = librosa.feature.delta(mfcc)  # first-order differences (delta features)\n",
    "\n",
    "    s = librosa.feature.melspectrogram(y=x, sr=sample_rate, n_mels=128, fmax=8000)\n",
    "    s_delta = librosa.feature.delta(s)\n",
    "\n",
    "    spectral_centroid = librosa.feature.spectral_centroid(S=s_full)\n",
    "\n",
    "    audio_feature = np.vstack((mfcc, mfcc_delta, s, s_delta, spectral_centroid))  # combine features\n",
    "\n",
    "    # binning data\n",
    "    jump = int(audio_feature.shape[1] / 10)\n",
    "    return np.mean(librosa.util.sync(audio_feature, range(1, audio_feature.shape[1], jump)).T, axis=0)  # mean\n"
   ]
  },
  {
   "cell_type": "code",
   "execution_count": 25,
   "metadata": {},
   "outputs": [],
   "source": [
    "feat_i = extract_librosa_features(os.path.join(BASE_PATH, DATA_PATH, \"Actor_01/03-01-01-01-01-01-01.wav\"))"
   ]
  },
  {
   "cell_type": "code",
   "execution_count": 26,
   "metadata": {},
   "outputs": [
    {
     "data": {
      "text/plain": [
       "(283,)"
      ]
     },
     "execution_count": 26,
     "metadata": {},
     "output_type": "execute_result"
    }
   ],
   "source": [
    "feat_i.shape"
   ]
  },
  {
   "attachments": {},
   "cell_type": "markdown",
   "metadata": {},
   "source": [
    "main: set up a script to extract action units, mel-frequency cepstral coefficients and low-level acoustic features from ryerson dataset\n",
    "\n",
    "script: pynb/w8/extract.py"
   ]
  },
  {
   "cell_type": "code",
   "execution_count": null,
   "metadata": {},
   "outputs": [],
   "source": []
  }
 ],
 "metadata": {
  "kernelspec": {
   "display_name": "speech",
   "language": "python",
   "name": "python3"
  },
  "language_info": {
   "codemirror_mode": {
    "name": "ipython",
    "version": 3
   },
   "file_extension": ".py",
   "mimetype": "text/x-python",
   "name": "python",
   "nbconvert_exporter": "python",
   "pygments_lexer": "ipython3",
   "version": "3.11.3"
  },
  "orig_nbformat": 4
 },
 "nbformat": 4,
 "nbformat_minor": 2
}
